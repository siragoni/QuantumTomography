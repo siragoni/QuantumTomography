{
 "cells": [
  {
   "cell_type": "markdown",
   "metadata": {},
   "source": [
    "# Quantum Tomography analysis\n",
    "\n",
    "This is the analysis code to measure the polarisation of a vector meson using Quantum Tomography."
   ]
  },
  {
   "cell_type": "code",
   "execution_count": 1,
   "metadata": {
    "scrolled": true
   },
   "outputs": [],
   "source": [
    "import os\n",
    "import sys\n",
    "import warnings\n",
    "import matplotlib.pyplot as plt\n",
    "import pickle\n",
    "import uproot\n",
    "import numpy as np\n",
    "import pandas as pd\n",
    "# import xgboost as xgb\n",
    "import sklearn\n",
    "\n",
    "sys.path.insert(0, '../')\n",
    "# import analysis_utils as au\n",
    "\n",
    "# avoid pandas warning\n",
    "warnings.simplefilter(action='ignore', category=FutureWarning)"
   ]
  },
  {
   "cell_type": "markdown",
   "metadata": {},
   "source": [
    "## A few infos on the libraries\n",
    "\n",
    "### uproot\n",
    "\n",
    "uproot is a Python package that provides tools for reading/writing ROOT files using Python and Numpy (does not depend on ROOT) and is primarly intended to stream data into machine learning libraries in Python.\n",
    "\n",
    "We use uproot for reading and converting ROOT Trees into ***pandas*** **DataFrame**.\n",
    "For more details: https://github.com/scikit-hep/uproot."
   ]
  },
  {
   "cell_type": "markdown",
   "metadata": {},
   "source": [
    "Now we load our data using uproot: signal and background for the training of the models and the unknown data on which we would like to have the model predictions"
   ]
  },
  {
   "cell_type": "code",
   "execution_count": 2,
   "metadata": {
    "scrolled": false
   },
   "outputs": [],
   "source": [
    "# datatree = uproot.open('AnalysisResults.root')['Data']\n",
    "# datatree = uproot.open('MC/AnalysisResultsCohJpsi_GridTest.root')['MyTask/fOutputTreeMC']\n",
    "# datatree = uproot.open('MC/AnalysisResultsCohJpsiLocal.root')['MyTask/fOutputTreeMC']\n",
    "# datatree = uproot.open('MC/AnalysisResultsCohJpsiLocal.root')['MyTask/fOutputTree']\n",
    "# datatree = uproot.open('MC/AnalysisResultsCohJpsiLPLocal.root')['MyTask/fOutputTree']\n",
    "# datatree = uproot.open('MC/AnalysisResultsGammaGammaMediumLocal.root')['MyTask/fOutputTree']\n",
    "# datatree = uproot.open('MC/AnalysisResultsLHC18q_QT.root')['Data']\n",
    "# datatree = uproot.open('MC/AnalysisResultsLHC18r_QT.root')['Data']\n",
    "datatree = uproot.open('MC/AnalysisResultsLHC15o_QT.root')['Data']"
   ]
  },
  {
   "cell_type": "code",
   "execution_count": 3,
   "metadata": {
    "scrolled": true
   },
   "outputs": [
    {
     "data": {
      "text/plain": [
       "[b'fInvariantMassDimuon',\n",
       " b'fRapidityDimuon',\n",
       " b'fPtDimuon',\n",
       " b'fRapiditySingleMuon_0',\n",
       " b'fPtSingleMuon_0',\n",
       " b'fPhiSingleMuon_0',\n",
       " b'fRapiditySingleMuon_1',\n",
       " b'fPtSingleMuon_1',\n",
       " b'fPhiSingleMuon_1',\n",
       " b'fPxSingleMuon_0',\n",
       " b'fPySingleMuon_0',\n",
       " b'fPzSingleMuon_0',\n",
       " b'fEnergySingleMuon_0',\n",
       " b'fPxSingleMuon_1',\n",
       " b'fPySingleMuon_1',\n",
       " b'fPzSingleMuon_1',\n",
       " b'fEnergySingleMuon_1']"
      ]
     },
     "execution_count": 3,
     "metadata": {},
     "output_type": "execute_result"
    }
   ],
   "source": [
    "datatree.keys()\n",
    "# IncohMC_std_gener.keys()\n",
    "# background_treeMine.keys()\n",
    "# data_treeMine.keys()"
   ]
  },
  {
   "cell_type": "code",
   "execution_count": 4,
   "metadata": {
    "scrolled": true
   },
   "outputs": [],
   "source": [
    "data_df = datatree.pandas.df()"
   ]
  },
  {
   "cell_type": "code",
   "execution_count": 5,
   "metadata": {
    "scrolled": true
   },
   "outputs": [
    {
     "data": {
      "text/plain": [
       "21341"
      ]
     },
     "execution_count": 5,
     "metadata": {},
     "output_type": "execute_result"
    }
   ],
   "source": [
    "len(data_df.index)"
   ]
  },
  {
   "cell_type": "code",
   "execution_count": 6,
   "metadata": {
    "scrolled": true
   },
   "outputs": [
    {
     "data": {
      "text/plain": [
       "21341"
      ]
     },
     "execution_count": 6,
     "metadata": {},
     "output_type": "execute_result"
    }
   ],
   "source": [
    "generatedevents = len(data_df.index)\n",
    "generatedevents"
   ]
  },
  {
   "cell_type": "code",
   "execution_count": 11,
   "metadata": {},
   "outputs": [
    {
     "data": {
      "text/plain": [
       "<matplotlib.axes._subplots.AxesSubplot at 0xa2550ba90>"
      ]
     },
     "execution_count": 11,
     "metadata": {},
     "output_type": "execute_result"
    },
    {
     "data": {
      "image/png": "[encoded data removed]",
      "text/plain": [
       "<Figure size 432x288 with 1 Axes>"
      ]
     },
     "metadata": {
      "needs_background": "light"
     },
     "output_type": "display_data"
    }
   ],
   "source": [
    "data_df['fRapiditySingleMuon_0'].plot.hist(bins=100, alpha=0.6)\n"
   ]
  },
  {
   "cell_type": "code",
   "execution_count": 17,
   "metadata": {},
   "outputs": [
    {
     "data": {
      "text/html": [
       "<div>\n",
       "<style scoped>\n",
       "    .dataframe tbody tr th:only-of-type {\n",
       "        vertical-align: middle;\n",
       "    }\n",
       "\n",
       "    .dataframe tbody tr th {\n",
       "        vertical-align: top;\n",
       "    }\n",
       "\n",
       "    .dataframe thead th {\n",
       "        text-align: right;\n",
       "    }\n",
       "</style>\n",
       "<table border=\"1\" class=\"dataframe\">\n",
       "  <thead>\n",
       "    <tr style=\"text-align: right;\">\n",
       "      <th></th>\n",
       "      <th>fInvariantMassDimuon</th>\n",
       "      <th>fRapidityDimuon</th>\n",
       "      <th>fPtDimuon</th>\n",
       "      <th>fRapiditySingleMuon_0</th>\n",
       "      <th>fPtSingleMuon_0</th>\n",
       "      <th>fPhiSingleMuon_0</th>\n",
       "      <th>fRapiditySingleMuon_1</th>\n",
       "      <th>fPtSingleMuon_1</th>\n",
       "      <th>fPhiSingleMuon_1</th>\n",
       "      <th>fPxSingleMuon_0</th>\n",
       "      <th>fPySingleMuon_0</th>\n",
       "      <th>fPzSingleMuon_0</th>\n",
       "      <th>fEnergySingleMuon_0</th>\n",
       "      <th>fPxSingleMuon_1</th>\n",
       "      <th>fPySingleMuon_1</th>\n",
       "      <th>fPzSingleMuon_1</th>\n",
       "      <th>fEnergySingleMuon_1</th>\n",
       "      <th>RapDimuon</th>\n",
       "    </tr>\n",
       "    <tr>\n",
       "      <th>entry</th>\n",
       "      <th></th>\n",
       "      <th></th>\n",
       "      <th></th>\n",
       "      <th></th>\n",
       "      <th></th>\n",
       "      <th></th>\n",
       "      <th></th>\n",
       "      <th></th>\n",
       "      <th></th>\n",
       "      <th></th>\n",
       "      <th></th>\n",
       "      <th></th>\n",
       "      <th></th>\n",
       "      <th></th>\n",
       "      <th></th>\n",
       "      <th></th>\n",
       "      <th></th>\n",
       "      <th></th>\n",
       "    </tr>\n",
       "  </thead>\n",
       "  <tbody>\n",
       "    <tr>\n",
       "      <td>0</td>\n",
       "      <td>3.123686</td>\n",
       "      <td>-3.230601</td>\n",
       "      <td>0.113070</td>\n",
       "      <td>-3.202027</td>\n",
       "      <td>1.603052</td>\n",
       "      <td>1.301547</td>\n",
       "      <td>-3.265556</td>\n",
       "      <td>1.513957</td>\n",
       "      <td>4.398447</td>\n",
       "      <td>0.426425</td>\n",
       "      <td>1.545296</td>\n",
       "      <td>-19.670760</td>\n",
       "      <td>19.736254</td>\n",
       "      <td>-0.467526</td>\n",
       "      <td>-1.439960</td>\n",
       "      <td>-19.799905</td>\n",
       "      <td>19.857982</td>\n",
       "      <td>-3.230601</td>\n",
       "    </tr>\n",
       "    <tr>\n",
       "      <td>1</td>\n",
       "      <td>3.098192</td>\n",
       "      <td>-3.654333</td>\n",
       "      <td>0.109067</td>\n",
       "      <td>-3.335872</td>\n",
       "      <td>1.425750</td>\n",
       "      <td>2.862891</td>\n",
       "      <td>-3.958225</td>\n",
       "      <td>1.522518</td>\n",
       "      <td>6.038635</td>\n",
       "      <td>-1.370736</td>\n",
       "      <td>0.392234</td>\n",
       "      <td>-20.008471</td>\n",
       "      <td>20.059483</td>\n",
       "      <td>1.477218</td>\n",
       "      <td>-0.368632</td>\n",
       "      <td>-39.848262</td>\n",
       "      <td>39.877477</td>\n",
       "      <td>-3.654333</td>\n",
       "    </tr>\n",
       "    <tr>\n",
       "      <td>2</td>\n",
       "      <td>4.522394</td>\n",
       "      <td>-3.283714</td>\n",
       "      <td>0.579136</td>\n",
       "      <td>-3.361368</td>\n",
       "      <td>2.551885</td>\n",
       "      <td>3.387287</td>\n",
       "      <td>-3.186520</td>\n",
       "      <td>1.985236</td>\n",
       "      <td>0.298845</td>\n",
       "      <td>-2.475248</td>\n",
       "      <td>-0.620695</td>\n",
       "      <td>-36.739361</td>\n",
       "      <td>36.828032</td>\n",
       "      <td>1.897245</td>\n",
       "      <td>0.584487</td>\n",
       "      <td>-23.984375</td>\n",
       "      <td>24.066627</td>\n",
       "      <td>-3.283714</td>\n",
       "    </tr>\n",
       "    <tr>\n",
       "      <td>3</td>\n",
       "      <td>2.054497</td>\n",
       "      <td>-3.907499</td>\n",
       "      <td>0.024180</td>\n",
       "      <td>-3.858667</td>\n",
       "      <td>1.029313</td>\n",
       "      <td>4.428421</td>\n",
       "      <td>-3.967939</td>\n",
       "      <td>1.011362</td>\n",
       "      <td>1.302707</td>\n",
       "      <td>-0.288379</td>\n",
       "      <td>-0.988090</td>\n",
       "      <td>-24.384959</td>\n",
       "      <td>24.406902</td>\n",
       "      <td>0.267899</td>\n",
       "      <td>0.975235</td>\n",
       "      <td>-26.728523</td>\n",
       "      <td>26.747859</td>\n",
       "      <td>-3.907499</td>\n",
       "    </tr>\n",
       "    <tr>\n",
       "      <td>4</td>\n",
       "      <td>3.037787</td>\n",
       "      <td>-2.658734</td>\n",
       "      <td>0.066820</td>\n",
       "      <td>-2.508330</td>\n",
       "      <td>1.466076</td>\n",
       "      <td>0.481293</td>\n",
       "      <td>-2.807619</td>\n",
       "      <td>1.531267</td>\n",
       "      <td>3.632671</td>\n",
       "      <td>1.299525</td>\n",
       "      <td>0.678684</td>\n",
       "      <td>-8.945254</td>\n",
       "      <td>9.065214</td>\n",
       "      <td>-1.350309</td>\n",
       "      <td>-0.722111</td>\n",
       "      <td>-12.640668</td>\n",
       "      <td>12.733516</td>\n",
       "      <td>-2.658734</td>\n",
       "    </tr>\n",
       "    <tr>\n",
       "      <td>...</td>\n",
       "      <td>...</td>\n",
       "      <td>...</td>\n",
       "      <td>...</td>\n",
       "      <td>...</td>\n",
       "      <td>...</td>\n",
       "      <td>...</td>\n",
       "      <td>...</td>\n",
       "      <td>...</td>\n",
       "      <td>...</td>\n",
       "      <td>...</td>\n",
       "      <td>...</td>\n",
       "      <td>...</td>\n",
       "      <td>...</td>\n",
       "      <td>...</td>\n",
       "      <td>...</td>\n",
       "      <td>...</td>\n",
       "      <td>...</td>\n",
       "      <td>...</td>\n",
       "    </tr>\n",
       "    <tr>\n",
       "      <td>21336</td>\n",
       "      <td>2.272984</td>\n",
       "      <td>-2.952893</td>\n",
       "      <td>0.072006</td>\n",
       "      <td>-3.123786</td>\n",
       "      <td>1.083577</td>\n",
       "      <td>2.250013</td>\n",
       "      <td>-2.800486</td>\n",
       "      <td>1.151303</td>\n",
       "      <td>5.369712</td>\n",
       "      <td>-0.680685</td>\n",
       "      <td>0.843093</td>\n",
       "      <td>-12.292251</td>\n",
       "      <td>12.340371</td>\n",
       "      <td>0.703446</td>\n",
       "      <td>-0.911406</td>\n",
       "      <td>-9.435995</td>\n",
       "      <td>9.506559</td>\n",
       "      <td>-2.952893</td>\n",
       "    </tr>\n",
       "    <tr>\n",
       "      <td>21337</td>\n",
       "      <td>2.817354</td>\n",
       "      <td>-2.626659</td>\n",
       "      <td>0.120189</td>\n",
       "      <td>-2.759661</td>\n",
       "      <td>1.336734</td>\n",
       "      <td>2.906441</td>\n",
       "      <td>-2.509668</td>\n",
       "      <td>1.453413</td>\n",
       "      <td>6.068719</td>\n",
       "      <td>-1.299945</td>\n",
       "      <td>0.311447</td>\n",
       "      <td>-10.514200</td>\n",
       "      <td>10.599359</td>\n",
       "      <td>1.420116</td>\n",
       "      <td>-0.309324</td>\n",
       "      <td>-8.880024</td>\n",
       "      <td>8.998800</td>\n",
       "      <td>-2.626659</td>\n",
       "    </tr>\n",
       "    <tr>\n",
       "      <td>21338</td>\n",
       "      <td>2.577551</td>\n",
       "      <td>-3.507101</td>\n",
       "      <td>0.152681</td>\n",
       "      <td>-3.877741</td>\n",
       "      <td>1.264963</td>\n",
       "      <td>3.347634</td>\n",
       "      <td>-3.101208</td>\n",
       "      <td>1.124800</td>\n",
       "      <td>0.155279</td>\n",
       "      <td>-1.238207</td>\n",
       "      <td>-0.258795</td>\n",
       "      <td>-30.545229</td>\n",
       "      <td>30.571593</td>\n",
       "      <td>1.111267</td>\n",
       "      <td>0.173957</td>\n",
       "      <td>-12.473904</td>\n",
       "      <td>12.524960</td>\n",
       "      <td>-3.507101</td>\n",
       "    </tr>\n",
       "    <tr>\n",
       "      <td>21339</td>\n",
       "      <td>3.650827</td>\n",
       "      <td>-2.742143</td>\n",
       "      <td>0.111779</td>\n",
       "      <td>-2.956062</td>\n",
       "      <td>1.810560</td>\n",
       "      <td>3.425226</td>\n",
       "      <td>-2.524795</td>\n",
       "      <td>1.752395</td>\n",
       "      <td>0.337228</td>\n",
       "      <td>-1.738219</td>\n",
       "      <td>-0.506677</td>\n",
       "      <td>-17.354316</td>\n",
       "      <td>17.448828</td>\n",
       "      <td>1.653692</td>\n",
       "      <td>0.579819</td>\n",
       "      <td>-10.872081</td>\n",
       "      <td>11.012910</td>\n",
       "      <td>-2.742143</td>\n",
       "    </tr>\n",
       "    <tr>\n",
       "      <td>21340</td>\n",
       "      <td>2.343100</td>\n",
       "      <td>-3.197395</td>\n",
       "      <td>0.066526</td>\n",
       "      <td>-3.267221</td>\n",
       "      <td>1.183768</td>\n",
       "      <td>3.460268</td>\n",
       "      <td>-3.133565</td>\n",
       "      <td>1.145464</td>\n",
       "      <td>0.365389</td>\n",
       "      <td>-1.124167</td>\n",
       "      <td>-0.370885</td>\n",
       "      <td>-15.507485</td>\n",
       "      <td>15.552960</td>\n",
       "      <td>1.069846</td>\n",
       "      <td>0.409289</td>\n",
       "      <td>-13.122492</td>\n",
       "      <td>13.172815</td>\n",
       "      <td>-3.197395</td>\n",
       "    </tr>\n",
       "  </tbody>\n",
       "</table>\n",
       "<p>21341 rows × 18 columns</p>\n",
       "</div>"
      ],
      "text/plain": [
       "       fInvariantMassDimuon  fRapidityDimuon  fPtDimuon  \\\n",
       "entry                                                     \n",
       "0                  3.123686        -3.230601   0.113070   \n",
       "1                  3.098192        -3.654333   0.109067   \n",
       "2                  4.522394        -3.283714   0.579136   \n",
       "3                  2.054497        -3.907499   0.024180   \n",
       "4                  3.037787        -2.658734   0.066820   \n",
       "...                     ...              ...        ...   \n",
       "21336              2.272984        -2.952893   0.072006   \n",
       "21337              2.817354        -2.626659   0.120189   \n",
       "21338              2.577551        -3.507101   0.152681   \n",
       "21339              3.650827        -2.742143   0.111779   \n",
       "21340              2.343100        -3.197395   0.066526   \n",
       "\n",
       "       fRapiditySingleMuon_0  fPtSingleMuon_0  fPhiSingleMuon_0  \\\n",
       "entry                                                             \n",
       "0                  -3.202027         1.603052          1.301547   \n",
       "1                  -3.335872         1.425750          2.862891   \n",
       "2                  -3.361368         2.551885          3.387287   \n",
       "3                  -3.858667         1.029313          4.428421   \n",
       "4                  -2.508330         1.466076          0.481293   \n",
       "...                      ...              ...               ...   \n",
       "21336              -3.123786         1.083577          2.250013   \n",
       "21337              -2.759661         1.336734          2.906441   \n",
       "21338              -3.877741         1.264963          3.347634   \n",
       "21339              -2.956062         1.810560          3.425226   \n",
       "21340              -3.267221         1.183768          3.460268   \n",
       "\n",
       "       fRapiditySingleMuon_1  fPtSingleMuon_1  fPhiSingleMuon_1  \\\n",
       "entry                                                             \n",
       "0                  -3.265556         1.513957          4.398447   \n",
       "1                  -3.958225         1.522518          6.038635   \n",
       "2                  -3.186520         1.985236          0.298845   \n",
       "3                  -3.967939         1.011362          1.302707   \n",
       "4                  -2.807619         1.531267          3.632671   \n",
       "...                      ...              ...               ...   \n",
       "21336              -2.800486         1.151303          5.369712   \n",
       "21337              -2.509668         1.453413          6.068719   \n",
       "21338              -3.101208         1.124800          0.155279   \n",
       "21339              -2.524795         1.752395          0.337228   \n",
       "21340              -3.133565         1.145464          0.365389   \n",
       "\n",
       "       fPxSingleMuon_0  fPySingleMuon_0  fPzSingleMuon_0  fEnergySingleMuon_0  \\\n",
       "entry                                                                           \n",
       "0             0.426425         1.545296       -19.670760            19.736254   \n",
       "1            -1.370736         0.392234       -20.008471            20.059483   \n",
       "2            -2.475248        -0.620695       -36.739361            36.828032   \n",
       "3            -0.288379        -0.988090       -24.384959            24.406902   \n",
       "4             1.299525         0.678684        -8.945254             9.065214   \n",
       "...                ...              ...              ...                  ...   \n",
       "21336        -0.680685         0.843093       -12.292251            12.340371   \n",
       "21337        -1.299945         0.311447       -10.514200            10.599359   \n",
       "21338        -1.238207        -0.258795       -30.545229            30.571593   \n",
       "21339        -1.738219        -0.506677       -17.354316            17.448828   \n",
       "21340        -1.124167        -0.370885       -15.507485            15.552960   \n",
       "\n",
       "       fPxSingleMuon_1  fPySingleMuon_1  fPzSingleMuon_1  fEnergySingleMuon_1  \\\n",
       "entry                                                                           \n",
       "0            -0.467526        -1.439960       -19.799905            19.857982   \n",
       "1             1.477218        -0.368632       -39.848262            39.877477   \n",
       "2             1.897245         0.584487       -23.984375            24.066627   \n",
       "3             0.267899         0.975235       -26.728523            26.747859   \n",
       "4            -1.350309        -0.722111       -12.640668            12.733516   \n",
       "...                ...              ...              ...                  ...   \n",
       "21336         0.703446        -0.911406        -9.435995             9.506559   \n",
       "21337         1.420116        -0.309324        -8.880024             8.998800   \n",
       "21338         1.111267         0.173957       -12.473904            12.524960   \n",
       "21339         1.653692         0.579819       -10.872081            11.012910   \n",
       "21340         1.069846         0.409289       -13.122492            13.172815   \n",
       "\n",
       "       RapDimuon  \n",
       "entry             \n",
       "0      -3.230601  \n",
       "1      -3.654333  \n",
       "2      -3.283714  \n",
       "3      -3.907499  \n",
       "4      -2.658734  \n",
       "...          ...  \n",
       "21336  -2.952893  \n",
       "21337  -2.626659  \n",
       "21338  -3.507101  \n",
       "21339  -2.742143  \n",
       "21340  -3.197395  \n",
       "\n",
       "[21341 rows x 18 columns]"
      ]
     },
     "execution_count": 17,
     "metadata": {},
     "output_type": "execute_result"
    }
   ],
   "source": [
    "data_df['RapDimuon'] = data_df.apply(lambda x: RapidityDimuon(x['fPxSingleMuon_0'], x['fPySingleMuon_0'], x['fPzSingleMuon_0'], x['fEnergySingleMuon_0'], x['fPxSingleMuon_1'], x['fPySingleMuon_1'], x['fPzSingleMuon_1'],  x['fEnergySingleMuon_1']   ), axis=1)\n",
    "data_df"
   ]
  },
  {
   "cell_type": "code",
   "execution_count": 22,
   "metadata": {},
   "outputs": [
    {
     "data": {
      "text/html": [
       "<div>\n",
       "<style scoped>\n",
       "    .dataframe tbody tr th:only-of-type {\n",
       "        vertical-align: middle;\n",
       "    }\n",
       "\n",
       "    .dataframe tbody tr th {\n",
       "        vertical-align: top;\n",
       "    }\n",
       "\n",
       "    .dataframe thead th {\n",
       "        text-align: right;\n",
       "    }\n",
       "</style>\n",
       "<table border=\"1\" class=\"dataframe\">\n",
       "  <thead>\n",
       "    <tr style=\"text-align: right;\">\n",
       "      <th></th>\n",
       "      <th>fInvariantMassDimuon</th>\n",
       "      <th>fRapidityDimuon</th>\n",
       "      <th>fPtDimuon</th>\n",
       "      <th>fRapiditySingleMuon_0</th>\n",
       "      <th>fPtSingleMuon_0</th>\n",
       "      <th>fPhiSingleMuon_0</th>\n",
       "      <th>fRapiditySingleMuon_1</th>\n",
       "      <th>fPtSingleMuon_1</th>\n",
       "      <th>fPhiSingleMuon_1</th>\n",
       "      <th>fPxSingleMuon_0</th>\n",
       "      <th>fPySingleMuon_0</th>\n",
       "      <th>fPzSingleMuon_0</th>\n",
       "      <th>fEnergySingleMuon_0</th>\n",
       "      <th>fPxSingleMuon_1</th>\n",
       "      <th>fPySingleMuon_1</th>\n",
       "      <th>fPzSingleMuon_1</th>\n",
       "      <th>fEnergySingleMuon_1</th>\n",
       "      <th>RapDimuon</th>\n",
       "      <th>ThetaSingleMuon_0</th>\n",
       "    </tr>\n",
       "    <tr>\n",
       "      <th>entry</th>\n",
       "      <th></th>\n",
       "      <th></th>\n",
       "      <th></th>\n",
       "      <th></th>\n",
       "      <th></th>\n",
       "      <th></th>\n",
       "      <th></th>\n",
       "      <th></th>\n",
       "      <th></th>\n",
       "      <th></th>\n",
       "      <th></th>\n",
       "      <th></th>\n",
       "      <th></th>\n",
       "      <th></th>\n",
       "      <th></th>\n",
       "      <th></th>\n",
       "      <th></th>\n",
       "      <th></th>\n",
       "      <th></th>\n",
       "    </tr>\n",
       "  </thead>\n",
       "  <tbody>\n",
       "    <tr>\n",
       "      <td>0</td>\n",
       "      <td>3.123686</td>\n",
       "      <td>-3.230601</td>\n",
       "      <td>0.113070</td>\n",
       "      <td>-3.202027</td>\n",
       "      <td>1.603052</td>\n",
       "      <td>1.301547</td>\n",
       "      <td>-3.265556</td>\n",
       "      <td>1.513957</td>\n",
       "      <td>4.398447</td>\n",
       "      <td>0.426425</td>\n",
       "      <td>1.545296</td>\n",
       "      <td>-19.670760</td>\n",
       "      <td>19.736254</td>\n",
       "      <td>-0.467526</td>\n",
       "      <td>-1.439960</td>\n",
       "      <td>-19.799905</td>\n",
       "      <td>19.857982</td>\n",
       "      <td>-3.230601</td>\n",
       "      <td>3.060278</td>\n",
       "    </tr>\n",
       "    <tr>\n",
       "      <td>1</td>\n",
       "      <td>3.098192</td>\n",
       "      <td>-3.654333</td>\n",
       "      <td>0.109067</td>\n",
       "      <td>-3.335872</td>\n",
       "      <td>1.425750</td>\n",
       "      <td>2.862891</td>\n",
       "      <td>-3.958225</td>\n",
       "      <td>1.522518</td>\n",
       "      <td>6.038635</td>\n",
       "      <td>-1.370736</td>\n",
       "      <td>0.392234</td>\n",
       "      <td>-20.008471</td>\n",
       "      <td>20.059483</td>\n",
       "      <td>1.477218</td>\n",
       "      <td>-0.368632</td>\n",
       "      <td>-39.848262</td>\n",
       "      <td>39.877477</td>\n",
       "      <td>-3.654333</td>\n",
       "      <td>3.070456</td>\n",
       "    </tr>\n",
       "    <tr>\n",
       "      <td>2</td>\n",
       "      <td>4.522394</td>\n",
       "      <td>-3.283714</td>\n",
       "      <td>0.579136</td>\n",
       "      <td>-3.361368</td>\n",
       "      <td>2.551885</td>\n",
       "      <td>3.387287</td>\n",
       "      <td>-3.186520</td>\n",
       "      <td>1.985236</td>\n",
       "      <td>0.298845</td>\n",
       "      <td>-2.475248</td>\n",
       "      <td>-0.620695</td>\n",
       "      <td>-36.739361</td>\n",
       "      <td>36.828032</td>\n",
       "      <td>1.897245</td>\n",
       "      <td>0.584487</td>\n",
       "      <td>-23.984375</td>\n",
       "      <td>24.066627</td>\n",
       "      <td>-3.283714</td>\n",
       "      <td>3.072245</td>\n",
       "    </tr>\n",
       "    <tr>\n",
       "      <td>3</td>\n",
       "      <td>2.054497</td>\n",
       "      <td>-3.907499</td>\n",
       "      <td>0.024180</td>\n",
       "      <td>-3.858667</td>\n",
       "      <td>1.029313</td>\n",
       "      <td>4.428421</td>\n",
       "      <td>-3.967939</td>\n",
       "      <td>1.011362</td>\n",
       "      <td>1.302707</td>\n",
       "      <td>-0.288379</td>\n",
       "      <td>-0.988090</td>\n",
       "      <td>-24.384959</td>\n",
       "      <td>24.406902</td>\n",
       "      <td>0.267899</td>\n",
       "      <td>0.975235</td>\n",
       "      <td>-26.728523</td>\n",
       "      <td>26.747859</td>\n",
       "      <td>-3.907499</td>\n",
       "      <td>3.099407</td>\n",
       "    </tr>\n",
       "    <tr>\n",
       "      <td>4</td>\n",
       "      <td>3.037787</td>\n",
       "      <td>-2.658734</td>\n",
       "      <td>0.066820</td>\n",
       "      <td>-2.508330</td>\n",
       "      <td>1.466076</td>\n",
       "      <td>0.481293</td>\n",
       "      <td>-2.807619</td>\n",
       "      <td>1.531267</td>\n",
       "      <td>3.632671</td>\n",
       "      <td>1.299525</td>\n",
       "      <td>0.678684</td>\n",
       "      <td>-8.945254</td>\n",
       "      <td>9.065214</td>\n",
       "      <td>-1.350309</td>\n",
       "      <td>-0.722111</td>\n",
       "      <td>-12.640668</td>\n",
       "      <td>12.733516</td>\n",
       "      <td>-2.658734</td>\n",
       "      <td>2.979143</td>\n",
       "    </tr>\n",
       "    <tr>\n",
       "      <td>...</td>\n",
       "      <td>...</td>\n",
       "      <td>...</td>\n",
       "      <td>...</td>\n",
       "      <td>...</td>\n",
       "      <td>...</td>\n",
       "      <td>...</td>\n",
       "      <td>...</td>\n",
       "      <td>...</td>\n",
       "      <td>...</td>\n",
       "      <td>...</td>\n",
       "      <td>...</td>\n",
       "      <td>...</td>\n",
       "      <td>...</td>\n",
       "      <td>...</td>\n",
       "      <td>...</td>\n",
       "      <td>...</td>\n",
       "      <td>...</td>\n",
       "      <td>...</td>\n",
       "      <td>...</td>\n",
       "    </tr>\n",
       "    <tr>\n",
       "      <td>21336</td>\n",
       "      <td>2.272984</td>\n",
       "      <td>-2.952893</td>\n",
       "      <td>0.072006</td>\n",
       "      <td>-3.123786</td>\n",
       "      <td>1.083577</td>\n",
       "      <td>2.250013</td>\n",
       "      <td>-2.800486</td>\n",
       "      <td>1.151303</td>\n",
       "      <td>5.369712</td>\n",
       "      <td>-0.680685</td>\n",
       "      <td>0.843093</td>\n",
       "      <td>-12.292251</td>\n",
       "      <td>12.340371</td>\n",
       "      <td>0.703446</td>\n",
       "      <td>-0.911406</td>\n",
       "      <td>-9.435995</td>\n",
       "      <td>9.506559</td>\n",
       "      <td>-2.952893</td>\n",
       "      <td>3.053669</td>\n",
       "    </tr>\n",
       "    <tr>\n",
       "      <td>21337</td>\n",
       "      <td>2.817354</td>\n",
       "      <td>-2.626659</td>\n",
       "      <td>0.120189</td>\n",
       "      <td>-2.759661</td>\n",
       "      <td>1.336734</td>\n",
       "      <td>2.906441</td>\n",
       "      <td>-2.509668</td>\n",
       "      <td>1.453413</td>\n",
       "      <td>6.068719</td>\n",
       "      <td>-1.299945</td>\n",
       "      <td>0.311447</td>\n",
       "      <td>-10.514200</td>\n",
       "      <td>10.599359</td>\n",
       "      <td>1.420116</td>\n",
       "      <td>-0.309324</td>\n",
       "      <td>-8.880024</td>\n",
       "      <td>8.998800</td>\n",
       "      <td>-2.626659</td>\n",
       "      <td>3.015135</td>\n",
       "    </tr>\n",
       "    <tr>\n",
       "      <td>21338</td>\n",
       "      <td>2.577551</td>\n",
       "      <td>-3.507101</td>\n",
       "      <td>0.152681</td>\n",
       "      <td>-3.877741</td>\n",
       "      <td>1.264963</td>\n",
       "      <td>3.347634</td>\n",
       "      <td>-3.101208</td>\n",
       "      <td>1.124800</td>\n",
       "      <td>0.155279</td>\n",
       "      <td>-1.238207</td>\n",
       "      <td>-0.258795</td>\n",
       "      <td>-30.545229</td>\n",
       "      <td>30.571593</td>\n",
       "      <td>1.111267</td>\n",
       "      <td>0.173957</td>\n",
       "      <td>-12.473904</td>\n",
       "      <td>12.524960</td>\n",
       "      <td>-3.507101</td>\n",
       "      <td>3.100204</td>\n",
       "    </tr>\n",
       "    <tr>\n",
       "      <td>21339</td>\n",
       "      <td>3.650827</td>\n",
       "      <td>-2.742143</td>\n",
       "      <td>0.111779</td>\n",
       "      <td>-2.956062</td>\n",
       "      <td>1.810560</td>\n",
       "      <td>3.425226</td>\n",
       "      <td>-2.524795</td>\n",
       "      <td>1.752395</td>\n",
       "      <td>0.337228</td>\n",
       "      <td>-1.738219</td>\n",
       "      <td>-0.506677</td>\n",
       "      <td>-17.354316</td>\n",
       "      <td>17.448828</td>\n",
       "      <td>1.653692</td>\n",
       "      <td>0.579819</td>\n",
       "      <td>-10.872081</td>\n",
       "      <td>11.012910</td>\n",
       "      <td>-2.742143</td>\n",
       "      <td>3.037640</td>\n",
       "    </tr>\n",
       "    <tr>\n",
       "      <td>21340</td>\n",
       "      <td>2.343100</td>\n",
       "      <td>-3.197395</td>\n",
       "      <td>0.066526</td>\n",
       "      <td>-3.267221</td>\n",
       "      <td>1.183768</td>\n",
       "      <td>3.460268</td>\n",
       "      <td>-3.133565</td>\n",
       "      <td>1.145464</td>\n",
       "      <td>0.365389</td>\n",
       "      <td>-1.124167</td>\n",
       "      <td>-0.370885</td>\n",
       "      <td>-15.507485</td>\n",
       "      <td>15.552960</td>\n",
       "      <td>1.069846</td>\n",
       "      <td>0.409289</td>\n",
       "      <td>-13.122492</td>\n",
       "      <td>13.172815</td>\n",
       "      <td>-3.197395</td>\n",
       "      <td>3.065405</td>\n",
       "    </tr>\n",
       "  </tbody>\n",
       "</table>\n",
       "<p>21341 rows × 19 columns</p>\n",
       "</div>"
      ],
      "text/plain": [
       "       fInvariantMassDimuon  fRapidityDimuon  fPtDimuon  \\\n",
       "entry                                                     \n",
       "0                  3.123686        -3.230601   0.113070   \n",
       "1                  3.098192        -3.654333   0.109067   \n",
       "2                  4.522394        -3.283714   0.579136   \n",
       "3                  2.054497        -3.907499   0.024180   \n",
       "4                  3.037787        -2.658734   0.066820   \n",
       "...                     ...              ...        ...   \n",
       "21336              2.272984        -2.952893   0.072006   \n",
       "21337              2.817354        -2.626659   0.120189   \n",
       "21338              2.577551        -3.507101   0.152681   \n",
       "21339              3.650827        -2.742143   0.111779   \n",
       "21340              2.343100        -3.197395   0.066526   \n",
       "\n",
       "       fRapiditySingleMuon_0  fPtSingleMuon_0  fPhiSingleMuon_0  \\\n",
       "entry                                                             \n",
       "0                  -3.202027         1.603052          1.301547   \n",
       "1                  -3.335872         1.425750          2.862891   \n",
       "2                  -3.361368         2.551885          3.387287   \n",
       "3                  -3.858667         1.029313          4.428421   \n",
       "4                  -2.508330         1.466076          0.481293   \n",
       "...                      ...              ...               ...   \n",
       "21336              -3.123786         1.083577          2.250013   \n",
       "21337              -2.759661         1.336734          2.906441   \n",
       "21338              -3.877741         1.264963          3.347634   \n",
       "21339              -2.956062         1.810560          3.425226   \n",
       "21340              -3.267221         1.183768          3.460268   \n",
       "\n",
       "       fRapiditySingleMuon_1  fPtSingleMuon_1  fPhiSingleMuon_1  \\\n",
       "entry                                                             \n",
       "0                  -3.265556         1.513957          4.398447   \n",
       "1                  -3.958225         1.522518          6.038635   \n",
       "2                  -3.186520         1.985236          0.298845   \n",
       "3                  -3.967939         1.011362          1.302707   \n",
       "4                  -2.807619         1.531267          3.632671   \n",
       "...                      ...              ...               ...   \n",
       "21336              -2.800486         1.151303          5.369712   \n",
       "21337              -2.509668         1.453413          6.068719   \n",
       "21338              -3.101208         1.124800          0.155279   \n",
       "21339              -2.524795         1.752395          0.337228   \n",
       "21340              -3.133565         1.145464          0.365389   \n",
       "\n",
       "       fPxSingleMuon_0  fPySingleMuon_0  fPzSingleMuon_0  fEnergySingleMuon_0  \\\n",
       "entry                                                                           \n",
       "0             0.426425         1.545296       -19.670760            19.736254   \n",
       "1            -1.370736         0.392234       -20.008471            20.059483   \n",
       "2            -2.475248        -0.620695       -36.739361            36.828032   \n",
       "3            -0.288379        -0.988090       -24.384959            24.406902   \n",
       "4             1.299525         0.678684        -8.945254             9.065214   \n",
       "...                ...              ...              ...                  ...   \n",
       "21336        -0.680685         0.843093       -12.292251            12.340371   \n",
       "21337        -1.299945         0.311447       -10.514200            10.599359   \n",
       "21338        -1.238207        -0.258795       -30.545229            30.571593   \n",
       "21339        -1.738219        -0.506677       -17.354316            17.448828   \n",
       "21340        -1.124167        -0.370885       -15.507485            15.552960   \n",
       "\n",
       "       fPxSingleMuon_1  fPySingleMuon_1  fPzSingleMuon_1  fEnergySingleMuon_1  \\\n",
       "entry                                                                           \n",
       "0            -0.467526        -1.439960       -19.799905            19.857982   \n",
       "1             1.477218        -0.368632       -39.848262            39.877477   \n",
       "2             1.897245         0.584487       -23.984375            24.066627   \n",
       "3             0.267899         0.975235       -26.728523            26.747859   \n",
       "4            -1.350309        -0.722111       -12.640668            12.733516   \n",
       "...                ...              ...              ...                  ...   \n",
       "21336         0.703446        -0.911406        -9.435995             9.506559   \n",
       "21337         1.420116        -0.309324        -8.880024             8.998800   \n",
       "21338         1.111267         0.173957       -12.473904            12.524960   \n",
       "21339         1.653692         0.579819       -10.872081            11.012910   \n",
       "21340         1.069846         0.409289       -13.122492            13.172815   \n",
       "\n",
       "       RapDimuon  ThetaSingleMuon_0  \n",
       "entry                                \n",
       "0      -3.230601           3.060278  \n",
       "1      -3.654333           3.070456  \n",
       "2      -3.283714           3.072245  \n",
       "3      -3.907499           3.099407  \n",
       "4      -2.658734           2.979143  \n",
       "...          ...                ...  \n",
       "21336  -2.952893           3.053669  \n",
       "21337  -2.626659           3.015135  \n",
       "21338  -3.507101           3.100204  \n",
       "21339  -2.742143           3.037640  \n",
       "21340  -3.197395           3.065405  \n",
       "\n",
       "[21341 rows x 19 columns]"
      ]
     },
     "execution_count": 22,
     "metadata": {},
     "output_type": "execute_result"
    }
   ],
   "source": [
    "data_df['ThetaSingleMuon_0'] = data_df.apply(lambda x: RapToTheta(x['fRapiditySingleMuon_0']), axis=1)\n",
    "data_df"
   ]
  },
  {
   "cell_type": "code",
   "execution_count": 20,
   "metadata": {},
   "outputs": [
    {
     "data": {
      "text/plain": [
       "<matplotlib.axes._subplots.AxesSubplot at 0xa27d8ecd0>"
      ]
     },
     "execution_count": 20,
     "metadata": {},
     "output_type": "execute_result"
    },
    {
     "data": {
      "image/png": "[encoded data removed]",
      "text/plain": [
       "<Figure size 432x288 with 1 Axes>"
      ]
     },
     "metadata": {
      "needs_background": "light"
     },
     "output_type": "display_data"
    }
   ],
   "source": [
    "df_applycuts = data_df.query('fInvariantMassDimuon < 3.3 & fInvariantMassDimuon > 2.9 & RapDimuon < -2.5 & RapDimuon > -4.0 & fPtDimuon < 0.2 ')\n",
    "\n",
    "df_applycuts['fPhiSingleMuon_0'].plot.hist(bins=100, alpha=0.6)\n"
   ]
  },
  {
   "cell_type": "code",
   "execution_count": 24,
   "metadata": {},
   "outputs": [
    {
     "data": {
      "text/plain": [
       "<matplotlib.axes._subplots.AxesSubplot at 0xa2c0dfb50>"
      ]
     },
     "execution_count": 24,
     "metadata": {},
     "output_type": "execute_result"
    },
    {
     "data": {
      "image/png": "[encoded data removed]",
      "text/plain": [
       "<Figure size 432x288 with 1 Axes>"
      ]
     },
     "metadata": {
      "needs_background": "light"
     },
     "output_type": "display_data"
    }
   ],
   "source": [
    "df_applycuts['fRapiditySingleMuon_1'].plot.hist(bins=100, alpha=0.6)\n"
   ]
  },
  {
   "cell_type": "code",
   "execution_count": 25,
   "metadata": {},
   "outputs": [
    {
     "ename": "SyntaxError",
     "evalue": "invalid syntax (<ipython-input-25-676f432dcb02>, line 4)",
     "output_type": "error",
     "traceback": [
      "\u001b[0;36m  File \u001b[0;32m\"<ipython-input-25-676f432dcb02>\"\u001b[0;36m, line \u001b[0;32m4\u001b[0m\n\u001b[0;31m    df_applycuts['fRapiditySingleMuon_1'].to_string(header = False, index = False)\u001b[0m\n\u001b[0m               ^\u001b[0m\n\u001b[0;31mSyntaxError\u001b[0m\u001b[0;31m:\u001b[0m invalid syntax\n"
     ]
    }
   ],
   "source": [
    "with open(\"Rapidity15o.txt\", 'a') as f:\n",
    "    f.write(\n",
    "        df_applycuts['fRapiditySingleMuon_0'].to_string(header = False, index = False)\n",
    "        df_applycuts['fRapiditySingleMuon_1'].to_string(header = False, index = False)\n",
    "    )\n",
    "\n",
    "    \n",
    "with open(\"PhiSingle15o.txt\", 'a') as f:\n",
    "    f.write(\n",
    "        df_applycuts['fPhiSingleMuon_0'].to_string(header = False, index = False)\n",
    "        df_applycuts['fPhiSingleMuon_1'].to_string(header = False, index = False)\n",
    "    )\n",
    "    "
   ]
  },
  {
   "cell_type": "markdown",
   "metadata": {},
   "source": [
    "## Four-momentum logic"
   ]
  },
  {
   "cell_type": "code",
   "execution_count": 7,
   "metadata": {
    "scrolled": true
   },
   "outputs": [],
   "source": [
    "import skhep\n",
    "from skhep import math\n",
    "\n",
    "\n",
    "# Levi-Civita symbol\n",
    "import sympy\n",
    "from sympy import LeviCivita"
   ]
  },
  {
   "cell_type": "code",
   "execution_count": 12,
   "metadata": {},
   "outputs": [
    {
     "name": "stdout",
     "output_type": "stream",
     "text": [
      "Help on class LorentzVector in module skhep.math.vectors:\n",
      "\n",
      "class LorentzVector(builtins.object)\n",
      " |  LorentzVector(x=0.0, y=0.0, z=0.0, t=0.0)\n",
      " |  \n",
      " |  Class representing a Lorentz vector,\n",
      " |  either a 4-dimensional Minkowski space-time vector or a 4-momentum vector.\n",
      " |  The 4-vector components can be seen as (x,y,z,t) or (px,py,pz,E).\n",
      " |  \n",
      " |  Constructors:\n",
      " |      __init__(x=0., y=0., z=0., t=0.)\n",
      " |      from4vector(avector)\n",
      " |      from3vector(vector3d, t)\n",
      " |  \n",
      " |  Methods defined here:\n",
      " |  \n",
      " |  __add__(self, other)\n",
      " |      Addition with another LorentzVector, i.e. self+other.\n",
      " |  \n",
      " |  __div__ = __truediv__(self, number)\n",
      " |  \n",
      " |  __eq__(self, other)\n",
      " |      Equality to another LorentzVector, or, equality to zero.\n",
      " |      \n",
      " |      Example\n",
      " |      -------\n",
      " |      >>> v1 = ...\n",
      " |      >>> v2 = ...\n",
      " |      >>> print v1 == v2\n",
      " |      >>> print v1 == 0\n",
      " |  \n",
      " |  __getitem__(self, i)\n",
      " |      Get the ith vector component (commencing at 0, of course).\n",
      " |  \n",
      " |  __iadd__(self, other)\n",
      " |      (self)Addition with another LorentzVector, i.e. self+other.\n",
      " |      \n",
      " |      Example\n",
      " |      -------\n",
      " |      >>> v1  = ...\n",
      " |      >>> v2  = ...\n",
      " |      >>> v1 += v2\n",
      " |  \n",
      " |  __idiv__ = __itruediv__(self, number)\n",
      " |  \n",
      " |  __imul__(self, other)\n",
      " |      Scaling of the Lorentz vector with a number.\n",
      " |      \n",
      " |      Example\n",
      " |      -------\n",
      " |      >>> v = ...\n",
      " |      >>> v *= 2\n",
      " |  \n",
      " |  __init__(self, x=0.0, y=0.0, z=0.0, t=0.0)\n",
      " |      Default constructor.\n",
      " |      \n",
      " |      Example\n",
      " |      -------\n",
      " |      >>> v1 = LorentzVector()\n",
      " |      >>> v1\n",
      " |  \n",
      " |  __isub__(self, other)\n",
      " |      (self)Subtraction with another LorentzVector, i.e. self+other.\n",
      " |      \n",
      " |      Example\n",
      " |      -------\n",
      " |      >>> v1  = ...\n",
      " |      >>> v2  = ...\n",
      " |      >>> v1 -= v2\n",
      " |  \n",
      " |  __iter__(self)\n",
      " |      Iterator implementation for the Lorentz vector components.\n",
      " |  \n",
      " |  __itruediv__(self, number)\n",
      " |      Scaling of the Lorentz vector with a number.\n",
      " |      \n",
      " |      Example\n",
      " |      -------\n",
      " |      >>> v  = ...\n",
      " |      >>> v /= 2\n",
      " |  \n",
      " |  __len__(self)\n",
      " |      Length of the LorentzVector, i.e. the number of elements = 4.\n",
      " |  \n",
      " |  __mul__(self, other)\n",
      " |      Multiplication of the LorentzVector by either another LorentzVector or a number.\n",
      " |      Multiplication of two LorentzVector is equivalent to the dot product, see dot(...).\n",
      " |      \n",
      " |      Example\n",
      " |      -------\n",
      " |      >>> v2 = v1 * 2\n",
      " |      >>> number = v1 * v3\n",
      " |  \n",
      " |  __ne__(self, other)\n",
      " |      Non-equality to another Lorentz vector.\n",
      " |      \n",
      " |      Example\n",
      " |      -------\n",
      " |      >>> v1 = ...\n",
      " |      >>> v2 = ...\n",
      " |      >>> print v1 != v2\n",
      " |  \n",
      " |  __repr__(self)\n",
      " |      Class representation.\n",
      " |  \n",
      " |  __rmul__(self, other)\n",
      " |      Right multiplication of the LorentzVector by either another LorentzVector or a number.\n",
      " |  \n",
      " |  __setitem__(self, i, value)\n",
      " |      Update/set the ith vector component (commencing at 0, of course).\n",
      " |  \n",
      " |  __str__(self)\n",
      " |      Simple class representation.\n",
      " |  \n",
      " |  __sub__(self, other)\n",
      " |      Subtraction with another LorentzVector, i.e. self-other.\n",
      " |  \n",
      " |  __truediv__(self, number)\n",
      " |      Division of the LorentzVector by a number.\n",
      " |  \n",
      " |  boost(self, *args)\n",
      " |      Apply a Lorentz boost on the Lorentz vector.\n",
      " |  \n",
      " |  copy(self)\n",
      " |      Get a copy of the LorentzVector.\n",
      " |      \n",
      " |      Example\n",
      " |      -------\n",
      " |      >>> v = ...\n",
      " |      >>> v1 = v.copy()\n",
      " |  \n",
      " |  costheta(self)\n",
      " |      Return the cosinus of the spherical coordinate theta.\n",
      " |  \n",
      " |  deltaeta(self, other)\n",
      " |      Return the pseudorapidity difference, :math:`\\Delta \\eta`, with another Lorentz vector.\n",
      " |  \n",
      " |  deltaphi(self, other)\n",
      " |      Return the phi angle difference, :math:`\\Delta \\phi`, with another Lorentz vector.\n",
      " |  \n",
      " |  deltar(self, other)\n",
      " |      Return :math:`\\Delta R` the distance in (eta,phi) space with another Lorentz vector, defined as:\n",
      " |      :math:`\\Delta R = \\sqrt{(\\Delta \\eta)^2 + (\\Delta \\phi)^2}`\n",
      " |  \n",
      " |  dot(self, other)\n",
      " |      Dot product with another Lorentz vector.\n",
      " |  \n",
      " |  islightlike(self)\n",
      " |      Check if Lorentz Vector is light-like.\n",
      " |  \n",
      " |  isspacelike(self)\n",
      " |      Check if Lorentz Vector is space-like.\n",
      " |  \n",
      " |  istimelike(self)\n",
      " |      Check if Lorentz Vector is time-like.\n",
      " |  \n",
      " |  phi(self, deg=False)\n",
      " |      Return the spherical or cylindrical coordinate phi.\n",
      " |      \n",
      " |      Parameters\n",
      " |      ----------\n",
      " |      deg : float, optional\n",
      " |          Return the angle in degrees (default is radians).\n",
      " |  \n",
      " |  rotate(self, angle, *args)\n",
      " |      Rotate vector by a given angle (in radians) around a given axis.\n",
      " |  \n",
      " |  rotatex(self, angle)\n",
      " |      Rotate vector by a given angle (in radians) around the x axis.\n",
      " |  \n",
      " |  rotatey(self, angle)\n",
      " |      Rotate vector by a given angle (in radians) around the y axis.\n",
      " |  \n",
      " |  rotatez(self, angle)\n",
      " |      Rotate vector by a given angle (in radians) around the z axis.\n",
      " |  \n",
      " |  set(self, x, y, z, t)\n",
      " |      Update/set all components at once.\n",
      " |  \n",
      " |  setptetaphie(self, pt, eta, phi, e)\n",
      " |      Set the transverse momentum, the pseudorapidity, the angle phi and the energy.\n",
      " |  \n",
      " |  setptetaphim(self, pt, eta, phi, m)\n",
      " |      Set the transverse momentum, the pseudorapidity, the angle phi and the mass.\n",
      " |  \n",
      " |  setpxpypze(self, px, py, pz, e)\n",
      " |      Set the px,py,pz components and the energy.\n",
      " |  \n",
      " |  setpxpypzm(self, px, py, pz, m)\n",
      " |      Set the px,py,pz components and the mass.\n",
      " |  \n",
      " |  theta(self, deg=False)\n",
      " |      Return the spherical coordinate theta.\n",
      " |      \n",
      " |      Parameters\n",
      " |      ----------\n",
      " |      deg : float, optional\n",
      " |          Return the angle in degrees (default is radians).\n",
      " |  \n",
      " |  tolist(self)\n",
      " |      Return the LorentzVector as a list.\n",
      " |  \n",
      " |  ----------------------------------------------------------------------\n",
      " |  Class methods defined here:\n",
      " |  \n",
      " |  from3vector(vector3d, t) from builtins.type\n",
      " |      Constructor from a Vector3D and the time/energy component.\n",
      " |  \n",
      " |  from4vector(other) from builtins.type\n",
      " |      Copy constructor.\n",
      " |  \n",
      " |  fromiterable(values) from builtins.type\n",
      " |      Constructor from a suitable iterable object.\n",
      " |      Suitable means here that all entries are numbers\n",
      " |      and the length equals 4.\n",
      " |  \n",
      " |  ----------------------------------------------------------------------\n",
      " |  Data descriptors defined here:\n",
      " |  \n",
      " |  __dict__\n",
      " |      dictionary for instance variables (if defined)\n",
      " |  \n",
      " |  __weakref__\n",
      " |      list of weak references to the object (if defined)\n",
      " |  \n",
      " |  beta\n",
      " |      Return :math:`\\beta = v/c`.\n",
      " |  \n",
      " |  boostvector\n",
      " |      Return the spatial component divided by the time component.\n",
      " |  \n",
      " |  e\n",
      " |      Return the energy/time component, aka momentum coordinate at position 3.\n",
      " |  \n",
      " |  et\n",
      " |      Return the transverse energy.\n",
      " |  \n",
      " |  eta\n",
      " |      Return the pseudorapidity.\n",
      " |  \n",
      " |  gamma\n",
      " |      Return :math:`\\gamma = 1/\\sqrt{1-\\beta^2}`.\n",
      " |  \n",
      " |  m\n",
      " |      Return the invariant mass.\n",
      " |  \n",
      " |  m2\n",
      " |      Return the square of the invariant mass.\n",
      " |  \n",
      " |  mag\n",
      " |      Magnitude, a.k.a. norm, of the Lorentz vector.\n",
      " |  \n",
      " |  mag2\n",
      " |      Square of the magnitude, a.k.a. norm, of the Lorentz vector.\n",
      " |  \n",
      " |  mass\n",
      " |      Return the invariant mass.\n",
      " |  \n",
      " |  mass2\n",
      " |      Return the square of the invariant mass.\n",
      " |  \n",
      " |  mt\n",
      " |      Return the transverse mass.\n",
      " |  \n",
      " |  mt2\n",
      " |      Return the square of the transverse mass.\n",
      " |  \n",
      " |  p\n",
      " |      Return the momentum, aka norm of the momentum vector.\n",
      " |  \n",
      " |  perp\n",
      " |      Transverse component of the spatial components.\n",
      " |  \n",
      " |  perp2\n",
      " |      Square of the transverse component, in the (x,y) plane, of the spatial components.\n",
      " |  \n",
      " |  pseudorapidity\n",
      " |      \"Return the pseudorapidity. Alternative to eta() method.\n",
      " |  \n",
      " |  pt\n",
      " |      Return the transverse momentum, aka transverse component of the momentum vector.\n",
      " |  \n",
      " |  px\n",
      " |      Return the Vector3D coordinate px, aka first momentum coordinate at position 0.\n",
      " |  \n",
      " |  py\n",
      " |      Return the Vector3D coordinate px, aka second momentum coordinate at position 1.\n",
      " |  \n",
      " |  pz\n",
      " |      Return the Vector3D coordinate pz, aka third momentum coordinate at position 2.\n",
      " |  \n",
      " |  rapidity\n",
      " |      Return the rapidity.\n",
      " |  \n",
      " |  t\n",
      " |      Return the time/energy component, aka coordinate at position 3.\n",
      " |  \n",
      " |  transversemass\n",
      " |      Return the transverse mass.\n",
      " |  \n",
      " |  transversemass2\n",
      " |      Return the square of the transverse mass.\n",
      " |  \n",
      " |  vector\n",
      " |      Return a copy of the vector of spatial components.\n",
      " |  \n",
      " |  x\n",
      " |      Return the coordinate x, aka first coordinate at position 0.\n",
      " |  \n",
      " |  y\n",
      " |      Return the coordinate x, aka second coordinate at position 1.\n",
      " |  \n",
      " |  z\n",
      " |      Return the coordinate z, aka third coordinate at position 2.\n",
      " |  \n",
      " |  ----------------------------------------------------------------------\n",
      " |  Data and other attributes defined here:\n",
      " |  \n",
      " |  __hash__ = None\n",
      "\n"
     ]
    }
   ],
   "source": [
    "help(math.LorentzVector)"
   ]
  },
  {
   "cell_type": "markdown",
   "metadata": {},
   "source": [
    "Quantum tomography works by defining three coordinate axes in a Lorentz-invariant approach.\n",
    "\n",
    "Using \\\\( k_+^\\mu \\\\), \\\\(k_-^\\mu \\\\) for the positive and the negative muon, respectively, we construct the vector meson 4-vector \\\\( Q^\\mu \\\\) as:\n",
    "\n",
    "\\\\[ Q^\\mu = k_+^\\mu + k_-^\\mu \\\\]\n",
    "\n",
    "If \\\\( p_A^\\mu, p_B^\\mu \\\\) are the two beams, the three axes \\\\( X^\\mu, Y^\\mu, Z^\\mu \\\\) are defined as:\n",
    "\n",
    "\\\\[ Z^\\mu = p_A^\\mu  Q{\\cdot}p_B - p_B^\\mu Q{\\cdot}p_A \\\\]\n",
    "\n",
    "\\\\[ Y^\\mu = \\epsilon^{\\mu\\nu\\alpha\\beta}p_{A \\nu}p_{B \\alpha}Q_\\beta \\\\]\n",
    "\n",
    "\\\\[ X^\\mu = Q^\\mu - p_A^\\mu \\frac{Q^2}{2Q{\\cdot}p_A} - p_B^\\mu \\frac{Q^2}{2Q{\\cdot}p_B} \\\\]\n",
    "\n",
    "\n",
    "\n"
   ]
  },
  {
   "cell_type": "code",
   "execution_count": null,
   "metadata": {
    "scrolled": true
   },
   "outputs": [],
   "source": [
    "# def InvariantMass( px1, py1, pz1, E1, px2, py2, pz2, E2 ):\n",
    "    \n",
    "#     positiveMuon  = math.LorentzVector(px1, py1, pz1, E1)\n",
    "#     negativeMuon  = math.LorentzVector(px2, py2, pz2, E2)\n",
    "#     Q             = positiveMuon + negativeMuon\n",
    "    \n",
    "#     return math.sqrt(-Q.dot(Q))\n"
   ]
  },
  {
   "cell_type": "code",
   "execution_count": null,
   "metadata": {
    "scrolled": true
   },
   "outputs": [],
   "source": [
    "# data_df['InvMass'] = data_df.apply(lambda x: CosThetaTrueCollinsSoper(x['fTrkPx1'], x['fTrkPy1'], x['fTrkPz1'], x['fTrkE1'], x['fTrkPx2'], x['fTrkPy2'], x['fTrkPz2'],  x['fTrkE2']   ), axis=1)\n"
   ]
  },
  {
   "cell_type": "code",
   "execution_count": 21,
   "metadata": {},
   "outputs": [],
   "source": [
    "def RapToTheta( rapidity ):\n",
    "    \n",
    "    expNegativeRap = np.exp(-rapidity)\n",
    "    \n",
    "    return 2*np.arctan(expNegativeRap)\n",
    "\n",
    "\n"
   ]
  },
  {
   "cell_type": "code",
   "execution_count": 16,
   "metadata": {},
   "outputs": [],
   "source": [
    "def RapidityDimuon( px1, py1, pz1, E1, px2, py2, pz2, E2 ):\n",
    "    \n",
    "    positiveMuon  = math.LorentzVector(px1, py1, pz1, E1)\n",
    "    negativeMuon  = math.LorentzVector(px2, py2, pz2, E2)\n",
    "    Q             = positiveMuon + negativeMuon\n",
    "    \n",
    "    return Q.rapidity\n"
   ]
  },
  {
   "cell_type": "code",
   "execution_count": null,
   "metadata": {
    "scrolled": true
   },
   "outputs": [],
   "source": [
    "def CosThetaTrueCollinsSoper( px1, py1, pz1, E1, px2, py2, pz2, E2 ):\n",
    "    \n",
    "    positiveMuon  = math.LorentzVector(px1, py1, pz1, E1)\n",
    "    negativeMuon  = math.LorentzVector(px2, py2, pz2, E2)\n",
    "    Q             = positiveMuon + negativeMuon\n",
    "    \n",
    "    \n",
    "    # Beam coordinates     \n",
    "\n",
    "    HalfSqrtSnn   = 2510.\n",
    "    MassOfLead208 = 193.6823\n",
    "    MomentumBeam  = math.sqrt( HalfSqrtSnn*HalfSqrtSnn*208*208 - MassOfLead208*MassOfLead208 )\n",
    "    \n",
    "    pA            = math.LorentzVector( 0, 0,-1, 1 )\n",
    "    pB            = math.LorentzVector( 0, 0, 1, 1 )\n",
    "#     pA            = math.LorentzVector( 0, 0,-MomentumBeam, HalfSqrtSnn*208 )\n",
    "#     pB            = math.LorentzVector( 0, 0, MomentumBeam, HalfSqrtSnn*208 )\n",
    "\n",
    "    \n",
    "    # Z axis\n",
    "    \n",
    "    z       = pA * (Q.dot(pB)) - pB * (Q.dot(pA))\n",
    "#     NormOfz = z.mag\n",
    "    NormOfz = math.sqrt(-z.dot(z))\n",
    "    zhat    = math.LorentzVector( z.px / NormOfz, z.py / NormOfz, z.pz / NormOfz, z.e / NormOfz )\n",
    "    \n",
    "\n",
    "    # X axis\n",
    "    \n",
    "    x       = Q - pA*(Q.mag2 / ( 2.*( Q.dot(pA)) ) ) - pB*(Q.mag2 / ( 2.*( Q.dot(pB)) ) );\n",
    "#     NormOfx = x.mag\n",
    "    NormOfx = math.sqrt(-x.dot(x))\n",
    "    xhat    = math.LorentzVector( x.px / NormOfx, x.py / NormOfx, x.pz / NormOfx, x.e / NormOfx )\n",
    "\n",
    "    \n",
    "    # Y axis\n",
    "    \n",
    "#     pAlower = [ 0, 0, 1, 1 ]\n",
    "#     pBlower = [ 0, 0,-1, 1 ]\n",
    "    pAlower = [ 0, 0, MomentumBeam, HalfSqrtSnn*208 ]\n",
    "    pBlower = [ 0, 0,-MomentumBeam, HalfSqrtSnn*208 ]\n",
    "    Qlower  = [ -Q.px, -Q.py, -Q.pz, -Q.e ]\n",
    "#     print(Qlower)\n",
    "    ComponentsY = [0,0,0,0]\n",
    "#     print(LeviCivita(0,1,2,3))\n",
    "    for mu in range(0,4):\n",
    "        for nu in range(0,4):\n",
    "            for alpha in range(0,4):\n",
    "                for beta in range(0,4):\n",
    "                    tensor = LeviCivita(mu, nu, alpha, beta) \n",
    "                    ComponentsY[mu] += tensor*pAlower[nu]*pBlower[alpha]*Qlower[beta]\n",
    "    y       = math.LorentzVector(ComponentsY[0], ComponentsY[1], ComponentsY[2], ComponentsY[3])\n",
    "#     NormOfy = y.mag\n",
    "    NormOfy = math.sqrt(-y.dot(y))\n",
    "    yhat    = math.LorentzVector( y.px / NormOfy, y.py / NormOfy, y.pz / NormOfy, y.e / NormOfy )\n",
    "\n",
    "    \n",
    "    # Orthogonality check\n",
    "    \n",
    "#     print( \"X  = \", x )\n",
    "#     print( \"Y  = \", y )\n",
    "#     print( \"Z  = \", z )\n",
    "#     print( \"Xh = \", xhat )\n",
    "#     print( \"Yh = \", yhat )\n",
    "#     print( \"Zh = \", zhat )\n",
    "#     print( \"XY = \", xhat.dot(yhat) )\n",
    "#     print( \"XZ = \", xhat.dot(zhat) )\n",
    "#     print( \"YZ = \", yhat.dot(zhat) )\n",
    "#     print( \"ZQ = \", zhat.dot(Q)    )\n",
    "    \n",
    "    \n",
    "    # Lepton momentum difference\n",
    "    \n",
    "    diff       = positiveMuon - negativeMuon\n",
    "#     NormOfdiff = diff.mag\n",
    "    NormOfdiff = math.sqrt(-diff.dot(diff))\n",
    "    diffhat    = math.LorentzVector( diff.px / NormOfdiff, diff.py / NormOfdiff, diff.pz / NormOfdiff, diff.e / NormOfdiff )\n",
    "    \n",
    "    \n",
    "    # Computing the angles\n",
    "    cosThetaCS       = zhat.dot(diffhat)\n",
    "    SinThetaCosPhiCS = xhat.dot(diffhat)\n",
    "    SinThetaSinPhiCS = yhat.dot(diffhat)\n",
    "\n",
    "\n",
    "\n",
    "    SinThetaCS       = math.sqrt( 1 - cosThetaCS*cosThetaCS );\n",
    "#     PhiCS            = math.acos( SinThetaCosPhiCS / SinThetaCS );\n",
    "\n",
    "\n",
    "    return cosThetaCS\n",
    "\n",
    "    "
   ]
  },
  {
   "cell_type": "code",
   "execution_count": null,
   "metadata": {
    "scrolled": false
   },
   "outputs": [],
   "source": [
    "help(math.atan2)"
   ]
  },
  {
   "cell_type": "code",
   "execution_count": null,
   "metadata": {
    "scrolled": true
   },
   "outputs": [],
   "source": [
    "def PhiTrueCollinsSoper( px1, py1, pz1, E1, px2, py2, pz2, E2 ):\n",
    "    \n",
    "    positiveMuon  = math.LorentzVector(px1, py1, pz1, E1)\n",
    "    negativeMuon  = math.LorentzVector(px2, py2, pz2, E2)\n",
    "    Q             = positiveMuon + negativeMuon\n",
    "    \n",
    "    \n",
    "    # Beam coordinates     \n",
    "\n",
    "    HalfSqrtSnn   = 2510.\n",
    "    MassOfLead208 = 193.6823\n",
    "    MomentumBeam  = math.sqrt( HalfSqrtSnn*HalfSqrtSnn*208*208 - MassOfLead208*MassOfLead208 )\n",
    "    \n",
    "#     pA            = math.LorentzVector( 0, 0,-1, 1 )\n",
    "#     pB            = math.LorentzVector( 0, 0, 1, 1 )\n",
    "    pA            = math.LorentzVector( 0, 0,-MomentumBeam, HalfSqrtSnn*208 )\n",
    "    pB            = math.LorentzVector( 0, 0, MomentumBeam, HalfSqrtSnn*208 )\n",
    "\n",
    "    \n",
    "    # Z axis\n",
    "    \n",
    "    z       = pA * (Q.dot(pB)) - pB * (Q.dot(pA))\n",
    "#     NormOfz = z.mag\n",
    "    NormOfz = math.sqrt(-z.dot(z))\n",
    "    zhat    = math.LorentzVector( z.px / NormOfz, z.py / NormOfz, z.pz / NormOfz, z.e / NormOfz )\n",
    "    \n",
    "\n",
    "    # X axis\n",
    "    \n",
    "    x       = Q - pA*(Q.mag2 / ( 2.*( Q.dot(pA)) ) ) - pB*(Q.mag2 / ( 2.*( Q.dot(pB)) ) );\n",
    "#     NormOfx = x.mag\n",
    "    NormOfx = math.sqrt(-x.dot(x))\n",
    "    xhat    = math.LorentzVector( x.px / NormOfx, x.py / NormOfx, x.pz / NormOfx, x.e / NormOfx )\n",
    "\n",
    "    \n",
    "    # Y axis\n",
    "    \n",
    "#     pAlower = [ 0, 0, 1, 1 ]\n",
    "#     pBlower = [ 0, 0,-1, 1 ]\n",
    "    pAlower = [ 0, 0, MomentumBeam, HalfSqrtSnn*208 ]\n",
    "    pBlower = [ 0, 0,-MomentumBeam, HalfSqrtSnn*208 ]\n",
    "    Qlower  = [ -Q.px, -Q.py, -Q.pz, -Q.e ]\n",
    "#     print(Qlower)\n",
    "    ComponentsY = [0,0,0,0]\n",
    "#     print(LeviCivita(0,1,2,3))\n",
    "    for mu in range(0,4):\n",
    "        for nu in range(0,4):\n",
    "            for alpha in range(0,4):\n",
    "                for beta in range(0,4):\n",
    "                    tensor = LeviCivita(mu, nu, alpha, beta) \n",
    "                    ComponentsY[mu] += tensor*pAlower[nu]*pBlower[alpha]*Qlower[beta]\n",
    "    y       = math.LorentzVector(ComponentsY[0], ComponentsY[1], ComponentsY[2], ComponentsY[3])\n",
    "#     NormOfy = y.mag\n",
    "    NormOfy = math.sqrt(-y.dot(y))\n",
    "    yhat    = math.LorentzVector( y.px / NormOfy, y.py / NormOfy, y.pz / NormOfy, y.e / NormOfy )\n",
    "\n",
    "    \n",
    "    # Orthogonality check\n",
    "    \n",
    "#     print( \"XY = \", xhat.dot(yhat) )\n",
    "#     print( \"XZ = \", xhat.dot(zhat) )\n",
    "#     print( \"YZ = \", yhat.dot(zhat) )\n",
    "#     print( \"ZQ = \", zhat.dot(Q)    )\n",
    "    \n",
    "    \n",
    "    # Lepton momentum difference\n",
    "    \n",
    "    diff       = positiveMuon - negativeMuon\n",
    "#     NormOfdiff = diff.mag\n",
    "    NormOfdiff = math.sqrt(-diff.dot(diff))\n",
    "    diffhat    = math.LorentzVector( diff.px / NormOfdiff, diff.py / NormOfdiff, diff.pz / NormOfdiff, diff.e / NormOfdiff )\n",
    "    \n",
    "    \n",
    "    # Computing the angles\n",
    "    cosThetaCS       = zhat.dot(diffhat)\n",
    "    SinThetaCosPhiCS = xhat.dot(diffhat)\n",
    "    SinThetaSinPhiCS = yhat.dot(diffhat)\n",
    "\n",
    "\n",
    "\n",
    "    SinThetaCS       = math.sqrt( 1 - cosThetaCS*cosThetaCS );\n",
    "#     PhiCS            = math.acos( SinThetaCosPhiCS / SinThetaCS );\n",
    "    PhiCS            = math.atan2( SinThetaSinPhiCS, SinThetaCosPhiCS );\n",
    "\n",
    "\n",
    "    return PhiCS\n",
    "\n",
    "    "
   ]
  },
  {
   "cell_type": "markdown",
   "metadata": {},
   "source": [
    "#### Small test procedure\n",
    "Here we are testing the few functions using our data."
   ]
  },
  {
   "cell_type": "code",
   "execution_count": null,
   "metadata": {
    "scrolled": true
   },
   "outputs": [],
   "source": [
    "data_df.iloc[4]"
   ]
  },
  {
   "cell_type": "code",
   "execution_count": null,
   "metadata": {
    "scrolled": false
   },
   "outputs": [],
   "source": [
    "CosThetaTest = CosThetaTrueCollinsSoper( 1.201056, 0.586901, 21.715403, 21.756766, -1.260339, -0.528812, -9.929302, 10.023487 )"
   ]
  },
  {
   "cell_type": "code",
   "execution_count": null,
   "metadata": {
    "scrolled": true
   },
   "outputs": [],
   "source": [
    "CosThetaTest"
   ]
  },
  {
   "cell_type": "code",
   "execution_count": null,
   "metadata": {
    "scrolled": true
   },
   "outputs": [],
   "source": [
    "LeviCivita(0,1,3,2)"
   ]
  },
  {
   "cell_type": "markdown",
   "metadata": {},
   "source": [
    "### Speed check"
   ]
  },
  {
   "cell_type": "code",
   "execution_count": null,
   "metadata": {
    "scrolled": true
   },
   "outputs": [],
   "source": [
    "# data_df.loc[4:5]"
   ]
  },
  {
   "cell_type": "code",
   "execution_count": null,
   "metadata": {
    "scrolled": true
   },
   "outputs": [],
   "source": [
    "# # singleline_df = data_df.loc[4:5]\n",
    "# # singleline_df\n",
    "\n",
    "# singleline = [ [1.348618, 0.352406, -48.828766, 48.848774, -1.334760, -0.386442, -19.233398, 19.283819, 0.036749, -3.783632, 3.096845],\n",
    "#                [0.610672, 1.115761,  -5.101897,  5.259121, -0.646307, -1.072639, -18.913221, 18.954929, 0.055941, -2.745375, 3.096976]]\n",
    "\n",
    "# singleline_df = pd.DataFrame(singleline, columns = ['fMCTrkPx1', 'fMCTrkPy1', 'fMCTrkPz1','fMCTrkE1','fMCTrkPx2', 'fMCTrkPy2', 'fMCTrkPz2','fMCTrkE2', 'fMCTrkTrkPt', 'fMCTrkTrkY', 'fMCTrkTrkM']) \n",
    "# singleline_df\n"
   ]
  },
  {
   "cell_type": "code",
   "execution_count": null,
   "metadata": {
    "scrolled": true
   },
   "outputs": [],
   "source": [
    "# %%timeit \n",
    "\n",
    "# singleline_df['CosTheta'] = singleline_df.apply(lambda x: CosThetaTrueCollinsSoper(x['fMCTrkPx1'], x['fMCTrkPy1'], x['fMCTrkPz1'], x['fMCTrkE1'], x['fMCTrkPx2'], x['fMCTrkPy2'], x['fMCTrkPz2'],  x['fMCTrkE2']   ), axis=1)\n",
    "# singleline_df"
   ]
  },
  {
   "cell_type": "code",
   "execution_count": null,
   "metadata": {
    "scrolled": true
   },
   "outputs": [],
   "source": [
    "# singleline_df"
   ]
  },
  {
   "cell_type": "code",
   "execution_count": null,
   "metadata": {
    "scrolled": true
   },
   "outputs": [],
   "source": [
    "# def CosThetaTrueCollinsSoperV2( px1, py1, pz1, E1, px2, py2, pz2, E2 ):\n",
    "    \n",
    "#     positiveMuon  = math.LorentzVector(px1, py1, pz1, E1)\n",
    "#     negativeMuon  = math.LorentzVector(px2, py2, pz2, E2)\n",
    "#     Q             = positiveMuon + negativeMuon\n",
    "    \n",
    "    \n",
    "#     # Beam coordinates     \n",
    "\n",
    "#     HalfSqrtSnn   = 2510.\n",
    "#     MassOfLead208 = 193.6823\n",
    "#     MomentumBeam  = math.sqrt( HalfSqrtSnn*HalfSqrtSnn*208*208 - MassOfLead208*MassOfLead208 )\n",
    "    \n",
    "#     pA            = math.LorentzVector( 0, 0,-1, 1 )\n",
    "#     pB            = math.LorentzVector( 0, 0, 1, 1 )\n",
    "# #     pA            = math.LorentzVector( 0, 0,-MomentumBeam, HalfSqrtSnn*208 )\n",
    "# #     pB            = math.LorentzVector( 0, 0, MomentumBeam, HalfSqrtSnn*208 )\n",
    "\n",
    "    \n",
    "#     # Z axis\n",
    "    \n",
    "#     z       = pA * (Q.dot(pB)) - pB * (Q.dot(pA))\n",
    "# #     NormOfz = z.mag\n",
    "#     NormOfz = math.sqrt(-z.dot(z))\n",
    "#     zhat    = math.LorentzVector( z.px / NormOfz, z.py / NormOfz, z.pz / NormOfz, z.e / NormOfz )\n",
    "    \n",
    "\n",
    "#     # X axis\n",
    "    \n",
    "#     x       = Q - pA*(Q.mag2 / ( 2.*( Q.dot(pA)) ) ) - pB*(Q.mag2 / ( 2.*( Q.dot(pB)) ) );\n",
    "# #     NormOfx = x.mag\n",
    "#     NormOfx = math.sqrt(-x.dot(x))\n",
    "#     xhat    = math.LorentzVector( x.px / NormOfx, x.py / NormOfx, x.pz / NormOfx, x.e / NormOfx )\n",
    "\n",
    "    \n",
    "#     # Y axis\n",
    "    \n",
    "# #     pAlower = [ 0, 0, 1, 1 ]\n",
    "# #     pBlower = [ 0, 0,-1, 1 ]\n",
    "#     pAlower = [ 0, 0, MomentumBeam, HalfSqrtSnn*208 ]\n",
    "#     pBlower = [ 0, 0,-MomentumBeam, HalfSqrtSnn*208 ]\n",
    "#     Qlower  = [ -Q.px, -Q.py, -Q.pz, -Q.e ]\n",
    "# #     print(Qlower)\n",
    "#     ComponentsY = [0,0,0,0]\n",
    "# #     print(LeviCivita(0,1,2,3))\n",
    "#     for mu in range(0,4):\n",
    "#         for nu in range(0,4):\n",
    "#             for alpha in range(0,4):\n",
    "#                 for beta in range(0,4):\n",
    "#                     tensor = LeviCivita(mu, nu, alpha, beta) \n",
    "#                     ComponentsY[mu] += tensor*pAlower[nu]*pBlower[alpha]*Qlower[beta]\n",
    "#     y       = math.LorentzVector(ComponentsY[0], ComponentsY[1], ComponentsY[2], ComponentsY[3])\n",
    "# #     NormOfy = y.mag\n",
    "#     NormOfy = math.sqrt(-y.dot(y))\n",
    "#     yhat    = math.LorentzVector( y.px / NormOfy, y.py / NormOfy, y.pz / NormOfy, y.e / NormOfy )\n",
    "\n",
    "    \n",
    "#     # Orthogonality check\n",
    "    \n",
    "# #     print( \"X  = \", x )\n",
    "# #     print( \"Y  = \", y )\n",
    "# #     print( \"Z  = \", z )\n",
    "# #     print( \"Xh = \", xhat )\n",
    "# #     print( \"Yh = \", yhat )\n",
    "# #     print( \"Zh = \", zhat )\n",
    "# #     print( \"XY = \", xhat.dot(yhat) )\n",
    "# #     print( \"XZ = \", xhat.dot(zhat) )\n",
    "# #     print( \"YZ = \", yhat.dot(zhat) )\n",
    "# #     print( \"ZQ = \", zhat.dot(Q)    )\n",
    "    \n",
    "    \n",
    "#     # Lepton momentum difference\n",
    "    \n",
    "#     diff       = positiveMuon - negativeMuon\n",
    "# #     NormOfdiff = diff.mag\n",
    "# #     NormOfdiff = math.sqrt(-diff.dot(diff))\n",
    "#     NormOfdiff = (-diff.dot(diff))**0.5\n",
    "#     diffhat    = math.LorentzVector( diff.px / NormOfdiff, diff.py / NormOfdiff, diff.pz / NormOfdiff, diff.e / NormOfdiff )\n",
    "    \n",
    "    \n",
    "#     # Computing the angles\n",
    "#     cosThetaCS       = zhat.dot(diffhat)\n",
    "#     SinThetaCosPhiCS = xhat.dot(diffhat)\n",
    "#     SinThetaSinPhiCS = yhat.dot(diffhat)\n",
    "\n",
    "\n",
    "\n",
    "#     SinThetaCS       = math.sqrt( 1 - cosThetaCS*cosThetaCS );\n",
    "# #     PhiCS            = math.acos( SinThetaCosPhiCS / SinThetaCS );\n",
    "\n",
    "\n",
    "#     return cosThetaCS\n",
    "\n",
    "    "
   ]
  },
  {
   "cell_type": "code",
   "execution_count": null,
   "metadata": {
    "scrolled": true
   },
   "outputs": [],
   "source": [
    "# def CosThetaTrueCollinsSoperVector( row ):\n",
    "    \n",
    "#     px1 = row['fMCTrkPx1']\n",
    "#     py1 = row['fMCTrkPy1']\n",
    "#     pz1 = row['fMCTrkPz1']\n",
    "#     E1  = row['fMCTrkE1']\n",
    "#     px2 = row['fMCTrkPx2']\n",
    "#     py2 = row['fMCTrkPy2']\n",
    "#     pz2 = row['fMCTrkPz2']\n",
    "#     E2  = row['fMCTrkE2']\n",
    "    \n",
    "#     positiveMuon  = math.LorentzVector(px1, py1, pz1, E1)\n",
    "#     negativeMuon  = math.LorentzVector(px2, py2, pz2, E2)\n",
    "#     Q             = positiveMuon + negativeMuon\n",
    "    \n",
    "    \n",
    "#     # Beam coordinates     \n",
    "\n",
    "#     HalfSqrtSnn   = 2510.\n",
    "#     MassOfLead208 = 193.6823\n",
    "#     MomentumBeam  = math.sqrt( HalfSqrtSnn*HalfSqrtSnn*208*208 - MassOfLead208*MassOfLead208 )\n",
    "    \n",
    "#     pA            = math.LorentzVector( 0, 0,-1, 1 )\n",
    "#     pB            = math.LorentzVector( 0, 0, 1, 1 )\n",
    "# #     pA            = math.LorentzVector( 0, 0,-MomentumBeam, HalfSqrtSnn*208 )\n",
    "# #     pB            = math.LorentzVector( 0, 0, MomentumBeam, HalfSqrtSnn*208 )\n",
    "\n",
    "    \n",
    "#     # Z axis\n",
    "    \n",
    "#     z       = pA * (Q.dot(pB)) - pB * (Q.dot(pA))\n",
    "# #     NormOfz = z.mag\n",
    "#     NormOfz = math.sqrt(-z.dot(z))\n",
    "#     zhat    = math.LorentzVector( z.px / NormOfz, z.py / NormOfz, z.pz / NormOfz, z.e / NormOfz )\n",
    "    \n",
    "\n",
    "#     # X axis\n",
    "    \n",
    "#     x       = Q - pA*(Q.mag2 / ( 2.*( Q.dot(pA)) ) ) - pB*(Q.mag2 / ( 2.*( Q.dot(pB)) ) );\n",
    "# #     NormOfx = x.mag\n",
    "#     NormOfx = math.sqrt(-x.dot(x))\n",
    "#     xhat    = math.LorentzVector( x.px / NormOfx, x.py / NormOfx, x.pz / NormOfx, x.e / NormOfx )\n",
    "\n",
    "    \n",
    "#     # Y axis\n",
    "    \n",
    "# #     pAlower = [ 0, 0, 1, 1 ]\n",
    "# #     pBlower = [ 0, 0,-1, 1 ]\n",
    "#     pAlower = [ 0, 0, MomentumBeam, HalfSqrtSnn*208 ]\n",
    "#     pBlower = [ 0, 0,-MomentumBeam, HalfSqrtSnn*208 ]\n",
    "#     Qlower  = [ -Q.px, -Q.py, -Q.pz, -Q.e ]\n",
    "# #     print(Qlower)\n",
    "#     ComponentsY = [0,0,0,0]\n",
    "# #     print(LeviCivita(0,1,2,3))\n",
    "#     for mu in range(0,4):\n",
    "#         for nu in range(0,4):\n",
    "#             for alpha in range(0,4):\n",
    "#                 for beta in range(0,4):\n",
    "#                     tensor = LeviCivita(mu, nu, alpha, beta) \n",
    "#                     ComponentsY[mu] += tensor*pAlower[nu]*pBlower[alpha]*Qlower[beta]\n",
    "#     y       = math.LorentzVector(ComponentsY[0], ComponentsY[1], ComponentsY[2], ComponentsY[3])\n",
    "# #     NormOfy = y.mag\n",
    "#     NormOfy = math.sqrt(-y.dot(y))\n",
    "#     yhat    = math.LorentzVector( y.px / NormOfy, y.py / NormOfy, y.pz / NormOfy, y.e / NormOfy )\n",
    "\n",
    "    \n",
    "#     # Orthogonality check\n",
    "    \n",
    "# #     print( \"X  = \", x )\n",
    "# #     print( \"Y  = \", y )\n",
    "# #     print( \"Z  = \", z )\n",
    "# #     print( \"Xh = \", xhat )\n",
    "# #     print( \"Yh = \", yhat )\n",
    "# #     print( \"Zh = \", zhat )\n",
    "# #     print( \"XY = \", xhat.dot(yhat) )\n",
    "# #     print( \"XZ = \", xhat.dot(zhat) )\n",
    "# #     print( \"YZ = \", yhat.dot(zhat) )\n",
    "# #     print( \"ZQ = \", zhat.dot(Q)    )\n",
    "    \n",
    "    \n",
    "#     # Lepton momentum difference\n",
    "    \n",
    "#     diff       = positiveMuon - negativeMuon\n",
    "#     difference = diff.dot(diff)\n",
    "# #     difference -= diff.dot(diff)*2\n",
    "# #     if diff.dot(diff) > 0.:\n",
    "# #     NormOfdiff = math.sqrt(-difference)\n",
    "#     NormOfdiff = (-difference)**0.5\n",
    "# #         NormOfdiff = math.sqrt(-diff.dot(diff))\n",
    "# #     else:\n",
    "# #         NormOfdiff = 0.\n",
    "#     diffhat    = math.LorentzVector( diff.px / NormOfdiff, diff.py / NormOfdiff, diff.pz / NormOfdiff, diff.e / NormOfdiff )\n",
    "    \n",
    "    \n",
    "#     # Computing the angles\n",
    "#     cosThetaCS       = zhat.dot(diffhat)\n",
    "#     SinThetaCosPhiCS = xhat.dot(diffhat)\n",
    "#     SinThetaSinPhiCS = yhat.dot(diffhat)\n",
    "\n",
    "\n",
    "\n",
    "#     SinThetaCS       = math.sqrt( 1 - cosThetaCS*cosThetaCS );\n",
    "# #     PhiCS            = math.acos( SinThetaCosPhiCS / SinThetaCS );\n",
    "\n",
    "\n",
    "#     return cosThetaCS\n",
    "\n",
    "    "
   ]
  },
  {
   "cell_type": "code",
   "execution_count": null,
   "metadata": {
    "scrolled": true
   },
   "outputs": [],
   "source": [
    "# # %timeit singleline_df['CosThetaV'] = np.vectorize(CosThetaTrueCollinsSoperV2)( singleline_df['fMCTrkPx1'].values, singleline_df['fMCTrkPy1'].values,  singleline_df['fMCTrkPz1'].values, singleline_df['fMCTrkE1'].values, singleline_df['fMCTrkPx2'].values, singleline_df['fMCTrkPy2'].values, singleline_df['fMCTrkPz2'].values,  singleline_df['fMCTrkE2'].values  )\n",
    "\n",
    "# # %timeit \n",
    "\n",
    "# %timeit singleline_df['CosThetaV'] = singleline_df.apply(CosThetaTrueCollinsSoperVector, axis=1)\n",
    "# # singleline_df"
   ]
  },
  {
   "cell_type": "markdown",
   "metadata": {},
   "source": [
    "## Adding the two columns to the dataframe\n",
    "\n",
    "Now we are adding two new columns to the dataframe:\n",
    "\\\\( \\cos\\theta \\\\) and \\\\( \\phi \\\\)."
   ]
  },
  {
   "cell_type": "code",
   "execution_count": null,
   "metadata": {
    "scrolled": true
   },
   "outputs": [],
   "source": [
    "def CosThetaTrueCollinsSoperOne( px1 ):\n",
    "    return px1\n",
    "def CosThetaTrueCollinsSoperTwo( px1, py1 ):\n",
    "    return px1+px1\n",
    "def CosThetaTrueCollinsSoperThree( px1, py1, pz1 ):\n",
    "    return px1+py1+pz1\n",
    "def CosThetaTrueCollinsSoperFour( px1, py1, pz1, E1 ):\n",
    "        return px1+py1+pz1+E1\n",
    "\n",
    "# def CosThetaTrueCollinsSoperOne( px1, py1, pz1, E1, px2, py2, pz2, E2 ):\n",
    "# def CosThetaTrueCollinsSoperOne( px1, py1, pz1, E1, px2, py2, pz2, E2 ):\n"
   ]
  },
  {
   "cell_type": "code",
   "execution_count": null,
   "metadata": {
    "scrolled": true
   },
   "outputs": [],
   "source": [
    "data_df['CosTheta'] = data_df.apply(lambda x: CosThetaTrueCollinsSoper(x['fPxSingleMuon_0'], x['fPySingleMuon_0'], x['fPzSingleMuon_0'], x['fEnergySingleMuon_0'], x['fPxSingleMuon_1'], x['fPySingleMuon_1'], x['fPzSingleMuon_1'],  x['fEnergySingleMuon_1']   ), axis=1)\n",
    "data_df['Phi']      = data_df.apply(lambda x: PhiTrueCollinsSoper(     x['fPxSingleMuon_0'], x['fPySingleMuon_0'], x['fPzSingleMuon_0'], x['fEnergySingleMuon_0'], x['fPxSingleMuon_1'], x['fPySingleMuon_1'], x['fPzSingleMuon_1'],  x['fEnergySingleMuon_1']   ), axis=1)\n",
    "# data_df['CosTheta'] = data_df.apply(lambda x: CosThetaTrueCollinsSoper(x['fMCTrkPx1'], x['fMCTrkPy1'], x['fMCTrkPz1'], x['fMCTrkE1'], x['fMCTrkPx2'], x['fMCTrkPy2'], x['fMCTrkPz2'],  x['fMCTrkE2']   ), axis=1)\n",
    "# data_df['Phi']      = data_df.apply(lambda x: PhiTrueCollinsSoper(     x['fMCTrkPx1'], x['fMCTrkPy1'], x['fMCTrkPz1'], x['fMCTrkE1'], x['fMCTrkPx2'], x['fMCTrkPy2'], x['fMCTrkPz2'],  x['fMCTrkE2']   ), axis=1)\n",
    "# data_df['CosTheta'] = data_df.apply(lambda x: CosThetaTrueCollinsSoper(x['fTrkPx1'], x['fTrkPy1'], x['fTrkPz1'], x['fTrkE1'], x['fTrkPx2'], x['fTrkPy2'], x['fTrkPz2'],  x['fTrkE2']   ), axis=1)\n",
    "# data_df['Phi']      = data_df.apply(lambda x: PhiTrueCollinsSoper(     x['fTrkPx1'], x['fTrkPy1'], x['fTrkPz1'], x['fTrkE1'], x['fTrkPx2'], x['fTrkPy2'], x['fTrkPz2'],  x['fTrkE2']   ), axis=1)\n"
   ]
  },
  {
   "cell_type": "code",
   "execution_count": null,
   "metadata": {
    "scrolled": true
   },
   "outputs": [],
   "source": [
    "data_df"
   ]
  },
  {
   "cell_type": "code",
   "execution_count": null,
   "metadata": {
    "scrolled": true
   },
   "outputs": [],
   "source": [
    "data_df['CosTheta'].plot.hist(bins=100, alpha=0.6)\n"
   ]
  },
  {
   "cell_type": "code",
   "execution_count": null,
   "metadata": {
    "scrolled": false
   },
   "outputs": [],
   "source": [
    "data_df['Phi'].plot.hist(bins=100, alpha=0.6)\n"
   ]
  },
  {
   "cell_type": "markdown",
   "metadata": {},
   "source": [
    "## Probe matrix\n",
    "The probe matrix \\\\(\\rho(l)\\\\) is defined as follows:\n",
    "\\\\[\\rho(l) = \\frac{1+a}{3}\\cdot \\delta_{ij} - a{\\cdot}l_i\\cdot l_j - ib\\cdot \\epsilon_{ijk}\\cdot l_k,\\\\]\n",
    "where \\\\(a = 0.5\\\\) and \\\\(b = c_A{\\cdot}c_V = \\sin^2\\theta_W \\simeq 0.22\\\\)."
   ]
  },
  {
   "cell_type": "code",
   "execution_count": null,
   "metadata": {
    "scrolled": true
   },
   "outputs": [],
   "source": [
    "def ProbeMatrix( CosTheta, Phi, returnValue ):\n",
    "    rho      = np.array([[-999.j, -999.j, -999.j], [-999.j, -999.j, -999.j], [-999.j, -999.j, -999.j]])\n",
    "    SinTheta = math.sqrt(1 - CosTheta*CosTheta)\n",
    "    CosPhi   = math.cos(Phi)\n",
    "    SinPhi   = math.sin(Phi)\n",
    "    l = [ SinTheta*CosPhi, SinTheta*SinPhi, CosTheta ]\n",
    "    for i in range(0,3):\n",
    "        for j in range(0,3):\n",
    "            for k in range(0,3):\n",
    "                epsilon = LeviCivita(i,j,k)\n",
    "                delta = -999.\n",
    "                if i == j:\n",
    "                    delta = 0.5\n",
    "                else:\n",
    "                    delta = 0.\n",
    "                rho[i][j] = delta - 0.5*l[i]*l[j]- (1j)*0.22*epsilon*l[k]\n",
    "    if returnValue == 0:\n",
    "        return rho \n",
    "    elif returnValue == 1:\n",
    "        return rho[0][0]\n",
    "    elif returnValue == 2:\n",
    "        return rho[0][1]\n",
    "    elif returnValue == 3:\n",
    "        return rho[0][2]\n",
    "    elif returnValue == 4:\n",
    "        return rho[0][3]\n",
    "    elif returnValue == 5:\n",
    "        return rho[1][0]\n",
    "    elif returnValue == 6:\n",
    "        return rho[1][1]\n",
    "    elif returnValue == 7:\n",
    "        return rho[1][2]\n",
    "    elif returnValue == 8:\n",
    "        return rho[2][0]\n",
    "    elif returnValue == 9:\n",
    "        return rho[2][1]\n",
    "    elif returnValue == 10:\n",
    "        return rho[2][2]\n",
    "\n",
    "    "
   ]
  },
  {
   "cell_type": "code",
   "execution_count": null,
   "metadata": {
    "scrolled": true
   },
   "outputs": [],
   "source": [
    "# %timeit Probe = ProbeMatrix( -0.419608,  -2.426581, 0 )\n"
   ]
  },
  {
   "cell_type": "code",
   "execution_count": null,
   "metadata": {
    "scrolled": true
   },
   "outputs": [],
   "source": [
    "# for j in range(0,3):\n",
    "#     print(1j)"
   ]
  },
  {
   "cell_type": "markdown",
   "metadata": {},
   "source": [
    "### Saving the dataframe to file for later"
   ]
  },
  {
   "cell_type": "code",
   "execution_count": null,
   "metadata": {
    "scrolled": true
   },
   "outputs": [],
   "source": [
    "# data_df.to_pickle(\"DataframeCohJpsiTransverse.txt\")\n",
    "# data_df.to_pickle(\"DataframeCohJpsiTransverseRecon.txt\")\n",
    "# data_df.to_pickle(\"DataframeCohJpsiLongitudinalRecon.txt\")\n",
    "# data_df.to_pickle(\"DataframeGammaRecon.txt\")\n",
    "# data_df.to_pickle(\"DataframeLHC18q.txt\")\n",
    "# data_df.to_pickle(\"DataframeLHC18r.txt\")\n",
    "data_df.to_pickle(\"DataframeLHC15o.txt\")"
   ]
  },
  {
   "cell_type": "code",
   "execution_count": null,
   "metadata": {
    "scrolled": true
   },
   "outputs": [],
   "source": [
    "# data_df = pd.read_pickle(\"DataframeCohJpsiTransverse.txt\")\n",
    "# data_df = pd.read_pickle(\"DataframeCohJpsiTransverseRecon.txt\")\n",
    "# data_df = pd.read_pickle(\"DataframeLHC18q.txt\")\n",
    "# data_df = pd.read_pickle(\"DataframeLHC18r.txt\")\n",
    "data_df = pd.read_pickle(\"DataframeLHC15o.txt\")\n",
    "# data_df = pd.read_pickle(\"DataframeCohJpsiLongitudinalRecon.txt\")\n",
    "# data_df = pd.read_pickle(\"DataframeGammaRecon.txt\")\n",
    "data_df"
   ]
  },
  {
   "cell_type": "markdown",
   "metadata": {},
   "source": [
    "### 3D maps"
   ]
  },
  {
   "cell_type": "code",
   "execution_count": null,
   "metadata": {
    "scrolled": true
   },
   "outputs": [],
   "source": [
    "from mpl_toolkits.mplot3d import Axes3D\n",
    "import matplotlib.pyplot as plt\n",
    "import numpy as np\n",
    "from itertools import product, combinations\n"
   ]
  },
  {
   "cell_type": "code",
   "execution_count": null,
   "metadata": {
    "scrolled": true
   },
   "outputs": [],
   "source": [
    "fig = plt.figure()\n",
    "ax = fig.gca(projection='3d')\n",
    "# ax.set_aspect(\"equal\")\n"
   ]
  },
  {
   "cell_type": "code",
   "execution_count": null,
   "metadata": {
    "scrolled": true
   },
   "outputs": [],
   "source": [
    "# draw sphere\n",
    "# u, v = np.mgrid[0:2*np.pi:20j, 0:np.pi:10j]\n",
    "# x = np.cos(u)*np.sin(v)\n",
    "# y = np.sin(u)*np.sin(v)\n",
    "# z = np.cos(v)\n",
    "# ax.plot_wireframe(x, y, z, color=\"r\")\n"
   ]
  },
  {
   "cell_type": "code",
   "execution_count": null,
   "metadata": {
    "scrolled": true
   },
   "outputs": [],
   "source": [
    "# x = np.cos(u)*np.sin(v)\n",
    "# y = np.sin(u)*np.sin(v)\n",
    "# z = np.cos(v)\n"
   ]
  },
  {
   "cell_type": "code",
   "execution_count": 3,
   "metadata": {
    "scrolled": true
   },
   "outputs": [],
   "source": [
    "def ApplyCos(x):\n",
    "    return np.cos(x)\n",
    "\n",
    "def ApplySin(x):\n",
    "    return np.sin(x)\n",
    "\n",
    "def ApplyCosToSin(x):\n",
    "    return np.sqrt(1-x*x)\n",
    "\n",
    "def ApplyInverseCos(x):\n",
    "    return np.arccos(x)\n",
    "\n",
    "def ApplyInverseSin(x):\n",
    "    return np.arcsin(x)\n",
    "\n",
    "def ApplyInverseTan(y,x):\n",
    "    return math.atan2(y,x)\n"
   ]
  },
  {
   "cell_type": "code",
   "execution_count": null,
   "metadata": {
    "scrolled": true
   },
   "outputs": [],
   "source": [
    "CosThetaColumn = data_df.loc[:,'CosTheta']\n",
    "PhiColumn      = data_df.loc[:,'Phi']\n",
    "# data_df['Theta'] = data_df.apply(lambda x: ApplyInverseCos(x['CosTheta']  ), axis=1)\n",
    "# data_df\n"
   ]
  },
  {
   "cell_type": "code",
   "execution_count": null,
   "metadata": {
    "scrolled": true
   },
   "outputs": [],
   "source": [
    "CosPhiColumn   = np.vectorize(ApplyCos)(PhiColumn)\n",
    "SinPhiColumn   = np.vectorize(ApplySin)(PhiColumn)\n",
    "SinThetaColumn = np.vectorize(ApplyCosToSin)(CosThetaColumn)"
   ]
  },
  {
   "cell_type": "code",
   "execution_count": null,
   "metadata": {
    "scrolled": true
   },
   "outputs": [],
   "source": [
    "xArray = SinThetaColumn*CosPhiColumn\n",
    "yArray = SinThetaColumn*SinPhiColumn\n",
    "zArray = CosThetaColumn"
   ]
  },
  {
   "cell_type": "code",
   "execution_count": null,
   "metadata": {
    "scrolled": true
   },
   "outputs": [],
   "source": [
    "# ax.plot_wireframe(xArray, yArray, zArray, color=\"r\")"
   ]
  },
  {
   "cell_type": "code",
   "execution_count": null,
   "metadata": {
    "scrolled": true
   },
   "outputs": [],
   "source": [
    "# from mayavi import mlab\n"
   ]
  },
  {
   "cell_type": "code",
   "execution_count": null,
   "metadata": {
    "scrolled": true
   },
   "outputs": [],
   "source": [
    "# from mayavi import mlab\n",
    "# # import numpy as np\n",
    "\n",
    "# # Create a sphere\n",
    "# r = 1.0\n",
    "# pi = np.pi\n",
    "# cos = np.cos\n",
    "# sin = np.sin\n",
    "# phi, theta = np.mgrid[0:pi:101j, 0:2 * pi:101j]\n",
    "\n",
    "# x1 = r*sin(phi)*cos(theta)\n",
    "# y1 = r*sin(phi)*sin(theta)\n",
    "# z1 = r*cos(phi)\n",
    "\n",
    "# mlab.figure(1, bgcolor=(1, 1, 1), fgcolor=(0, 0, 0), size=(400, 300))\n",
    "# mlab.clf()\n",
    "\n",
    "# # data = np.genfromtxt('leb.txt')\n",
    "# # xx, yy, zz = np.hsplit(data, 3)\n",
    "\n",
    "\n",
    "# mlab.mesh(x1 , y1 , z1, color=(0.0,0.5,0.5))\n",
    "# mlab.points3d(xArray, yArray, zArray, scale_factor=0.05)\n",
    "\n",
    "\n",
    "# mlab.show()\n"
   ]
  },
  {
   "cell_type": "code",
   "execution_count": null,
   "metadata": {
    "scrolled": true
   },
   "outputs": [],
   "source": [
    "# a"
   ]
  },
  {
   "cell_type": "code",
   "execution_count": null,
   "metadata": {
    "scrolled": true
   },
   "outputs": [],
   "source": [
    "import matplotlib.pyplot as plt\n",
    "from matplotlib import cm, colors\n",
    "from mpl_toolkits.mplot3d import Axes3D\n",
    "import numpy as np\n",
    "\n",
    "# Create a sphere\n",
    "r = 1\n",
    "pi = np.pi\n",
    "cos = np.cos\n",
    "sin = np.sin\n",
    "phi, theta = np.mgrid[0.0:pi:100j, 0.0:2.0*pi:100j]\n",
    "x = r*sin(phi)*cos(theta)\n",
    "y = r*sin(phi)*sin(theta)\n",
    "z = r*cos(phi)\n",
    "\n",
    "#Import data\n",
    "# data = np.genfromtxt('leb.txt')\n",
    "# theta, phi, r = np.hsplit(data, 3) \n",
    "# theta = theta * pi / 180.0\n",
    "# phi = phi * pi / 180.0\n",
    "# xx = sin(phi)*cos(theta)\n",
    "# yy = sin(phi)*sin(theta)\n",
    "# zz = cos(phi)\n",
    "\n",
    "\n",
    "#Set colours and render\n",
    "fig = plt.figure()\n",
    "ax = fig.add_subplot(111, projection='3d')\n",
    "\n",
    "ax.plot_surface(\n",
    "    x, y, z,  rstride=1, cstride=1, color='c', alpha=0.3, linewidth=0)\n",
    "\n",
    "# ax.scatter(xx,yy,zz,color=\"k\",s=20)\n",
    "ax.scatter(xArray,yArray,zArray,color=\"k\",s=0.1)\n",
    "# ax.plot_surface( XX, YY,  ZZ, cstride=1, rstride=1, facecolors=cm.jet( myheatmap ) )\n",
    "# ax.plot_surface( xArray,yArray,zArray, cstride=1, rstride=1, facecolors=cm.jet( myheatmap ) )\n",
    "\n",
    "\n",
    "ax.set_xlim([-1,1])\n",
    "ax.set_ylim([-1,1])\n",
    "ax.set_zlim([-1,1])\n",
    "# ax.set_aspect(\"equal\")\n",
    "# plt.xlabel(\"CosTheta\")\n",
    "# plt.xlabel(\"$\\sin\\phi\\cos\\Theta$\")\n",
    "# plt.ylabel(\"$\\sin\\phi\\sin\\Theta$\")\n",
    "# plt.zlabel(\"$\\cos\\Theta$\")\n",
    "ax.set_xlabel(\"$\\sin\\phi\\cos\\Theta$\")\n",
    "ax.set_ylabel(\"$\\sin\\phi\\sin\\Theta$\")\n",
    "ax.set_zlabel(\"$\\cos\\Theta$\")\n",
    "plt.tight_layout()\n",
    "plt.show()"
   ]
  },
  {
   "cell_type": "code",
   "execution_count": null,
   "metadata": {
    "scrolled": true
   },
   "outputs": [],
   "source": [
    "# from matplotlib import cm\n",
    "\n",
    "\n",
    "# def random_point( r=1 ):\n",
    "#     ct = 2*np.random.rand() - 1\n",
    "#     st = np.sqrt( 1 - ct**2 )\n",
    "#     phi = 2* np.pi *  np.random.rand()\n",
    "#     x = r * st * np.cos( phi)\n",
    "#     y = r * st * np.sin( phi)\n",
    "#     z = r * ct\n",
    "#     return np.array( [x, y, z ] )\n",
    "\n",
    "# def near( p, pntList, d0 ):\n",
    "#     cnt=0\n",
    "#     for pj in pntList:\n",
    "#         dist=np.linalg.norm( p - pj )\n",
    "#         if dist < d0:\n",
    "#             cnt += 1 - dist/d0\n",
    "#     return cnt\n",
    "\n",
    "\n",
    "# \"\"\"\n",
    "# https://stackoverflow.com/questions/22128909/plotting-the-temperature-distribution-on-a-sphere-with-python\n",
    "# \"\"\"\n",
    "\n",
    "# # pointList = np.array([ random_point( 10.05 ) for i in range( 65 ) ] )\n",
    "# pointList = np.array([ random_point( 10.05 ) for i in range( 100 ) ] )\n",
    "\n",
    "\n",
    "# fig = plt.figure()\n",
    "# ax = fig.add_subplot( 1, 1, 1, projection='3d')\n",
    "\n",
    "# u = np.linspace( 0, 2 * np.pi, 120)\n",
    "# v = np.linspace( 0, np.pi, 60 )\n",
    "\n",
    "# # create the sphere surface\n",
    "# XX = 10 * np.outer( np.cos( u ), np.sin( v ) )\n",
    "# YY = 10 * np.outer( np.sin( u ), np.sin( v ) )\n",
    "# ZZ = 10 * np.outer( np.ones( np.size( u ) ), np.cos( v ) )\n",
    "# XX2 = 10 * np.outer( np.cos( data_df['Phi'] ), np.sin( data_df['Theta'] ) )\n",
    "# YY2 = 10 * np.outer( np.sin( data_df['Phi'] ), np.sin( data_df['Theta'] ) )\n",
    "# ZZ2 = 10 * np.outer( np.ones( np.size( data_df['Phi'] ) ), np.cos( data_df['Theta'] ) )\n",
    "\n",
    "# WW = XX.copy()\n",
    "# for i in range( len( XX ) ):\n",
    "#     for j in range( len( XX[0] ) ):\n",
    "#         x = XX2[ i, j ]\n",
    "#         y = YY22[ i, j ]\n",
    "#         z = ZZ[ i, j ]\n",
    "#         WW[ i, j ] = near(np.array( [x, y, z ] ), pointList, 3)\n",
    "# #         WW[ i, j ] = near(np.array( [xArray, yArray, zArray ] ), pointList, 3)\n",
    "# WW = WW / np.amax( WW )\n",
    "# myheatmap = WW\n",
    "\n",
    "# # ~ ax.scatter( *zip( *pointList ), color='#dd00dd' )\n",
    "# ax.plot_surface( XX2, YY2,  ZZ2, cstride=1, rstride=1, facecolors=cm.jet( myheatmap ) )\n",
    "# plt.show() "
   ]
  },
  {
   "cell_type": "code",
   "execution_count": null,
   "metadata": {
    "scrolled": true
   },
   "outputs": [],
   "source": [
    "# data_df['ThetaBins'] = data_df['Theta'].div(np.pi*0.01)\n",
    "# data_df['ThetaBins']"
   ]
  },
  {
   "cell_type": "code",
   "execution_count": null,
   "metadata": {
    "scrolled": true
   },
   "outputs": [],
   "source": [
    "# def truncate(x):\n",
    "#     import math as m\n",
    "#     return m.trunc(x)"
   ]
  },
  {
   "cell_type": "code",
   "execution_count": null,
   "metadata": {
    "scrolled": true
   },
   "outputs": [],
   "source": [
    "# a = 10.1\n",
    "# truncate(a)"
   ]
  },
  {
   "cell_type": "code",
   "execution_count": null,
   "metadata": {
    "scrolled": true
   },
   "outputs": [],
   "source": [
    "# data_df['ThetaBins2'] = data_df.apply(lambda x:  truncate(x['ThetaBins']), axis=1 )\n",
    "# # data_df['Theta'] = data_df.apply(lambda x: ApplyInverseCos(x['CosTheta']), axis=1)\n",
    "# data_df['ThetaBins2']"
   ]
  },
  {
   "cell_type": "code",
   "execution_count": null,
   "metadata": {
    "scrolled": true
   },
   "outputs": [],
   "source": [
    "# data_df['PhiBins']  = data_df['Phi'].div(np.pi*0.02)\n",
    "# data_df['PhiBins2'] = data_df.apply(lambda x:  truncate(x['PhiBins']), axis=1 )\n",
    "# data_df['PhiBins2']"
   ]
  },
  {
   "cell_type": "code",
   "execution_count": null,
   "metadata": {
    "scrolled": true
   },
   "outputs": [],
   "source": [
    "# data_df['PhiBins2'  ].to_pickle(\"CohJpsiTransversePhi.txt\")\n",
    "# data_df['ThetaBins2'].to_pickle(\"CohJpsiTransverseTheta.txt\")"
   ]
  },
  {
   "cell_type": "code",
   "execution_count": null,
   "metadata": {
    "scrolled": true
   },
   "outputs": [],
   "source": [
    "# with open(\"PhiBins.txt\", 'a') as f:\n",
    "#     f.write(\n",
    "#         data_df['PhiBins2'].to_string(header = False, index = False)\n",
    "#     )\n"
   ]
  },
  {
   "cell_type": "code",
   "execution_count": null,
   "metadata": {
    "scrolled": true
   },
   "outputs": [],
   "source": [
    "# with open(\"ThetaBins.txt\", 'a') as g:\n",
    "#     g.write(\n",
    "#         data_df['ThetaBins2'].to_string(header = False, index = False)\n",
    "#     )\n"
   ]
  },
  {
   "cell_type": "markdown",
   "metadata": {},
   "source": [
    "## Eigenvalue analysis"
   ]
  },
  {
   "cell_type": "code",
   "execution_count": null,
   "metadata": {
    "scrolled": true
   },
   "outputs": [],
   "source": [
    "from numpy import linalg as al\n",
    "from numpy.linalg import eig as eig"
   ]
  },
  {
   "cell_type": "code",
   "execution_count": null,
   "metadata": {
    "scrolled": true
   },
   "outputs": [],
   "source": [
    "# create all probe matrices and store them\n",
    "data_df['ProbeMatrix'] = data_df.apply(lambda x: ProbeMatrix( x['CosTheta'], x['Phi'], 0 ), axis=1)"
   ]
  },
  {
   "cell_type": "code",
   "execution_count": null,
   "metadata": {
    "scrolled": true
   },
   "outputs": [],
   "source": [
    "# data_df.to_pickle(\"DataframeCohJpsiTransverse.txt\")\n",
    "# data_df.to_pickle(\"DataframeCohJpsiTransverseRecon.txt\")\n",
    "# data_df.to_pickle(\"DataframeCohJpsiLongitudinalRecon.txt\")\n",
    "# data_df.to_pickle(\"DataframeGammaRecon.txt\")\n",
    "# data_df.to_pickle(\"DataframeLHC18q.txt\")\n",
    "# data_df.to_pickle(\"DataframeLHC18r.txt\")\n",
    "data_df.to_pickle(\"DataframeLHC15o.txt\")\n",
    "data_df"
   ]
  },
  {
   "cell_type": "code",
   "execution_count": null,
   "metadata": {
    "scrolled": true
   },
   "outputs": [],
   "source": [
    "# %timeit ProbeEigValues, ProbeEigVectors = eig(Probe)\n",
    "# ProbeEigValues"
   ]
  },
  {
   "cell_type": "code",
   "execution_count": null,
   "metadata": {
    "scrolled": true
   },
   "outputs": [],
   "source": [
    "# example to how to use more columns together\n",
    "# df[[\"sq_a\",\"cube_a\"]] = df.apply(lambda x: [x.a**2, x.a**3], axis=1, result_type=\"expand\")\n"
   ]
  },
  {
   "cell_type": "code",
   "execution_count": null,
   "metadata": {
    "scrolled": true
   },
   "outputs": [],
   "source": [
    "data_df[['EigValues','EigVecs']] = data_df.apply(lambda x: eig(x['ProbeMatrix']  ), axis=1, result_type=\"expand\")\n"
   ]
  },
  {
   "cell_type": "code",
   "execution_count": null,
   "metadata": {
    "scrolled": true
   },
   "outputs": [],
   "source": [
    "# data_df.to_pickle(\"DataframeCohJpsiTransverse.txt\")\n",
    "# data_df.to_pickle(\"DataframeCohJpsiTransverseRecon.txt\")\n",
    "# data_df.to_pickle(\"DataframeLHC18q.txt\")\n",
    "# data_df.to_pickle(\"DataframeLHC18r.txt\")\n",
    "data_df.to_pickle(\"DataframeLHC15o.txt\")\n",
    "# data_df.to_pickle(\"DataframeCohJpsiLongitudinalRecon.txt\")\n",
    "# data_df.to_pickle(\"DataframeGammaRecon.txt\")\n",
    "data_df"
   ]
  },
  {
   "cell_type": "markdown",
   "metadata": {},
   "source": [
    "##### Cleaning those eigenvalues\n",
    "If the imaginary part of the eigenvalues\n",
    "is really small, then the eigenvector is considered real."
   ]
  },
  {
   "cell_type": "code",
   "execution_count": null,
   "metadata": {
    "scrolled": true
   },
   "outputs": [],
   "source": [
    "def CheckIfQuasiRealEigValues(x):\n",
    "    import cmath\n",
    "    z = [ 0., 0., 0. ]\n",
    "    if x[0].imag < 1.e-12:\n",
    "        z[0] = x[0].real\n",
    "    else:\n",
    "        z[0] = x[0]\n",
    "    if x[1].imag < 1.e-12:\n",
    "        z[1] = x[1].real\n",
    "    else:\n",
    "        z[1] = x[1]        \n",
    "    if x[2].imag < 1.e-12:\n",
    "        z[2] = x[2].real\n",
    "    else:\n",
    "        z[2] = x[2]\n",
    "    return z    "
   ]
  },
  {
   "cell_type": "code",
   "execution_count": null,
   "metadata": {
    "scrolled": true
   },
   "outputs": [],
   "source": [
    "# data_df = pd.read_pickle(\"DataframeCohJpsiTransverse.txt\")\n",
    "# data_df = pd.read_pickle(\"DataframeCohJpsiTransverseRecon.txt\")\n",
    "# data_df = pd.read_pickle(\"DataframeLHC18q.txt\")\n",
    "data_df = pd.read_pickle(\"DataframeLHC18r.txt\")\n",
    "# data_df = pd.read_pickle(\"DataframeLHC15o.txt\")\n",
    "# data_df = pd.read_pickle(\"DataframeCohJpsiLongitudinalRecon.txt\")\n",
    "# data_df = pd.read_pickle(\"DataframeGammaRecon.txt\")\n",
    "data_df"
   ]
  },
  {
   "cell_type": "code",
   "execution_count": null,
   "metadata": {
    "scrolled": true
   },
   "outputs": [],
   "source": [
    "data_df['EigValuesReal'] = data_df.apply(lambda x: CheckIfQuasiRealEigValues( x['EigValues'] ), axis=1)\n",
    "data_df"
   ]
  },
  {
   "cell_type": "code",
   "execution_count": null,
   "metadata": {
    "scrolled": true
   },
   "outputs": [],
   "source": [
    "def UnpackEigValues(x, i):\n",
    "    if i == 0:\n",
    "        return x[0]\n",
    "    if i == 1:\n",
    "        return x[1]\n",
    "    if i == 2:\n",
    "        return x[2]"
   ]
  },
  {
   "cell_type": "code",
   "execution_count": null,
   "metadata": {
    "scrolled": true
   },
   "outputs": [],
   "source": [
    "data_df['EigValuesReal_0'] = data_df.apply(lambda x: UnpackEigValues( x['EigValuesReal'], 0 ), axis=1)\n",
    "data_df['EigValuesReal_1'] = data_df.apply(lambda x: UnpackEigValues( x['EigValuesReal'], 1 ), axis=1)\n",
    "data_df['EigValuesReal_2'] = data_df.apply(lambda x: UnpackEigValues( x['EigValuesReal'], 2 ), axis=1)\n",
    "data_df"
   ]
  },
  {
   "cell_type": "code",
   "execution_count": null,
   "metadata": {
    "scrolled": true
   },
   "outputs": [],
   "source": [
    "data_df['EigValuesReal_0'].plot.hist(bins=100, alpha=0.6)\n"
   ]
  },
  {
   "cell_type": "code",
   "execution_count": null,
   "metadata": {
    "scrolled": true
   },
   "outputs": [],
   "source": [
    "data_df['EigValuesReal_1'].plot.hist(bins=100, alpha=0.6)\n"
   ]
  },
  {
   "cell_type": "code",
   "execution_count": null,
   "metadata": {
    "scrolled": true
   },
   "outputs": [],
   "source": [
    "data_df['EigValuesReal_2'].plot.hist(bins=100, alpha=0.6)\n"
   ]
  },
  {
   "cell_type": "code",
   "execution_count": null,
   "metadata": {
    "scrolled": true
   },
   "outputs": [],
   "source": [
    "# ax1 = data_df.plot.scatter(x='EigValuesReal_0',y='fMCTrkTrkM',c='Red')\n",
    "# ax1 = data_df.plot.scatter(x='EigValuesReal_0',y='fTrkTrkM',c='Red')\n",
    "ax1 = data_df.plot.scatter(x='EigValuesReal_0',y='fInvariantMassDimuon',c='Red')\n"
   ]
  },
  {
   "cell_type": "code",
   "execution_count": null,
   "metadata": {
    "scrolled": true
   },
   "outputs": [],
   "source": [
    "# data_df.plot.scatter(x='EigValuesReal_1',y='fMCTrkTrkM',c='Blue', ax = ax1)\n",
    "data_df.plot.scatter(x='EigValuesReal_1',y='fInvariantMassDimuon',c='Blue', ax = ax1)\n"
   ]
  },
  {
   "cell_type": "code",
   "execution_count": null,
   "metadata": {
    "scrolled": true
   },
   "outputs": [],
   "source": [
    "import pylab\n",
    "# plt.scatter(data_df['fTrkTrkM'],data_df['EigValuesReal_0'],c='Red')\n",
    "# plt.scatter(data_df['fTrkTrkM'],data_df['EigValuesReal_1'],c='Blue')\n",
    "# plt.scatter(data_df['fTrkTrkM'],data_df['EigValuesReal_2'],c='Green')\n",
    "plt.scatter(data_df['fInvariantMassDimuon'],data_df['EigValuesReal_0'],c='Red')\n",
    "plt.scatter(data_df['fInvariantMassDimuon'],data_df['EigValuesReal_1'],c='Blue')\n",
    "plt.scatter(data_df['fInvariantMassDimuon'],data_df['EigValuesReal_2'],c='Green')\n",
    "plt.show"
   ]
  },
  {
   "cell_type": "code",
   "execution_count": null,
   "metadata": {
    "scrolled": true
   },
   "outputs": [],
   "source": [
    "with open(\"EigValues0_LHC15o.txt\", 'a') as f:\n",
    "# with open(\"EigValues0_LHC18r.txt\", 'a') as f:\n",
    "# with open(\"EigValues0_LHC18q.txt\", 'a') as f:\n",
    "# with open(\"EigValues0_Gamma.txt\", 'a') as f:\n",
    "# with open(\"EigValues0_Longitudinal.txt\", 'a') as f:\n",
    "# with open(\"EigValues0.txt\", 'a') as f:\n",
    "    f.write(\n",
    "        data_df['EigValuesReal_0'].to_string(header = False, index = False)\n",
    "#         data_df_Eig0.to_string(header = False, index = False)\n",
    "    )\n",
    "# with open(\"EigValues1_LHC18q.txt\", 'a') as f:\n",
    "# with open(\"EigValues1_LHC18r.txt\", 'a') as f:\n",
    "with open(\"EigValues1_LHC15o.txt\", 'a') as f:\n",
    "# with open(\"EigValues1_Gamma.txt\", 'a') as f:\n",
    "# with open(\"EigValues1_Longitudinal.txt\", 'a') as f:\n",
    "# with open(\"EigValues1.txt\", 'a') as f:\n",
    "    f.write(\n",
    "        data_df['EigValuesReal_1'].to_string(header = False, index = False)\n",
    "#         data_df_Eig0.to_string(header = False, index = False)\n",
    "    )\n",
    "with open(\"EigValues2_LHC15o.txt\", 'a') as f:\n",
    "# with open(\"EigValues2_LHC18r.txt\", 'a') as f:\n",
    "# with open(\"EigValues2_LHC18q.txt\", 'a') as f:\n",
    "# with open(\"EigValues2_Gamma.txt\", 'a') as f:\n",
    "# with open(\"EigValues2_Longitudinal.txt\", 'a') as f:\n",
    "# with open(\"EigValues2.txt\", 'a') as f:\n",
    "    f.write(\n",
    "        data_df['EigValuesReal_2'].to_string(header = False, index = False)\n",
    "#         data_df_Eig0.to_string(header = False, index = False)\n",
    "    )\n",
    "# with open(\"Mass_LHC18q.txt\", 'a') as f:\n",
    "# with open(\"Mass_LHC18r.txt\", 'a') as f:\n",
    "with open(\"Mass_LHC15o.txt\", 'a') as f:\n",
    "# with open(\"Mass_Gamma.txt\", 'a') as f:\n",
    "# with open(\"Mass_Longitudinal.txt\", 'a') as f:\n",
    "# with open(\"Mass.txt\", 'a') as f:\n",
    "    f.write(\n",
    "        data_df['fInvariantMassDimuon'].to_string(header = False, index = False)\n",
    "#         data_df['fTrkTrkM'].to_string(header = False, index = False)\n",
    "#         data_df_Eig0.to_string(header = False, index = False)\n",
    "    )\n"
   ]
  },
  {
   "cell_type": "code",
   "execution_count": null,
   "metadata": {
    "scrolled": true
   },
   "outputs": [],
   "source": [
    "# with open(\"Pt_LHC15o.txt\", 'a') as f:\n",
    "# with open(\"Pt_LHC18q.txt\", 'a') as f:\n",
    "with open(\"Pt_LHC18r.txt\", 'a') as f:\n",
    "    f.write(\n",
    "        data_df['fPtDimuon'].to_string(header = False, index = False)\n",
    "    )\n",
    "    "
   ]
  },
  {
   "cell_type": "markdown",
   "metadata": {},
   "source": [
    "## Applying functional form of the AxE"
   ]
  },
  {
   "cell_type": "code",
   "execution_count": null,
   "metadata": {
    "scrolled": true
   },
   "outputs": [],
   "source": [
    "def AxE_CosTheta( CosThetaToBeWeighted ):\n",
    "    val = 0; \n",
    "    par = [ 1.84270e-04, 1.35000e-02, 2.52572e+00, 4.49481e-01, 7.71374e-01, 4.10537e-01,-1.91331e-03,-4.33903e+00, 4.44258e-01,-7.64919e-01, 4.32631e-04, 1.48228e-02, 2.75000e+00 ]\n",
    "    if   CosThetaToBeWeighted < -0.550:\n",
    "        val = par[0] + par[1] * ( CosThetaToBeWeighted + 0.650 ) + par[2] * ( CosThetaToBeWeighted + 0.650 ) * ( CosThetaToBeWeighted + 0.650 )\n",
    "    elif CosThetaToBeWeighted < -0.125:\n",
    "        val = par[3] + par[4] * CosThetaToBeWeighted\n",
    "    elif CosThetaToBeWeighted <  0.125:\n",
    "        val = par[5] + par[6] * CosThetaToBeWeighted + par[7] * CosThetaToBeWeighted * CosThetaToBeWeighted\n",
    "    elif CosThetaToBeWeighted <  0.550:\n",
    "        val = par[8] + par[9] * CosThetaToBeWeighted\n",
    "    else:    \n",
    "        val = par[10] + par[11] * ( CosThetaToBeWeighted - 0.650 ) + par[12] * ( CosThetaToBeWeighted - 0.650 ) * ( CosThetaToBeWeighted - 0.650 )\n",
    "#     if   CosThetaToBeWeighted[0] < -0.550:\n",
    "#         val = par[0] + par[1] * ( CosThetaToBeWeighted[0] + 0.650 ) + par[2] * ( CosThetaToBeWeighted[0] + 0.650 ) * ( CosThetaToBeWeighted[0] + 0.650 )\n",
    "#     elif CosThetaToBeWeighted[0] < -0.125:\n",
    "#         val = par[3] + par[4] * CosThetaToBeWeighted[0]\n",
    "#     elif CosThetaToBeWeighted[0] <  0.125:\n",
    "#         val = par[5] + par[6] * CosThetaToBeWeighted[0] + par[7] * CosThetaToBeWeighted[0] * CosThetaToBeWeighted[0]\n",
    "#     elif CosThetaToBeWeighted[0] <  0.550:\n",
    "#         val = par[8] + par[9] * CosThetaToBeWeighted[0]\n",
    "#     else:    \n",
    "#         val = par[10] + par[11] * ( CosThetaToBeWeighted[0] - 0.650 ) + par[12] * ( CosThetaToBeWeighted[0] - 0.650 ) * ( CosThetaToBeWeighted[0] - 0.650 )\n",
    "    return val\n"
   ]
  },
  {
   "cell_type": "code",
   "execution_count": null,
   "metadata": {
    "scrolled": true
   },
   "outputs": [],
   "source": [
    "def AxE( CosTheta, Phi ):\n",
    "    par    = [ 2.05530e+03, 5.00000e-04, 1.00000e-04 ]\n",
    "    fitval = 0\n",
    "    fitval = par[0]*AxE_CosTheta(CosTheta)*(par[1]+par[2]*math.cos(2*Phi));\n",
    "    return fitval\n"
   ]
  },
  {
   "cell_type": "code",
   "execution_count": null,
   "metadata": {
    "scrolled": true
   },
   "outputs": [],
   "source": [
    "# test\n",
    "TestingCosTheta = 0.186056\n",
    "TestingPhi      = 1.890898\n",
    "AxE_corr = AxE(TestingCosTheta, TestingPhi)\n",
    "AxE_corr"
   ]
  },
  {
   "cell_type": "code",
   "execution_count": null,
   "metadata": {
    "scrolled": true
   },
   "outputs": [],
   "source": [
    "# data_df['AxE'] = data_df.apply(lambda x: AxE( x['CosTheta'], x['Phi'] ), axis=1)\n",
    "# data_df"
   ]
  },
  {
   "cell_type": "code",
   "execution_count": null,
   "metadata": {
    "scrolled": true
   },
   "outputs": [],
   "source": [
    "def CorrectedCosTheta(CosTheta, AxE):\n",
    "    CorrectedCosThetaValue = CosTheta / AxE\n",
    "    return CorrectedCosThetaValue\n",
    "#     return CosTheta\n",
    "\n",
    "def CorrectedPhi(Phi, AxE):\n",
    "    CorrectedPhiValue = Phi / AxE\n",
    "    return CorrectedPhiValue\n",
    "\n",
    "def AxE_inverse(AxE):\n",
    "    Inverse = 1. / AxE\n",
    "    return Inverse"
   ]
  },
  {
   "cell_type": "code",
   "execution_count": null,
   "metadata": {
    "scrolled": true
   },
   "outputs": [],
   "source": [
    "# data_df['CorrCosTheta'] = data_df.apply(lambda x: CorrectedCosTheta( x['CosTheta'], x['AxE'] ), axis=1)\n",
    "# data_df['CorrPhi']      = data_df.apply(lambda x: CorrectedPhi(      x['Phi'],      x['AxE'] ), axis=1)\n",
    "# data_df"
   ]
  },
  {
   "cell_type": "code",
   "execution_count": null,
   "metadata": {
    "scrolled": true
   },
   "outputs": [],
   "source": [
    "# data_df['AxE_inverse'] = data_df.apply(lambda x: AxE_inverse( x['AxE'] ), axis=1)\n",
    "# data_df"
   ]
  },
  {
   "cell_type": "code",
   "execution_count": null,
   "metadata": {
    "scrolled": true
   },
   "outputs": [],
   "source": [
    "# data_df.to_pickle(\"DataframeCohJpsiTransverseRecon.txt\")\n",
    "# data_df.to_pickle(\"DataframeLHC18q.txt\")\n",
    "# data_df.to_pickle(\"DataframeLHC18r.txt\")\n",
    "data_df.to_pickle(\"DataframeLHC15o.txt\")\n"
   ]
  },
  {
   "cell_type": "code",
   "execution_count": null,
   "metadata": {
    "scrolled": true
   },
   "outputs": [],
   "source": [
    "# data_df = pd.read_pickle(\"DataframeLHC18q.txt\")\n",
    "# data_df = pd.read_pickle(\"DataframeLHC18r.txt\")\n",
    "data_df = pd.read_pickle(\"DataframeLHC15o.txt\")\n",
    "data_df"
   ]
  },
  {
   "cell_type": "code",
   "execution_count": null,
   "metadata": {
    "scrolled": true
   },
   "outputs": [],
   "source": [
    "with open(\"CosThetaLHC15o.txt\", 'a') as f:\n",
    "# with open(\"CosThetaLHC18r.txt\", 'a') as f:\n",
    "# with open(\"CosThetaLHC18q.txt\", 'a') as f:\n",
    "# with open(\"CosThetaReconJpsi.txt\", 'a') as f:\n",
    "    f.write(\n",
    "#         data_df['CosTheta'].to_string(header = False, index = False)\n",
    "        (data_df.query('fInvariantMassDimuon < 3.2 & fInvariantMassDimuon > 2.9 & fPtDimuon < 0.2'))['CosTheta'].to_string(header = False, index = False)\n",
    "#         .query('fInvariantMassDimuon < 3.2 & fInvariantMassDimuon > 2.9 & fPtDimuon < 0.2')\n",
    "    )\n",
    "with open(\"PhiLHC15o.txt\", 'a') as f:\n",
    "# with open(\"PhiLHC18r.txt\", 'a') as f:\n",
    "# with open(\"PhiLHC18q.txt\", 'a') as f:\n",
    "# with open(\"PhiReconJpsi.txt\", 'a') as f:\n",
    "    f.write(\n",
    "#         data_df['Phi'].to_string(header = False, index = False)\n",
    "        (data_df.query('fInvariantMassDimuon < 3.2 & fInvariantMassDimuon > 2.9 & fPtDimuon < 0.2'))['Phi'].to_string(header = False, index = False)\n",
    "    )\n",
    "# with open(\"AxEinverse.txt\", 'a') as f:\n",
    "#     f.write(\n",
    "#         data_df['AxE_inverse'].to_string(header = False, index = False)\n",
    "#     )\n",
    "# with open(\"AxE.txt\", 'a') as f:\n",
    "#     f.write(\n",
    "#         data_df['AxE'].to_string(header = False, index = False)\n",
    "#     )\n",
    "# with open(\"CosThetaReconJpsiCorr.txt\", 'a') as f:\n",
    "#     f.write(\n",
    "#         data_df['CosTheta'].to_string(header = False, index = False)\n",
    "#     )\n",
    "# with open(\"PhiReconJpsiCorr.txt\", 'a') as f:\n",
    "#     f.write(\n",
    "#         data_df['Phi'].to_string(header = False, index = False)\n",
    "#     )\n",
    "    \n",
    "    \n",
    "# with open('star.txt', 'w') as f:\n",
    "#     for a, b, name in zip(data_df['CosTheta'], data_df['Phi'], array3):\n",
    "#         f.write('{0:15}{1:15}{2:15}\\n'.format(name, a, b))    \n"
   ]
  },
  {
   "cell_type": "code",
   "execution_count": null,
   "metadata": {
    "scrolled": true
   },
   "outputs": [],
   "source": [
    "def AxE_CosTheta_closure( CosThetaToBeWeighted ):\n",
    "    val = 0; \n",
    "    par = [ -1.90267e-03, 1.64993e-02, 2.75000e+00, 4.63378e-01, 7.77394e-01,\n",
    "             4.37958e-01,-5.29215e-02,-4.89512e+00, 4.53152e-01,-7.93050e-01,\n",
    "            -5.20841e-04, 1.35817e-02, 2.74615e+00 ]\n",
    "    if   CosThetaToBeWeighted < -0.550:\n",
    "        val = par[0] + par[1] * ( CosThetaToBeWeighted + 0.650 ) + par[2] * ( CosThetaToBeWeighted + 0.650 ) * ( CosThetaToBeWeighted + 0.650 )\n",
    "    elif CosThetaToBeWeighted < -0.125:\n",
    "        val = par[3] + par[4] * CosThetaToBeWeighted\n",
    "    elif CosThetaToBeWeighted <  0.125:\n",
    "        val = par[5] + par[6] * CosThetaToBeWeighted + par[7] * CosThetaToBeWeighted * CosThetaToBeWeighted\n",
    "    elif CosThetaToBeWeighted <  0.550:\n",
    "        val = par[8] + par[9] * CosThetaToBeWeighted\n",
    "    else:    \n",
    "        val = par[10] + par[11] * ( CosThetaToBeWeighted - 0.650 ) + par[12] * ( CosThetaToBeWeighted - 0.650 ) * ( CosThetaToBeWeighted - 0.650 )\n",
    "    return val\n",
    "\n",
    "\n",
    "\n",
    "def AxE_closure( CosTheta, Phi ):\n",
    "    par    = [ 1.38523e+03, 6.97923e-04, 1.53930e-04 ]\n",
    "    fitval = 0\n",
    "    fitval = par[0]*AxE_CosTheta(CosTheta)*(par[1]+par[2]*math.cos(2*Phi));\n",
    "    return fitval\n",
    "\n",
    "\n",
    "def AxE_inverse_closure(AxE):\n",
    "    Inverse = 1. / AxE\n",
    "    return Inverse"
   ]
  },
  {
   "cell_type": "code",
   "execution_count": null,
   "metadata": {
    "scrolled": true
   },
   "outputs": [],
   "source": [
    "# data_df['AxE_closure'] = data_df.apply(lambda x: AxE_closure( x['CosTheta'], x['Phi'] ), axis=1)\n",
    "# data_df"
   ]
  },
  {
   "cell_type": "code",
   "execution_count": null,
   "metadata": {
    "scrolled": true
   },
   "outputs": [],
   "source": [
    "# data_df['AxE_inverse_closure'] = data_df.apply(lambda x: AxE_inverse_closure( x['AxE_closure'] ), axis=1)\n",
    "# data_df"
   ]
  },
  {
   "cell_type": "code",
   "execution_count": null,
   "metadata": {
    "scrolled": true
   },
   "outputs": [],
   "source": [
    "# with open(\"AxEinverse.txt\", 'a') as f:\n",
    "#     f.write(\n",
    "#         data_df['AxE_inverse_closure'].to_string(header = False, index = False)\n",
    "#     )\n"
   ]
  },
  {
   "cell_type": "code",
   "execution_count": null,
   "metadata": {
    "scrolled": true
   },
   "outputs": [],
   "source": [
    "data_df"
   ]
  },
  {
   "cell_type": "markdown",
   "metadata": {},
   "source": [
    "## Rho(X) matrix"
   ]
  },
  {
   "cell_type": "code",
   "execution_count": null,
   "metadata": {
    "scrolled": true
   },
   "outputs": [],
   "source": [
    "mPar = [ 0.j, 3.1692e-01+0.j, 8.5152e-01+0.j, 0.j, 1+0.j, 0.j, 0.j, 0.j, 0.j ]"
   ]
  },
  {
   "cell_type": "code",
   "execution_count": null,
   "metadata": {
    "scrolled": true
   },
   "outputs": [],
   "source": [
    "M = np.array([[mPar[0], mPar[3]+mPar[4]*1.j, mPar[5]+mPar[6]*1.j], \n",
    "              [    0.j,             mPar[1], mPar[7]+mPar[8]*1.j], \n",
    "              [    0.j,                 0.j,            mPar[2]]])\n",
    "M"
   ]
  },
  {
   "cell_type": "code",
   "execution_count": null,
   "metadata": {
    "scrolled": true
   },
   "outputs": [],
   "source": [
    "Mdagger = (M.transpose()).conjugate()\n",
    "Mdagger"
   ]
  },
  {
   "cell_type": "code",
   "execution_count": null,
   "metadata": {
    "scrolled": true
   },
   "outputs": [],
   "source": [
    "rhoX = Mdagger.dot(M)\n",
    "rhoX"
   ]
  },
  {
   "cell_type": "code",
   "execution_count": null,
   "metadata": {
    "scrolled": true
   },
   "outputs": [],
   "source": [
    "eigValuesRhoX, eigVectorsRhoX = eig(rhoX)"
   ]
  },
  {
   "cell_type": "code",
   "execution_count": null,
   "metadata": {
    "scrolled": true
   },
   "outputs": [],
   "source": [
    "eigValuesRhoX"
   ]
  },
  {
   "cell_type": "markdown",
   "metadata": {},
   "source": [
    "### Rho(X) filter suppression"
   ]
  },
  {
   "cell_type": "markdown",
   "metadata": {},
   "source": [
    "Rho(x) = (1 - Rho_x(B) ) Rho_x(S+B)\n",
    "\n",
    "dN/dOmega = Tr(rho(l) rho(x) )\n",
    "\n",
    "Rho_x(B) comes from analysis of sidebands\n",
    "\n",
    "Might be possible to use SymPy to do symbolic maximum likelihood fits.\n"
   ]
  },
  {
   "cell_type": "code",
   "execution_count": null,
   "metadata": {
    "scrolled": true
   },
   "outputs": [],
   "source": [
    "data_df_18q = pd.read_pickle(\"DataframeLHC18q.txt\")\n",
    "data_df_18r = pd.read_pickle(\"DataframeLHC18r.txt\")\n",
    "data_df_15o = pd.read_pickle(\"DataframeLHC15o.txt\")\n",
    "data_df_15o"
   ]
  },
  {
   "cell_type": "code",
   "execution_count": null,
   "metadata": {
    "scrolled": true
   },
   "outputs": [],
   "source": [
    "len(data_df_15o)+len(data_df_18q)+len(data_df_18r)"
   ]
  },
  {
   "cell_type": "code",
   "execution_count": null,
   "metadata": {
    "scrolled": true
   },
   "outputs": [],
   "source": [
    "frames = [data_df_18q, data_df_18r, data_df_15o]"
   ]
  },
  {
   "cell_type": "code",
   "execution_count": null,
   "metadata": {
    "scrolled": true
   },
   "outputs": [],
   "source": [
    "alldata_df = pd.concat(frames)\n",
    "alldata_df"
   ]
  },
  {
   "cell_type": "code",
   "execution_count": null,
   "metadata": {
    "scrolled": true
   },
   "outputs": [],
   "source": [
    "len(alldata_df)"
   ]
  },
  {
   "cell_type": "markdown",
   "metadata": {},
   "source": [
    "#### Using SymPy to perform Maximum Likelihood fits\n",
    "\n",
    "\\\\(L(p|x) = \\prod_i \\phi(x_i) \\\\)"
   ]
  },
  {
   "cell_type": "code",
   "execution_count": 9,
   "metadata": {
    "scrolled": true
   },
   "outputs": [],
   "source": [
    "import sympy\n",
    "from sympy.abc import x, z\n",
    "# m0=sympy.symbols('m0',positive=True)\n",
    "# m0=sympy.symbols('m0')\n",
    "m1=sympy.symbols('m1')\n",
    "m2=sympy.symbols('m2')\n",
    "m3=sympy.symbols('m3')\n",
    "m4=sympy.symbols('m4')\n",
    "m5=sympy.symbols('m5')\n",
    "m6=sympy.symbols('m6')\n",
    "m7=sympy.symbols('m7')\n",
    "m8=sympy.symbols('m8')\n",
    "m9=sympy.symbols('m9')\n",
    "\n"
   ]
  },
  {
   "cell_type": "code",
   "execution_count": 10,
   "metadata": {
    "scrolled": true
   },
   "outputs": [
    {
     "data": {
      "text/plain": [
       "array([[m1, m4 + 1.0*I*m5, m6 + 1.0*I*m7],\n",
       "       [0j, m2, m8 + 1.0*I*m9],\n",
       "       [0j, 0j, m3]], dtype=object)"
      ]
     },
     "execution_count": 10,
     "metadata": {},
     "output_type": "execute_result"
    }
   ],
   "source": [
    "# M_parametric = np.array([[ m0, m3+m4*1.j, m5+m6*1.j], \n",
    "#                          [0.j, m1       , m7+m8*1.j], \n",
    "#                          [0.j,       0.j, m2      ]])\n",
    "M_parametric = np.array([[ m1, m4+m5*1.j, m6+m7*1.j], \n",
    "                         [0.j, m2       , m8+m9*1.j], \n",
    "                         [0.j,       0.j, m3      ]])\n",
    "\n",
    "M_parametric"
   ]
  },
  {
   "cell_type": "code",
   "execution_count": 5,
   "metadata": {
    "scrolled": true
   },
   "outputs": [
    {
     "data": {
      "text/plain": [
       "array([[conjugate(m1), -0j, -0j],\n",
       "       [conjugate(m4) - 1.0*I*conjugate(m5), conjugate(m2), -0j],\n",
       "       [conjugate(m6) - 1.0*I*conjugate(m7),\n",
       "        conjugate(m8) - 1.0*I*conjugate(m9), conjugate(m3)]], dtype=object)"
      ]
     },
     "execution_count": 5,
     "metadata": {},
     "output_type": "execute_result"
    }
   ],
   "source": [
    "Mdagger_parametric = (M_parametric.transpose()).conjugate()\n",
    "Mdagger_parametric"
   ]
  },
  {
   "cell_type": "code",
   "execution_count": 6,
   "metadata": {
    "scrolled": false
   },
   "outputs": [
    {
     "data": {
      "text/plain": [
       "array([[m1*conjugate(m1) + (m4 + 1.0*I*m5)*(conjugate(m4) - 1.0*I*conjugate(m5)) + (m6 + 1.0*I*m7)*(conjugate(m6) - 1.0*I*conjugate(m7)),\n",
       "        (m4 + 1.0*I*m5)*conjugate(m2) + (m6 + 1.0*I*m7)*(conjugate(m8) - 1.0*I*conjugate(m9)),\n",
       "        (m6 + 1.0*I*m7)*conjugate(m3)],\n",
       "       [m2*(conjugate(m4) - 1.0*I*conjugate(m5)) + (m8 + 1.0*I*m9)*(conjugate(m6) - 1.0*I*conjugate(m7)),\n",
       "        m2*conjugate(m2) + (m8 + 1.0*I*m9)*(conjugate(m8) - 1.0*I*conjugate(m9)),\n",
       "        (m8 + 1.0*I*m9)*conjugate(m3)],\n",
       "       [m3*(conjugate(m6) - 1.0*I*conjugate(m7)),\n",
       "        m3*(conjugate(m8) - 1.0*I*conjugate(m9)), m3*conjugate(m3)]],\n",
       "      dtype=object)"
      ]
     },
     "execution_count": 6,
     "metadata": {},
     "output_type": "execute_result"
    }
   ],
   "source": [
    "# RhoX_parametric = M_parametric*Mdagger_parametric\n",
    "RhoX_parametric = M_parametric.dot(Mdagger_parametric)\n",
    "RhoX_parametric"
   ]
  },
  {
   "cell_type": "code",
   "execution_count": 8,
   "metadata": {
    "scrolled": true
   },
   "outputs": [],
   "source": [
    "# xMatrix = sympy.MatrixSymbol('xMatrix', 3, 3)"
   ]
  },
  {
   "cell_type": "code",
   "execution_count": 9,
   "metadata": {
    "scrolled": true
   },
   "outputs": [],
   "source": [
    "# Likelihood = (3./(4.*np.pi))*np.trace( xMatrix * RhoX_parametric)"
   ]
  },
  {
   "cell_type": "code",
   "execution_count": 10,
   "metadata": {
    "scrolled": true
   },
   "outputs": [],
   "source": [
    "# Likelihood"
   ]
  },
  {
   "cell_type": "code",
   "execution_count": null,
   "metadata": {
    "scrolled": true
   },
   "outputs": [],
   "source": [
    "ProbeMatrix_array = alldata_df[\"ProbeMatrix\"].to_numpy()\n",
    "len(ProbeMatrix_array)"
   ]
  },
  {
   "cell_type": "code",
   "execution_count": null,
   "metadata": {
    "scrolled": true
   },
   "outputs": [],
   "source": [
    "# %timeit J2 = Likelihood.subs(x,ProbeMatrix_array[1])"
   ]
  },
  {
   "cell_type": "code",
   "execution_count": null,
   "metadata": {
    "scrolled": true
   },
   "outputs": [],
   "source": [
    "# J2 = Likelihood.subs(x,ProbeMatrix_array[1])\n",
    "# J2"
   ]
  },
  {
   "cell_type": "code",
   "execution_count": null,
   "metadata": {
    "scrolled": true
   },
   "outputs": [],
   "source": [
    "# J = np.prod([Likelihood.subs(x,i) for i in ProbeMatrix_array])"
   ]
  },
  {
   "cell_type": "code",
   "execution_count": null,
   "metadata": {
    "scrolled": true
   },
   "outputs": [],
   "source": [
    "# J"
   ]
  },
  {
   "cell_type": "code",
   "execution_count": null,
   "metadata": {
    "scrolled": true
   },
   "outputs": [],
   "source": [
    "# logJ=sympy.expand_log(sympy.log(J))\n",
    "# sol=sympy.solve(sympy.diff(logJ,p),p)[0]\n",
    "\n",
    "# x=linspace(0,1,100)\n",
    "# plot(x,map(sympy.lambdify(p,logJ,'numpy'),x),sol,logJ.subs(p,sol),'o',\n",
    "#                                           p_true,logJ.subs(p,p_true),'s',)\n",
    "# xlabel('$p$',fontsize=18)\n",
    "# ylabel('Likelihood',fontsize=18)\n",
    "# title('Estimate not equal to true value',fontsize=18)\n",
    "\n",
    "\n",
    "\n",
    "\n",
    "# logJ=sympy.expand_log(sympy.log(J))\n",
    "# sol=sympy.solve(sympy.diff(logJ,m3),m3)\n",
    "# sol\n",
    "\n",
    "\n",
    "\n",
    "\n",
    "\n",
    "# x=linspace(0,1,100)\n",
    "# plot(x,map(sympy.lambdify(p,logJ,'numpy'),x),sol,logJ.subs(p,sol),'o',\n",
    "#                                           p_true,logJ.subs(p,p_true),'s',)\n",
    "# xlabel('$p$',fontsize=18)\n",
    "# ylabel('Likelihood',fontsize=18)\n",
    "# title('Estimate not equal to true value',fontsize=18)\n"
   ]
  },
  {
   "cell_type": "markdown",
   "metadata": {},
   "source": [
    "##### Recreating formula from paper"
   ]
  },
  {
   "cell_type": "code",
   "execution_count": 11,
   "metadata": {},
   "outputs": [],
   "source": [
    "from sympy import I\n",
    "from sympy import cos as sympy_cos\n",
    "from sympy import sin as sympy_sin\n",
    "from sympy import LeviCivita\n",
    "\n",
    "\n",
    "def SymbolicProbeMatrix():\n",
    "    theta    = sympy.symbols('theta')\n",
    "    phi      = sympy.symbols('phi')\n",
    "\n",
    "#     rho      = np.array([[-999.j, -999.j, -999.j], [-999.j, -999.j, -999.j], [-999.j, -999.j, -999.j]])\n",
    "    rho      = np.array([[-999*I, -999*I, -999*I], [-999*I, -999*I, -999*I], [-999*I, -999.*I, -999*I]])\n",
    "    SinTheta = sympy_sin(theta)\n",
    "    SinPhi   = sympy_sin(phi)\n",
    "    CosTheta = sympy_cos(theta)\n",
    "    CosPhi   = sympy_cos(phi)\n",
    "    \n",
    "    l = [ SinTheta*CosPhi, SinTheta*SinPhi, CosTheta ]\n",
    "    l = [ SinTheta*CosPhi, SinTheta*SinPhi, CosTheta ]\n",
    "    for i in range(0,3):\n",
    "        for j in range(0,3):\n",
    "            for k in range(0,3):\n",
    "                epsilon = LeviCivita(i,j,k)\n",
    "                delta = -999.\n",
    "                if i == j:\n",
    "                    delta = 0.5\n",
    "                else:\n",
    "                    delta = 0.\n",
    "                rho[i][j] = delta - 0.5*l[i]*l[j]- I*0.22*epsilon*l[k]\n",
    "#                 rho[i][j] = delta - 0.5*l[i]*l[j]- (1j)*0.22*epsilon*l[k]\n",
    "#                 rho[i][j] = (1j)*l[k]\n",
    "                \n",
    "    return rho           \n"
   ]
  },
  {
   "cell_type": "code",
   "execution_count": 12,
   "metadata": {},
   "outputs": [
    {
     "data": {
      "text/plain": [
       "array([[-0.5*sin(theta)**2*cos(phi)**2 + 0.5,\n",
       "        -0.5*sin(phi)*sin(theta)**2*cos(phi) - 0.22*I*cos(theta),\n",
       "        -0.5*sin(theta)*cos(phi)*cos(theta)],\n",
       "       [-0.5*sin(phi)*sin(theta)**2*cos(phi) + 0.22*I*cos(theta),\n",
       "        -0.5*sin(phi)**2*sin(theta)**2 + 0.5,\n",
       "        -0.5*sin(phi)*sin(theta)*cos(theta)],\n",
       "       [-0.5*sin(theta)*cos(phi)*cos(theta),\n",
       "        -0.5*sin(phi)*sin(theta)*cos(theta), 0.5 - 0.5*cos(theta)**2]],\n",
       "      dtype=object)"
      ]
     },
     "execution_count": 12,
     "metadata": {},
     "output_type": "execute_result"
    }
   ],
   "source": [
    "Rho_l_parametric = SymbolicProbeMatrix()\n",
    "Rho_l_parametric"
   ]
  },
  {
   "cell_type": "code",
   "execution_count": 15,
   "metadata": {},
   "outputs": [
    {
     "name": "stdout",
     "output_type": "stream",
     "text": [
      "Help on function simplify in module sympy.simplify.simplify:\n",
      "\n",
      "simplify(expr, ratio=1.7, measure=<function count_ops at 0xa1f0f7710>, rational=False, inverse=False)\n",
      "    Simplifies the given expression.\n",
      "    \n",
      "    Simplification is not a well defined term and the exact strategies\n",
      "    this function tries can change in the future versions of SymPy. If\n",
      "    your algorithm relies on \"simplification\" (whatever it is), try to\n",
      "    determine what you need exactly  -  is it powsimp()?, radsimp()?,\n",
      "    together()?, logcombine()?, or something else? And use this particular\n",
      "    function directly, because those are well defined and thus your algorithm\n",
      "    will be robust.\n",
      "    \n",
      "    Nonetheless, especially for interactive use, or when you don't know\n",
      "    anything about the structure of the expression, simplify() tries to apply\n",
      "    intelligent heuristics to make the input expression \"simpler\".  For\n",
      "    example:\n",
      "    \n",
      "    >>> from sympy import simplify, cos, sin\n",
      "    >>> from sympy.abc import x, y\n",
      "    >>> a = (x + x**2)/(x*sin(y)**2 + x*cos(y)**2)\n",
      "    >>> a\n",
      "    (x**2 + x)/(x*sin(y)**2 + x*cos(y)**2)\n",
      "    >>> simplify(a)\n",
      "    x + 1\n",
      "    \n",
      "    Note that we could have obtained the same result by using specific\n",
      "    simplification functions:\n",
      "    \n",
      "    >>> from sympy import trigsimp, cancel\n",
      "    >>> trigsimp(a)\n",
      "    (x**2 + x)/x\n",
      "    >>> cancel(_)\n",
      "    x + 1\n",
      "    \n",
      "    In some cases, applying :func:`simplify` may actually result in some more\n",
      "    complicated expression. The default ``ratio=1.7`` prevents more extreme\n",
      "    cases: if (result length)/(input length) > ratio, then input is returned\n",
      "    unmodified.  The ``measure`` parameter lets you specify the function used\n",
      "    to determine how complex an expression is.  The function should take a\n",
      "    single argument as an expression and return a number such that if\n",
      "    expression ``a`` is more complex than expression ``b``, then\n",
      "    ``measure(a) > measure(b)``.  The default measure function is\n",
      "    :func:`count_ops`, which returns the total number of operations in the\n",
      "    expression.\n",
      "    \n",
      "    For example, if ``ratio=1``, ``simplify`` output can't be longer\n",
      "    than input.\n",
      "    \n",
      "    ::\n",
      "    \n",
      "        >>> from sympy import sqrt, simplify, count_ops, oo\n",
      "        >>> root = 1/(sqrt(2)+3)\n",
      "    \n",
      "    Since ``simplify(root)`` would result in a slightly longer expression,\n",
      "    root is returned unchanged instead::\n",
      "    \n",
      "       >>> simplify(root, ratio=1) == root\n",
      "       True\n",
      "    \n",
      "    If ``ratio=oo``, simplify will be applied anyway::\n",
      "    \n",
      "        >>> count_ops(simplify(root, ratio=oo)) > count_ops(root)\n",
      "        True\n",
      "    \n",
      "    Note that the shortest expression is not necessary the simplest, so\n",
      "    setting ``ratio`` to 1 may not be a good idea.\n",
      "    Heuristically, the default value ``ratio=1.7`` seems like a reasonable\n",
      "    choice.\n",
      "    \n",
      "    You can easily define your own measure function based on what you feel\n",
      "    should represent the \"size\" or \"complexity\" of the input expression.  Note\n",
      "    that some choices, such as ``lambda expr: len(str(expr))`` may appear to be\n",
      "    good metrics, but have other problems (in this case, the measure function\n",
      "    may slow down simplify too much for very large expressions).  If you don't\n",
      "    know what a good metric would be, the default, ``count_ops``, is a good\n",
      "    one.\n",
      "    \n",
      "    For example:\n",
      "    \n",
      "    >>> from sympy import symbols, log\n",
      "    >>> a, b = symbols('a b', positive=True)\n",
      "    >>> g = log(a) + log(b) + log(a)*log(1/b)\n",
      "    >>> h = simplify(g)\n",
      "    >>> h\n",
      "    log(a*b**(1 - log(a)))\n",
      "    >>> count_ops(g)\n",
      "    8\n",
      "    >>> count_ops(h)\n",
      "    5\n",
      "    \n",
      "    So you can see that ``h`` is simpler than ``g`` using the count_ops metric.\n",
      "    However, we may not like how ``simplify`` (in this case, using\n",
      "    ``logcombine``) has created the ``b**(log(1/a) + 1)`` term.  A simple way\n",
      "    to reduce this would be to give more weight to powers as operations in\n",
      "    ``count_ops``.  We can do this by using the ``visual=True`` option:\n",
      "    \n",
      "    >>> print(count_ops(g, visual=True))\n",
      "    2*ADD + DIV + 4*LOG + MUL\n",
      "    >>> print(count_ops(h, visual=True))\n",
      "    2*LOG + MUL + POW + SUB\n",
      "    \n",
      "    >>> from sympy import Symbol, S\n",
      "    >>> def my_measure(expr):\n",
      "    ...     POW = Symbol('POW')\n",
      "    ...     # Discourage powers by giving POW a weight of 10\n",
      "    ...     count = count_ops(expr, visual=True).subs(POW, 10)\n",
      "    ...     # Every other operation gets a weight of 1 (the default)\n",
      "    ...     count = count.replace(Symbol, type(S.One))\n",
      "    ...     return count\n",
      "    >>> my_measure(g)\n",
      "    8\n",
      "    >>> my_measure(h)\n",
      "    14\n",
      "    >>> 15./8 > 1.7 # 1.7 is the default ratio\n",
      "    True\n",
      "    >>> simplify(g, measure=my_measure)\n",
      "    -log(a)*log(b) + log(a) + log(b)\n",
      "    \n",
      "    Note that because ``simplify()`` internally tries many different\n",
      "    simplification strategies and then compares them using the measure\n",
      "    function, we get a completely different result that is still different\n",
      "    from the input expression by doing this.\n",
      "    \n",
      "    If rational=True, Floats will be recast as Rationals before simplification.\n",
      "    If rational=None, Floats will be recast as Rationals but the result will\n",
      "    be recast as Floats. If rational=False(default) then nothing will be done\n",
      "    to the Floats.\n",
      "    \n",
      "    If inverse=True, it will be assumed that a composition of inverse\n",
      "    functions, such as sin and asin, can be cancelled in any order.\n",
      "    For example, ``asin(sin(x))`` will yield ``x`` without checking whether\n",
      "    x belongs to the set where this relation is true. The default is\n",
      "    False.\n",
      "\n"
     ]
    }
   ],
   "source": [
    "help(sympy.simplify)"
   ]
  },
  {
   "cell_type": "code",
   "execution_count": 16,
   "metadata": {},
   "outputs": [
    {
     "data": {
      "text/latex": [
       "$\\displaystyle - 0.119366207318922 m_{1} \\sin^{2}{\\left(\\theta \\right)} \\cos^{2}{\\left(\\phi \\right)} \\overline{m_{1}} + 0.119366207318922 m_{1} \\overline{m_{1}} - 0.119366207318922 m_{2} \\sin^{2}{\\left(\\phi \\right)} \\sin^{2}{\\left(\\theta \\right)} \\overline{m_{2}} - 0.119366207318922 m_{2} \\sin{\\left(\\phi \\right)} \\sin^{2}{\\left(\\theta \\right)} \\cos{\\left(\\phi \\right)} \\overline{m_{4}} + 0.119366207318922 i m_{2} \\sin{\\left(\\phi \\right)} \\sin^{2}{\\left(\\theta \\right)} \\cos{\\left(\\phi \\right)} \\overline{m_{5}} - 0.0525211312203255 i m_{2} \\cos{\\left(\\theta \\right)} \\overline{m_{4}} - 0.0525211312203255 m_{2} \\cos{\\left(\\theta \\right)} \\overline{m_{5}} + 0.119366207318922 m_{2} \\overline{m_{2}} + 0.0298415518297304 m_{3} \\left(\\sin{\\left(\\phi - 2 \\theta \\right)} - \\sin{\\left(\\phi + 2 \\theta \\right)}\\right) \\overline{m_{6}} - 0.0298415518297304 i m_{3} \\left(\\sin{\\left(\\phi - 2 \\theta \\right)} - \\sin{\\left(\\phi + 2 \\theta \\right)}\\right) \\overline{m_{7}} - 0.0298415518297304 m_{3} \\left(\\cos{\\left(\\phi - 2 \\theta \\right)} - \\cos{\\left(\\phi + 2 \\theta \\right)}\\right) \\overline{m_{8}} + 0.0298415518297304 i m_{3} \\left(\\cos{\\left(\\phi - 2 \\theta \\right)} - \\cos{\\left(\\phi + 2 \\theta \\right)}\\right) \\overline{m_{9}} - 0.119366207318922 m_{3} \\cos^{2}{\\left(\\theta \\right)} \\overline{m_{3}} + 0.119366207318922 m_{3} \\overline{m_{3}} - 0.119366207318922 m_{4} \\sin{\\left(\\phi \\right)} \\sin^{2}{\\left(\\theta \\right)} \\cos{\\left(\\phi \\right)} \\overline{m_{2}} - 0.119366207318922 m_{4} \\sin^{2}{\\left(\\theta \\right)} \\cos^{2}{\\left(\\phi \\right)} \\overline{m_{4}} + 0.119366207318922 i m_{4} \\sin^{2}{\\left(\\theta \\right)} \\cos^{2}{\\left(\\phi \\right)} \\overline{m_{5}} + 0.0525211312203255 i m_{4} \\cos{\\left(\\theta \\right)} \\overline{m_{2}} + 0.119366207318922 m_{4} \\overline{m_{4}} - 0.119366207318922 i m_{4} \\overline{m_{5}} - 0.119366207318922 i m_{5} \\sin{\\left(\\phi \\right)} \\sin^{2}{\\left(\\theta \\right)} \\cos{\\left(\\phi \\right)} \\overline{m_{2}} - 0.119366207318922 i m_{5} \\sin^{2}{\\left(\\theta \\right)} \\cos^{2}{\\left(\\phi \\right)} \\overline{m_{4}} - 0.119366207318922 m_{5} \\sin^{2}{\\left(\\theta \\right)} \\cos^{2}{\\left(\\phi \\right)} \\overline{m_{5}} - 0.0525211312203255 m_{5} \\cos{\\left(\\theta \\right)} \\overline{m_{2}} + 0.119366207318922 i m_{5} \\overline{m_{4}} + 0.119366207318922 m_{5} \\overline{m_{5}} + 0.0298415518297304 m_{6} \\left(\\sin{\\left(\\phi - 2 \\theta \\right)} - \\sin{\\left(\\phi + 2 \\theta \\right)}\\right) \\overline{m_{3}} - 0.119366207318922 m_{6} \\sin{\\left(\\phi \\right)} \\sin^{2}{\\left(\\theta \\right)} \\cos{\\left(\\phi \\right)} \\overline{m_{8}} + 0.119366207318922 i m_{6} \\sin{\\left(\\phi \\right)} \\sin^{2}{\\left(\\theta \\right)} \\cos{\\left(\\phi \\right)} \\overline{m_{9}} - 0.119366207318922 m_{6} \\sin^{2}{\\left(\\theta \\right)} \\cos^{2}{\\left(\\phi \\right)} \\overline{m_{6}} + 0.119366207318922 i m_{6} \\sin^{2}{\\left(\\theta \\right)} \\cos^{2}{\\left(\\phi \\right)} \\overline{m_{7}} + 0.0525211312203255 i m_{6} \\cos{\\left(\\theta \\right)} \\overline{m_{8}} + 0.0525211312203255 m_{6} \\cos{\\left(\\theta \\right)} \\overline{m_{9}} + 0.119366207318922 m_{6} \\overline{m_{6}} - 0.119366207318922 i m_{6} \\overline{m_{7}} + 0.0298415518297304 i m_{7} \\left(\\sin{\\left(\\phi - 2 \\theta \\right)} - \\sin{\\left(\\phi + 2 \\theta \\right)}\\right) \\overline{m_{3}} - 0.119366207318922 i m_{7} \\sin{\\left(\\phi \\right)} \\sin^{2}{\\left(\\theta \\right)} \\cos{\\left(\\phi \\right)} \\overline{m_{8}} - 0.119366207318922 m_{7} \\sin{\\left(\\phi \\right)} \\sin^{2}{\\left(\\theta \\right)} \\cos{\\left(\\phi \\right)} \\overline{m_{9}} - 0.119366207318922 i m_{7} \\sin^{2}{\\left(\\theta \\right)} \\cos^{2}{\\left(\\phi \\right)} \\overline{m_{6}} - 0.119366207318922 m_{7} \\sin^{2}{\\left(\\theta \\right)} \\cos^{2}{\\left(\\phi \\right)} \\overline{m_{7}} - 0.0525211312203255 m_{7} \\cos{\\left(\\theta \\right)} \\overline{m_{8}} + 0.0525211312203255 i m_{7} \\cos{\\left(\\theta \\right)} \\overline{m_{9}} + 0.119366207318922 i m_{7} \\overline{m_{6}} + 0.119366207318922 m_{7} \\overline{m_{7}} - 0.0298415518297304 m_{8} \\left(\\cos{\\left(\\phi - 2 \\theta \\right)} - \\cos{\\left(\\phi + 2 \\theta \\right)}\\right) \\overline{m_{3}} - 0.119366207318922 m_{8} \\sin^{2}{\\left(\\phi \\right)} \\sin^{2}{\\left(\\theta \\right)} \\overline{m_{8}} + 0.119366207318922 i m_{8} \\sin^{2}{\\left(\\phi \\right)} \\sin^{2}{\\left(\\theta \\right)} \\overline{m_{9}} - 0.119366207318922 m_{8} \\sin{\\left(\\phi \\right)} \\sin^{2}{\\left(\\theta \\right)} \\cos{\\left(\\phi \\right)} \\overline{m_{6}} + 0.119366207318922 i m_{8} \\sin{\\left(\\phi \\right)} \\sin^{2}{\\left(\\theta \\right)} \\cos{\\left(\\phi \\right)} \\overline{m_{7}} - 0.0525211312203255 i m_{8} \\cos{\\left(\\theta \\right)} \\overline{m_{6}} - 0.0525211312203255 m_{8} \\cos{\\left(\\theta \\right)} \\overline{m_{7}} + 0.119366207318922 m_{8} \\overline{m_{8}} - 0.119366207318922 i m_{8} \\overline{m_{9}} - 0.0298415518297304 i m_{9} \\left(\\cos{\\left(\\phi - 2 \\theta \\right)} - \\cos{\\left(\\phi + 2 \\theta \\right)}\\right) \\overline{m_{3}} - 0.119366207318922 i m_{9} \\sin^{2}{\\left(\\phi \\right)} \\sin^{2}{\\left(\\theta \\right)} \\overline{m_{8}} - 0.119366207318922 m_{9} \\sin^{2}{\\left(\\phi \\right)} \\sin^{2}{\\left(\\theta \\right)} \\overline{m_{9}} - 0.119366207318922 i m_{9} \\sin{\\left(\\phi \\right)} \\sin^{2}{\\left(\\theta \\right)} \\cos{\\left(\\phi \\right)} \\overline{m_{6}} - 0.119366207318922 m_{9} \\sin{\\left(\\phi \\right)} \\sin^{2}{\\left(\\theta \\right)} \\cos{\\left(\\phi \\right)} \\overline{m_{7}} + 0.0525211312203255 m_{9} \\cos{\\left(\\theta \\right)} \\overline{m_{6}} - 0.0525211312203255 i m_{9} \\cos{\\left(\\theta \\right)} \\overline{m_{7}} + 0.119366207318922 i m_{9} \\overline{m_{8}} + 0.119366207318922 m_{9} \\overline{m_{9}}$"
      ],
      "text/plain": [
       "-0.119366207318922*m1*sin(theta)**2*cos(phi)**2*conjugate(m1) + 0.119366207318922*m1*conjugate(m1) - 0.119366207318922*m2*sin(phi)**2*sin(theta)**2*conjugate(m2) - 0.119366207318922*m2*sin(phi)*sin(theta)**2*cos(phi)*conjugate(m4) + 0.119366207318922*I*m2*sin(phi)*sin(theta)**2*cos(phi)*conjugate(m5) - 0.0525211312203255*I*m2*cos(theta)*conjugate(m4) - 0.0525211312203255*m2*cos(theta)*conjugate(m5) + 0.119366207318922*m2*conjugate(m2) + 0.0298415518297304*m3*(sin(phi - 2*theta) - sin(phi + 2*theta))*conjugate(m6) - 0.0298415518297304*I*m3*(sin(phi - 2*theta) - sin(phi + 2*theta))*conjugate(m7) - 0.0298415518297304*m3*(cos(phi - 2*theta) - cos(phi + 2*theta))*conjugate(m8) + 0.0298415518297304*I*m3*(cos(phi - 2*theta) - cos(phi + 2*theta))*conjugate(m9) - 0.119366207318922*m3*cos(theta)**2*conjugate(m3) + 0.119366207318922*m3*conjugate(m3) - 0.119366207318922*m4*sin(phi)*sin(theta)**2*cos(phi)*conjugate(m2) - 0.119366207318922*m4*sin(theta)**2*cos(phi)**2*conjugate(m4) + 0.119366207318922*I*m4*sin(theta)**2*cos(phi)**2*conjugate(m5) + 0.0525211312203255*I*m4*cos(theta)*conjugate(m2) + 0.119366207318922*m4*conjugate(m4) - 0.119366207318922*I*m4*conjugate(m5) - 0.119366207318922*I*m5*sin(phi)*sin(theta)**2*cos(phi)*conjugate(m2) - 0.119366207318922*I*m5*sin(theta)**2*cos(phi)**2*conjugate(m4) - 0.119366207318922*m5*sin(theta)**2*cos(phi)**2*conjugate(m5) - 0.0525211312203255*m5*cos(theta)*conjugate(m2) + 0.119366207318922*I*m5*conjugate(m4) + 0.119366207318922*m5*conjugate(m5) + 0.0298415518297304*m6*(sin(phi - 2*theta) - sin(phi + 2*theta))*conjugate(m3) - 0.119366207318922*m6*sin(phi)*sin(theta)**2*cos(phi)*conjugate(m8) + 0.119366207318922*I*m6*sin(phi)*sin(theta)**2*cos(phi)*conjugate(m9) - 0.119366207318922*m6*sin(theta)**2*cos(phi)**2*conjugate(m6) + 0.119366207318922*I*m6*sin(theta)**2*cos(phi)**2*conjugate(m7) + 0.0525211312203255*I*m6*cos(theta)*conjugate(m8) + 0.0525211312203255*m6*cos(theta)*conjugate(m9) + 0.119366207318922*m6*conjugate(m6) - 0.119366207318922*I*m6*conjugate(m7) + 0.0298415518297304*I*m7*(sin(phi - 2*theta) - sin(phi + 2*theta))*conjugate(m3) - 0.119366207318922*I*m7*sin(phi)*sin(theta)**2*cos(phi)*conjugate(m8) - 0.119366207318922*m7*sin(phi)*sin(theta)**2*cos(phi)*conjugate(m9) - 0.119366207318922*I*m7*sin(theta)**2*cos(phi)**2*conjugate(m6) - 0.119366207318922*m7*sin(theta)**2*cos(phi)**2*conjugate(m7) - 0.0525211312203255*m7*cos(theta)*conjugate(m8) + 0.0525211312203255*I*m7*cos(theta)*conjugate(m9) + 0.119366207318922*I*m7*conjugate(m6) + 0.119366207318922*m7*conjugate(m7) - 0.0298415518297304*m8*(cos(phi - 2*theta) - cos(phi + 2*theta))*conjugate(m3) - 0.119366207318922*m8*sin(phi)**2*sin(theta)**2*conjugate(m8) + 0.119366207318922*I*m8*sin(phi)**2*sin(theta)**2*conjugate(m9) - 0.119366207318922*m8*sin(phi)*sin(theta)**2*cos(phi)*conjugate(m6) + 0.119366207318922*I*m8*sin(phi)*sin(theta)**2*cos(phi)*conjugate(m7) - 0.0525211312203255*I*m8*cos(theta)*conjugate(m6) - 0.0525211312203255*m8*cos(theta)*conjugate(m7) + 0.119366207318922*m8*conjugate(m8) - 0.119366207318922*I*m8*conjugate(m9) - 0.0298415518297304*I*m9*(cos(phi - 2*theta) - cos(phi + 2*theta))*conjugate(m3) - 0.119366207318922*I*m9*sin(phi)**2*sin(theta)**2*conjugate(m8) - 0.119366207318922*m9*sin(phi)**2*sin(theta)**2*conjugate(m9) - 0.119366207318922*I*m9*sin(phi)*sin(theta)**2*cos(phi)*conjugate(m6) - 0.119366207318922*m9*sin(phi)*sin(theta)**2*cos(phi)*conjugate(m7) + 0.0525211312203255*m9*cos(theta)*conjugate(m6) - 0.0525211312203255*I*m9*cos(theta)*conjugate(m7) + 0.119366207318922*I*m9*conjugate(m8) + 0.119366207318922*m9*conjugate(m9)"
      ]
     },
     "execution_count": 16,
     "metadata": {},
     "output_type": "execute_result"
    }
   ],
   "source": [
    "dNdOmega_paper = sympy.simplify(sympy.expand((3./(4.*np.pi))*np.trace( Rho_l_parametric.dot(RhoX_parametric))))\n",
    "dNdOmega_paper\n"
   ]
  },
  {
   "cell_type": "code",
   "execution_count": null,
   "metadata": {},
   "outputs": [],
   "source": [
    "# theta    = sympy.symbols('theta')\n",
    "# phi      = sympy.symbols('phi')\n",
    "# IntegrateOverTheta = sympy.integrate( dNdOmega_paper, (theta, 0, np.pi))\n",
    "# IntegrateOverPhi = sympy.integrate( IntegrateOverTheta, (phi, 0, 2*np.pi))\n"
   ]
  },
  {
   "cell_type": "code",
   "execution_count": null,
   "metadata": {
    "scrolled": true
   },
   "outputs": [],
   "source": [
    "i0=sympy.symbols('i0')\n",
    "i1=sympy.symbols('i1')\n",
    "i2=sympy.symbols('i2')\n",
    "i3=sympy.symbols('i3')\n",
    "i4=sympy.symbols('i4')\n",
    "i5=sympy.symbols('i5')\n",
    "i6=sympy.symbols('i6')\n",
    "i7=sympy.symbols('i7')\n",
    "i8=sympy.symbols('i8')\n"
   ]
  },
  {
   "cell_type": "code",
   "execution_count": null,
   "metadata": {
    "scrolled": true
   },
   "outputs": [],
   "source": [
    "N_parametric = np.array([[ i0, i1, i2 ], \n",
    "                         [ i3, i4, i5 ], \n",
    "                         [ i6, i7, i8 ]])\n",
    "N_parametric"
   ]
  },
  {
   "cell_type": "code",
   "execution_count": null,
   "metadata": {
    "scrolled": true
   },
   "outputs": [],
   "source": [
    "# TrueLikelihood = (3./(4.*np.pi))*np.trace( N_parametric * RhoX_parametric)\n",
    "TrueLikelihood = sympy.expand((3./(4.*np.pi))*np.trace( N_parametric.dot(RhoX_parametric)))\n"
   ]
  },
  {
   "cell_type": "code",
   "execution_count": null,
   "metadata": {
    "scrolled": true
   },
   "outputs": [],
   "source": [
    "TrueLikelihood"
   ]
  },
  {
   "cell_type": "code",
   "execution_count": null,
   "metadata": {
    "scrolled": true
   },
   "outputs": [],
   "source": [
    "J2 = TrueLikelihood.subs([(i0,ProbeMatrix_array[1][0][0]), \n",
    "                          (i1,ProbeMatrix_array[1][0][1]), \n",
    "                          (i2,ProbeMatrix_array[1][0][2]), \n",
    "                          (i3,ProbeMatrix_array[1][1][0]), \n",
    "                          (i4,ProbeMatrix_array[1][1][1]), \n",
    "                          (i5,ProbeMatrix_array[1][1][2]), \n",
    "                          (i6,ProbeMatrix_array[1][0][0]), \n",
    "                          (i7,ProbeMatrix_array[1][0][0]), \n",
    "                          (i8,ProbeMatrix_array[1][0][0])])\n",
    "J2"
   ]
  },
  {
   "cell_type": "code",
   "execution_count": null,
   "metadata": {
    "scrolled": true
   },
   "outputs": [],
   "source": [
    "%timeit J3 = TrueLikelihood.subs([(i0,ProbeMatrix_array[1][0][0]), (i1,ProbeMatrix_array[1][0][1]), (i2,ProbeMatrix_array[1][0][2]), (i3,ProbeMatrix_array[1][1][0]), (i4,ProbeMatrix_array[1][1][1]), (i5,ProbeMatrix_array[1][1][2]), (i6,ProbeMatrix_array[1][0][0]), (i7,ProbeMatrix_array[1][0][0]), (i8,ProbeMatrix_array[1][0][0])])\n"
   ]
  },
  {
   "cell_type": "code",
   "execution_count": null,
   "metadata": {
    "scrolled": true
   },
   "outputs": [],
   "source": [
    "# J_ultimate = np.prod([TrueLikelihood.subs(x,i) for i in ProbeMatrix_array])\n",
    "# J_ultimate = 1.\n",
    "# count = 0\n",
    "# import time\n",
    "# start = time.time()\n",
    "# for Rho_l in ProbeMatrix_array:\n",
    "#     count += 1\n",
    "#     if count > 2:\n",
    "#         break\n",
    "#     J_ultimate *= TrueLikelihood.subs([(i0,Rho_l[0][0]), (i1,Rho_l[0][1]), (i2,Rho_l[0][2]), (i3,Rho_l[1][0]), (i4,Rho_l[1][1]), (i5,Rho_l[1][2]), (i6,Rho_l[2][0]), (i7,Rho_l[2][1]), (i8,Rho_l[2][2])])\n",
    "# end = time.time()\n",
    "# print(end - start)\n",
    "# J_ultimate    \n",
    "\n",
    "\n"
   ]
  },
  {
   "cell_type": "code",
   "execution_count": null,
   "metadata": {
    "scrolled": true
   },
   "outputs": [],
   "source": [
    "J_ultimate = 1."
   ]
  },
  {
   "cell_type": "code",
   "execution_count": null,
   "metadata": {
    "scrolled": true
   },
   "outputs": [],
   "source": [
    "# alldata_df['ProbeMatrix_0'] = alldata_df.apply(lambda x: ProbeMatrix( x['CosTheta'], x['Phi'], 1 ), axis=1)\n",
    "# alldata_df['ProbeMatrix_1'] = alldata_df.apply(lambda x: ProbeMatrix( x['CosTheta'], x['Phi'], 2 ), axis=1)\n",
    "# alldata_df['ProbeMatrix_2'] = alldata_df.apply(lambda x: ProbeMatrix( x['CosTheta'], x['Phi'], 3 ), axis=1)\n",
    "# alldata_df['ProbeMatrix_3'] = alldata_df.apply(lambda x: ProbeMatrix( x['CosTheta'], x['Phi'], 5 ), axis=1)\n",
    "# alldata_df['ProbeMatrix_4'] = alldata_df.apply(lambda x: ProbeMatrix( x['CosTheta'], x['Phi'], 6 ), axis=1)\n",
    "# alldata_df['ProbeMatrix_5'] = alldata_df.apply(lambda x: ProbeMatrix( x['CosTheta'], x['Phi'], 7 ), axis=1)\n",
    "# alldata_df['ProbeMatrix_6'] = alldata_df.apply(lambda x: ProbeMatrix( x['CosTheta'], x['Phi'], 8 ), axis=1)\n",
    "# alldata_df['ProbeMatrix_7'] = alldata_df.apply(lambda x: ProbeMatrix( x['CosTheta'], x['Phi'], 9 ), axis=1)\n",
    "# alldata_df['ProbeMatrix_8'] = alldata_df.apply(lambda x: ProbeMatrix( x['CosTheta'], x['Phi'], 10), axis=1)"
   ]
  },
  {
   "cell_type": "code",
   "execution_count": null,
   "metadata": {
    "scrolled": true
   },
   "outputs": [],
   "source": [
    "# def Likelihood( i00, i01, i02, i10, i11, i12, i20, i21, i22 ):\n",
    "#     rho            = np.array([[ i00, i01, i02 ], [ i10, i11, i12 ], [ i20, i21, i22 ]])\n",
    "#     TrueLikelihood = (3./(4.*np.pi))*np.trace( rho * RhoX_parametric)\n",
    "#     return TrueLikelihood\n"
   ]
  },
  {
   "cell_type": "code",
   "execution_count": null,
   "metadata": {
    "scrolled": true
   },
   "outputs": [],
   "source": [
    "# alldata_df['Likelihood'] = alldata_df.apply(lambda x: Likelihood( x['ProbeMatrix_0'], x['ProbeMatrix_1'], x['ProbeMatrix_2'], x['ProbeMatrix_3'], x['ProbeMatrix_4'], x['ProbeMatrix_5'], x['ProbeMatrix_6'], x['ProbeMatrix_7'], x['ProbeMatrix_8'],  10), axis=1)"
   ]
  },
  {
   "cell_type": "code",
   "execution_count": null,
   "metadata": {},
   "outputs": [],
   "source": [
    "def ProbeMatrix_pack( CosTheta, Phi ):\n",
    "    rho      = np.array([[-999.j, -999.j, -999.j], [-999.j, -999.j, -999.j], [-999.j, -999.j, -999.j]])\n",
    "    SinTheta = math.sqrt(1 - CosTheta*CosTheta)\n",
    "    CosPhi   = math.cos(Phi)\n",
    "    SinPhi   = math.sin(Phi)\n",
    "    l = [ SinTheta*CosPhi, SinTheta*SinPhi, CosTheta ]\n",
    "    for i in range(0,3):\n",
    "        for j in range(0,3):\n",
    "            for k in range(0,3):\n",
    "                epsilon = LeviCivita(i,j,k)\n",
    "                delta = -999.\n",
    "                if i == j:\n",
    "                    delta = 0.5\n",
    "                else:\n",
    "                    delta = 0.\n",
    "                rho[i][j] = delta - 0.5*l[i]*l[j]- (1j)*0.22*epsilon*l[k]\n",
    "    return rho[0][0], rho[0][1], rho[0][2], rho[1][0], rho[1][1], rho[1][2], rho[2][0], rho[2][1], rho[2][2]   \n"
   ]
  },
  {
   "cell_type": "code",
   "execution_count": null,
   "metadata": {},
   "outputs": [],
   "source": [
    "alldata_df[['ProbeMatrix_0','ProbeMatrix_1', 'ProbeMatrix_2','ProbeMatrix_3', 'ProbeMatrix_4','ProbeMatrix_5', 'ProbeMatrix_6','ProbeMatrix_7','ProbeMatrix_8']] = alldata_df.apply(lambda x: ProbeMatrix_pack( x['CosTheta'], x['Phi'] ), axis=1, result_type=\"expand\")\n"
   ]
  },
  {
   "cell_type": "code",
   "execution_count": null,
   "metadata": {},
   "outputs": [],
   "source": [
    "alldata_df\n",
    "alldata_df.to_pickle(\"AllDataQT.txt\")\n"
   ]
  },
  {
   "cell_type": "code",
   "execution_count": 14,
   "metadata": {},
   "outputs": [],
   "source": [
    "alldata_df = pd.read_pickle(\"AllDataQT.txt\")\n"
   ]
  },
  {
   "cell_type": "code",
   "execution_count": 15,
   "metadata": {},
   "outputs": [
    {
     "data": {
      "text/html": [
       "<div>\n",
       "<style scoped>\n",
       "    .dataframe tbody tr th:only-of-type {\n",
       "        vertical-align: middle;\n",
       "    }\n",
       "\n",
       "    .dataframe tbody tr th {\n",
       "        vertical-align: top;\n",
       "    }\n",
       "\n",
       "    .dataframe thead th {\n",
       "        text-align: right;\n",
       "    }\n",
       "</style>\n",
       "<table border=\"1\" class=\"dataframe\">\n",
       "  <thead>\n",
       "    <tr style=\"text-align: right;\">\n",
       "      <th></th>\n",
       "      <th>fInvariantMassDimuon</th>\n",
       "      <th>fRapidityDimuon</th>\n",
       "      <th>fPtDimuon</th>\n",
       "      <th>fRapiditySingleMuon_0</th>\n",
       "      <th>fPtSingleMuon_0</th>\n",
       "      <th>fPhiSingleMuon_0</th>\n",
       "      <th>fRapiditySingleMuon_1</th>\n",
       "      <th>fPtSingleMuon_1</th>\n",
       "      <th>fPhiSingleMuon_1</th>\n",
       "      <th>fPxSingleMuon_0</th>\n",
       "      <th>...</th>\n",
       "      <th>ProbeMatrix_1</th>\n",
       "      <th>ProbeMatrix_2</th>\n",
       "      <th>ProbeMatrix_3</th>\n",
       "      <th>ProbeMatrix_4</th>\n",
       "      <th>ProbeMatrix_5</th>\n",
       "      <th>ProbeMatrix_6</th>\n",
       "      <th>ProbeMatrix_7</th>\n",
       "      <th>ProbeMatrix_8</th>\n",
       "      <th>Likelihood</th>\n",
       "      <th>Theta</th>\n",
       "    </tr>\n",
       "    <tr>\n",
       "      <th>entry</th>\n",
       "      <th></th>\n",
       "      <th></th>\n",
       "      <th></th>\n",
       "      <th></th>\n",
       "      <th></th>\n",
       "      <th></th>\n",
       "      <th></th>\n",
       "      <th></th>\n",
       "      <th></th>\n",
       "      <th></th>\n",
       "      <th></th>\n",
       "      <th></th>\n",
       "      <th></th>\n",
       "      <th></th>\n",
       "      <th></th>\n",
       "      <th></th>\n",
       "      <th></th>\n",
       "      <th></th>\n",
       "      <th></th>\n",
       "      <th></th>\n",
       "      <th></th>\n",
       "    </tr>\n",
       "  </thead>\n",
       "  <tbody>\n",
       "    <tr>\n",
       "      <td>0</td>\n",
       "      <td>5.892640</td>\n",
       "      <td>-2.667988</td>\n",
       "      <td>0.123565</td>\n",
       "      <td>-2.692296</td>\n",
       "      <td>2.885155</td>\n",
       "      <td>5.117263</td>\n",
       "      <td>-2.645885</td>\n",
       "      <td>3.003406</td>\n",
       "      <td>1.963493</td>\n",
       "      <td>1.136472</td>\n",
       "      <td>...</td>\n",
       "      <td>-0.138746+0.005101j</td>\n",
       "      <td>0.011091+0.000000j</td>\n",
       "      <td>-0.138746-0.005101j</td>\n",
       "      <td>0.457938+0.000000j</td>\n",
       "      <td>0.003362+0.000000j</td>\n",
       "      <td>0.011091+0.000000j</td>\n",
       "      <td>0.003362+0.000000j</td>\n",
       "      <td>0.499731+0.000000j</td>\n",
       "      <td>0.0101057846269246*m0*conjugate(m0) + 0.109324...</td>\n",
       "      <td>1.593984</td>\n",
       "    </tr>\n",
       "    <tr>\n",
       "      <td>1</td>\n",
       "      <td>5.556733</td>\n",
       "      <td>-3.362401</td>\n",
       "      <td>1.205014</td>\n",
       "      <td>-3.160859</td>\n",
       "      <td>3.054338</td>\n",
       "      <td>3.236829</td>\n",
       "      <td>-3.610509</td>\n",
       "      <td>2.488342</td>\n",
       "      <td>5.990105</td>\n",
       "      <td>-3.040497</td>\n",
       "      <td>...</td>\n",
       "      <td>0.197055-0.049286j</td>\n",
       "      <td>0.051323+0.000000j</td>\n",
       "      <td>0.197055+0.049286j</td>\n",
       "      <td>0.130059+0.000000j</td>\n",
       "      <td>-0.096351+0.000000j</td>\n",
       "      <td>0.051323+0.000000j</td>\n",
       "      <td>-0.096351+0.000000j</td>\n",
       "      <td>0.474906+0.000000j</td>\n",
       "      <td>0.0943078529103615*m0*conjugate(m0) + 0.031049...</td>\n",
       "      <td>1.344850</td>\n",
       "    </tr>\n",
       "    <tr>\n",
       "      <td>2</td>\n",
       "      <td>3.764523</td>\n",
       "      <td>-3.305047</td>\n",
       "      <td>0.977500</td>\n",
       "      <td>-2.927344</td>\n",
       "      <td>2.206436</td>\n",
       "      <td>0.967465</td>\n",
       "      <td>-3.947029</td>\n",
       "      <td>1.250881</td>\n",
       "      <td>3.985001</td>\n",
       "      <td>1.251907</td>\n",
       "      <td>...</td>\n",
       "      <td>0.080905-0.100326j</td>\n",
       "      <td>0.198447+0.000000j</td>\n",
       "      <td>0.080905+0.100326j</td>\n",
       "      <td>0.482717+0.000000j</td>\n",
       "      <td>-0.042392+0.000000j</td>\n",
       "      <td>0.198447+0.000000j</td>\n",
       "      <td>-0.042392+0.000000j</td>\n",
       "      <td>0.396020+0.000000j</td>\n",
       "      <td>0.0289494412678875*m0*conjugate(m0) + 0.115240...</td>\n",
       "      <td>1.097271</td>\n",
       "    </tr>\n",
       "    <tr>\n",
       "      <td>3</td>\n",
       "      <td>4.809436</td>\n",
       "      <td>-3.446898</td>\n",
       "      <td>0.030311</td>\n",
       "      <td>-3.215612</td>\n",
       "      <td>2.324851</td>\n",
       "      <td>4.452306</td>\n",
       "      <td>-3.677346</td>\n",
       "      <td>2.354517</td>\n",
       "      <td>1.308053</td>\n",
       "      <td>-0.597860</td>\n",
       "      <td>...</td>\n",
       "      <td>-0.095196-0.049957j</td>\n",
       "      <td>-0.108222+0.000000j</td>\n",
       "      <td>-0.095196+0.049957j</td>\n",
       "      <td>0.480051+0.000000j</td>\n",
       "      <td>-0.022679+0.000000j</td>\n",
       "      <td>-0.108222+0.000000j</td>\n",
       "      <td>-0.022679+0.000000j</td>\n",
       "      <td>0.474218+0.000000j</td>\n",
       "      <td>0.0109175425079742*m0*conjugate(m0) + 0.114603...</td>\n",
       "      <td>1.341721</td>\n",
       "    </tr>\n",
       "    <tr>\n",
       "      <td>4</td>\n",
       "      <td>3.109695</td>\n",
       "      <td>-3.069178</td>\n",
       "      <td>2.146091</td>\n",
       "      <td>-2.878204</td>\n",
       "      <td>1.815964</td>\n",
       "      <td>5.904566</td>\n",
       "      <td>-3.255958</td>\n",
       "      <td>1.889936</td>\n",
       "      <td>3.997664</td>\n",
       "      <td>1.687350</td>\n",
       "      <td>...</td>\n",
       "      <td>0.016492-0.050008j</td>\n",
       "      <td>-0.003852+0.000000j</td>\n",
       "      <td>0.016492+0.050008j</td>\n",
       "      <td>0.026409+0.000000j</td>\n",
       "      <td>0.110613+0.000000j</td>\n",
       "      <td>-0.003852+0.000000j</td>\n",
       "      <td>0.110613+0.000000j</td>\n",
       "      <td>0.474165+0.000000j</td>\n",
       "      <td>0.119229104503802*m0*conjugate(m0) + 0.0063047...</td>\n",
       "      <td>1.341482</td>\n",
       "    </tr>\n",
       "    <tr>\n",
       "      <td>...</td>\n",
       "      <td>...</td>\n",
       "      <td>...</td>\n",
       "      <td>...</td>\n",
       "      <td>...</td>\n",
       "      <td>...</td>\n",
       "      <td>...</td>\n",
       "      <td>...</td>\n",
       "      <td>...</td>\n",
       "      <td>...</td>\n",
       "      <td>...</td>\n",
       "      <td>...</td>\n",
       "      <td>...</td>\n",
       "      <td>...</td>\n",
       "      <td>...</td>\n",
       "      <td>...</td>\n",
       "      <td>...</td>\n",
       "      <td>...</td>\n",
       "      <td>...</td>\n",
       "      <td>...</td>\n",
       "      <td>...</td>\n",
       "      <td>...</td>\n",
       "    </tr>\n",
       "    <tr>\n",
       "      <td>21336</td>\n",
       "      <td>2.272984</td>\n",
       "      <td>-2.952893</td>\n",
       "      <td>0.072006</td>\n",
       "      <td>-3.123786</td>\n",
       "      <td>1.083577</td>\n",
       "      <td>2.250013</td>\n",
       "      <td>-2.800486</td>\n",
       "      <td>1.151303</td>\n",
       "      <td>5.369712</td>\n",
       "      <td>-0.680685</td>\n",
       "      <td>...</td>\n",
       "      <td>-0.155594+0.035337j</td>\n",
       "      <td>0.074558+0.000000j</td>\n",
       "      <td>-0.155594-0.035337j</td>\n",
       "      <td>0.443819+0.000000j</td>\n",
       "      <td>0.026921+0.000000j</td>\n",
       "      <td>0.074558+0.000000j</td>\n",
       "      <td>0.026921+0.000000j</td>\n",
       "      <td>0.487100+0.000000j</td>\n",
       "      <td>0.0164919636291332*m0*conjugate(m0) + 0.105953...</td>\n",
       "      <td>1.732119</td>\n",
       "    </tr>\n",
       "    <tr>\n",
       "      <td>21337</td>\n",
       "      <td>2.817354</td>\n",
       "      <td>-2.626659</td>\n",
       "      <td>0.120189</td>\n",
       "      <td>-2.759661</td>\n",
       "      <td>1.336734</td>\n",
       "      <td>2.906441</td>\n",
       "      <td>-2.509668</td>\n",
       "      <td>1.453413</td>\n",
       "      <td>6.068719</td>\n",
       "      <td>-1.299945</td>\n",
       "      <td>...</td>\n",
       "      <td>0.114644+0.027359j</td>\n",
       "      <td>0.059896+0.000000j</td>\n",
       "      <td>0.114644-0.027359j</td>\n",
       "      <td>0.471670+0.000000j</td>\n",
       "      <td>-0.014801+0.000000j</td>\n",
       "      <td>0.059896+0.000000j</td>\n",
       "      <td>-0.014801+0.000000j</td>\n",
       "      <td>0.492267+0.000000j</td>\n",
       "      <td>0.00860929880724287*m0*conjugate(m0) + 0.11260...</td>\n",
       "      <td>1.695480</td>\n",
       "    </tr>\n",
       "    <tr>\n",
       "      <td>21338</td>\n",
       "      <td>2.577551</td>\n",
       "      <td>-3.507101</td>\n",
       "      <td>0.152681</td>\n",
       "      <td>-3.877741</td>\n",
       "      <td>1.264963</td>\n",
       "      <td>3.347634</td>\n",
       "      <td>-3.101208</td>\n",
       "      <td>1.124800</td>\n",
       "      <td>0.155279</td>\n",
       "      <td>-1.238207</td>\n",
       "      <td>...</td>\n",
       "      <td>0.156893+0.081635j</td>\n",
       "      <td>-0.158177+0.000000j</td>\n",
       "      <td>0.156893-0.081635j</td>\n",
       "      <td>0.432268+0.000000j</td>\n",
       "      <td>0.068287+0.000000j</td>\n",
       "      <td>-0.158177+0.000000j</td>\n",
       "      <td>0.068287+0.000000j</td>\n",
       "      <td>0.431154+0.000000j</td>\n",
       "      <td>0.0326054920540503*m0*conjugate(m0) + 0.103196...</td>\n",
       "      <td>1.950955</td>\n",
       "    </tr>\n",
       "    <tr>\n",
       "      <td>21339</td>\n",
       "      <td>3.650827</td>\n",
       "      <td>-2.742143</td>\n",
       "      <td>0.111779</td>\n",
       "      <td>-2.956062</td>\n",
       "      <td>1.810560</td>\n",
       "      <td>3.425226</td>\n",
       "      <td>-2.524795</td>\n",
       "      <td>1.752395</td>\n",
       "      <td>0.337228</td>\n",
       "      <td>-1.738219</td>\n",
       "      <td>...</td>\n",
       "      <td>-0.212132+0.046817j</td>\n",
       "      <td>-0.054104+0.000000j</td>\n",
       "      <td>-0.212132-0.046817j</td>\n",
       "      <td>0.151924+0.000000j</td>\n",
       "      <td>-0.088777+0.000000j</td>\n",
       "      <td>-0.054104+0.000000j</td>\n",
       "      <td>-0.088777+0.000000j</td>\n",
       "      <td>0.477357+0.000000j</td>\n",
       "      <td>0.0885024865312957*m0*conjugate(m0) + 0.036269...</td>\n",
       "      <td>1.785239</td>\n",
       "    </tr>\n",
       "    <tr>\n",
       "      <td>21340</td>\n",
       "      <td>2.343100</td>\n",
       "      <td>-3.197395</td>\n",
       "      <td>0.066526</td>\n",
       "      <td>-3.267221</td>\n",
       "      <td>1.183768</td>\n",
       "      <td>3.460268</td>\n",
       "      <td>-3.133565</td>\n",
       "      <td>1.145464</td>\n",
       "      <td>0.365389</td>\n",
       "      <td>-1.124167</td>\n",
       "      <td>...</td>\n",
       "      <td>-0.234326+0.014771j</td>\n",
       "      <td>-0.019287+0.000000j</td>\n",
       "      <td>-0.234326-0.014771j</td>\n",
       "      <td>0.167288+0.000000j</td>\n",
       "      <td>-0.027386+0.000000j</td>\n",
       "      <td>-0.019287+0.000000j</td>\n",
       "      <td>-0.027386+0.000000j</td>\n",
       "      <td>0.497746+0.000000j</td>\n",
       "      <td>0.0799673640185596*m0*conjugate(m0) + 0.039936...</td>\n",
       "      <td>1.637990</td>\n",
       "    </tr>\n",
       "  </tbody>\n",
       "</table>\n",
       "<p>75114 rows × 37 columns</p>\n",
       "</div>"
      ],
      "text/plain": [
       "       fInvariantMassDimuon  fRapidityDimuon  fPtDimuon  \\\n",
       "entry                                                     \n",
       "0                  5.892640        -2.667988   0.123565   \n",
       "1                  5.556733        -3.362401   1.205014   \n",
       "2                  3.764523        -3.305047   0.977500   \n",
       "3                  4.809436        -3.446898   0.030311   \n",
       "4                  3.109695        -3.069178   2.146091   \n",
       "...                     ...              ...        ...   \n",
       "21336              2.272984        -2.952893   0.072006   \n",
       "21337              2.817354        -2.626659   0.120189   \n",
       "21338              2.577551        -3.507101   0.152681   \n",
       "21339              3.650827        -2.742143   0.111779   \n",
       "21340              2.343100        -3.197395   0.066526   \n",
       "\n",
       "       fRapiditySingleMuon_0  fPtSingleMuon_0  fPhiSingleMuon_0  \\\n",
       "entry                                                             \n",
       "0                  -2.692296         2.885155          5.117263   \n",
       "1                  -3.160859         3.054338          3.236829   \n",
       "2                  -2.927344         2.206436          0.967465   \n",
       "3                  -3.215612         2.324851          4.452306   \n",
       "4                  -2.878204         1.815964          5.904566   \n",
       "...                      ...              ...               ...   \n",
       "21336              -3.123786         1.083577          2.250013   \n",
       "21337              -2.759661         1.336734          2.906441   \n",
       "21338              -3.877741         1.264963          3.347634   \n",
       "21339              -2.956062         1.810560          3.425226   \n",
       "21340              -3.267221         1.183768          3.460268   \n",
       "\n",
       "       fRapiditySingleMuon_1  fPtSingleMuon_1  fPhiSingleMuon_1  \\\n",
       "entry                                                             \n",
       "0                  -2.645885         3.003406          1.963493   \n",
       "1                  -3.610509         2.488342          5.990105   \n",
       "2                  -3.947029         1.250881          3.985001   \n",
       "3                  -3.677346         2.354517          1.308053   \n",
       "4                  -3.255958         1.889936          3.997664   \n",
       "...                      ...              ...               ...   \n",
       "21336              -2.800486         1.151303          5.369712   \n",
       "21337              -2.509668         1.453413          6.068719   \n",
       "21338              -3.101208         1.124800          0.155279   \n",
       "21339              -2.524795         1.752395          0.337228   \n",
       "21340              -3.133565         1.145464          0.365389   \n",
       "\n",
       "       fPxSingleMuon_0  ...       ProbeMatrix_1       ProbeMatrix_2  \\\n",
       "entry                   ...                                           \n",
       "0             1.136472  ... -0.138746+0.005101j  0.011091+0.000000j   \n",
       "1            -3.040497  ...  0.197055-0.049286j  0.051323+0.000000j   \n",
       "2             1.251907  ...  0.080905-0.100326j  0.198447+0.000000j   \n",
       "3            -0.597860  ... -0.095196-0.049957j -0.108222+0.000000j   \n",
       "4             1.687350  ...  0.016492-0.050008j -0.003852+0.000000j   \n",
       "...                ...  ...                 ...                 ...   \n",
       "21336        -0.680685  ... -0.155594+0.035337j  0.074558+0.000000j   \n",
       "21337        -1.299945  ...  0.114644+0.027359j  0.059896+0.000000j   \n",
       "21338        -1.238207  ...  0.156893+0.081635j -0.158177+0.000000j   \n",
       "21339        -1.738219  ... -0.212132+0.046817j -0.054104+0.000000j   \n",
       "21340        -1.124167  ... -0.234326+0.014771j -0.019287+0.000000j   \n",
       "\n",
       "            ProbeMatrix_3       ProbeMatrix_4       ProbeMatrix_5  \\\n",
       "entry                                                               \n",
       "0     -0.138746-0.005101j  0.457938+0.000000j  0.003362+0.000000j   \n",
       "1      0.197055+0.049286j  0.130059+0.000000j -0.096351+0.000000j   \n",
       "2      0.080905+0.100326j  0.482717+0.000000j -0.042392+0.000000j   \n",
       "3     -0.095196+0.049957j  0.480051+0.000000j -0.022679+0.000000j   \n",
       "4      0.016492+0.050008j  0.026409+0.000000j  0.110613+0.000000j   \n",
       "...                   ...                 ...                 ...   \n",
       "21336 -0.155594-0.035337j  0.443819+0.000000j  0.026921+0.000000j   \n",
       "21337  0.114644-0.027359j  0.471670+0.000000j -0.014801+0.000000j   \n",
       "21338  0.156893-0.081635j  0.432268+0.000000j  0.068287+0.000000j   \n",
       "21339 -0.212132-0.046817j  0.151924+0.000000j -0.088777+0.000000j   \n",
       "21340 -0.234326-0.014771j  0.167288+0.000000j -0.027386+0.000000j   \n",
       "\n",
       "            ProbeMatrix_6       ProbeMatrix_7       ProbeMatrix_8  \\\n",
       "entry                                                               \n",
       "0      0.011091+0.000000j  0.003362+0.000000j  0.499731+0.000000j   \n",
       "1      0.051323+0.000000j -0.096351+0.000000j  0.474906+0.000000j   \n",
       "2      0.198447+0.000000j -0.042392+0.000000j  0.396020+0.000000j   \n",
       "3     -0.108222+0.000000j -0.022679+0.000000j  0.474218+0.000000j   \n",
       "4     -0.003852+0.000000j  0.110613+0.000000j  0.474165+0.000000j   \n",
       "...                   ...                 ...                 ...   \n",
       "21336  0.074558+0.000000j  0.026921+0.000000j  0.487100+0.000000j   \n",
       "21337  0.059896+0.000000j -0.014801+0.000000j  0.492267+0.000000j   \n",
       "21338 -0.158177+0.000000j  0.068287+0.000000j  0.431154+0.000000j   \n",
       "21339 -0.054104+0.000000j -0.088777+0.000000j  0.477357+0.000000j   \n",
       "21340 -0.019287+0.000000j -0.027386+0.000000j  0.497746+0.000000j   \n",
       "\n",
       "                                              Likelihood     Theta  \n",
       "entry                                                               \n",
       "0      0.0101057846269246*m0*conjugate(m0) + 0.109324...  1.593984  \n",
       "1      0.0943078529103615*m0*conjugate(m0) + 0.031049...  1.344850  \n",
       "2      0.0289494412678875*m0*conjugate(m0) + 0.115240...  1.097271  \n",
       "3      0.0109175425079742*m0*conjugate(m0) + 0.114603...  1.341721  \n",
       "4      0.119229104503802*m0*conjugate(m0) + 0.0063047...  1.341482  \n",
       "...                                                  ...       ...  \n",
       "21336  0.0164919636291332*m0*conjugate(m0) + 0.105953...  1.732119  \n",
       "21337  0.00860929880724287*m0*conjugate(m0) + 0.11260...  1.695480  \n",
       "21338  0.0326054920540503*m0*conjugate(m0) + 0.103196...  1.950955  \n",
       "21339  0.0885024865312957*m0*conjugate(m0) + 0.036269...  1.785239  \n",
       "21340  0.0799673640185596*m0*conjugate(m0) + 0.039936...  1.637990  \n",
       "\n",
       "[75114 rows x 37 columns]"
      ]
     },
     "execution_count": 15,
     "metadata": {},
     "output_type": "execute_result"
    }
   ],
   "source": [
    "alldata_df['Theta'] = alldata_df.apply(lambda x: ApplyInverseCos(x['CosTheta']), axis=1)\n",
    "alldata_df\n"
   ]
  },
  {
   "cell_type": "code",
   "execution_count": null,
   "metadata": {},
   "outputs": [],
   "source": [
    "# def Likelihood( i00, i01, i02, i10, i11, i12, i20, i21, i22 ):\n",
    "#     rho            = np.array([[ i00, i01, i02 ], [ i10, i11, i12 ], [ i20, i21, i22 ]])\n",
    "#     TrueLikelihood = (3./(4.*np.pi))*np.trace( rho * RhoX_parametric)\n",
    "#     return TrueLikelihood\n",
    "\n",
    "# def Likelihood():\n",
    "#     TrueLikelihood = sympy.expand((3./(4.*np.pi))*np.trace( Rho_l_parametric.dot(RhoX_parametric)))\n",
    "#     return TrueLikelihood\n",
    "\n",
    "Theta_array = alldata_df[\"Theta\"].to_numpy()\n",
    "Phi_array   = alldata_df[\"Phi\"].to_numpy()\n",
    "\n",
    "theta    = sympy.symbols('theta')\n",
    "phi      = sympy.symbols('phi')\n",
    "\n",
    "\n",
    "def SubsInLikelihood( ThetaValue, PhiValue ):\n",
    "    Rho_l_parametric    = SymbolicProbeMatrix()\n",
    "    TrueLikelihood      = sympy.expand((3./(4.*np.pi))*np.trace( Rho_l_parametric.dot(RhoX_parametric)))\n",
    "    TrueLikelihoodValue = TrueLikelihood.subs([(theta,ThetaValue), (phi, PhiValue)])\n",
    "    return TrueLikelihoodValue\n",
    "    \n",
    "# %timeit y = SubsInLikelihood(Theta_array[1], Phi_array[1])\n",
    "alldata_df['TrueLikelihood'] = alldata_df.apply(lambda x: SubsInLikelihood( x['Theta'], x['Phi'] ), axis=1)\n",
    "\n",
    "# TrueLikelihood_array = np.vectorize(SubsInLikelihood)()\n",
    "# CosPhiColumn   = np.vectorize(ApplyCos)(PhiColumn)\n",
    "# TrueLikelihood.subs([(i0,Rho_l[0][0]), (i1,Rho_l[0][1]),"
   ]
  },
  {
   "cell_type": "code",
   "execution_count": null,
   "metadata": {},
   "outputs": [],
   "source": [
    "# alldata_df['Likelihood'] = alldata_df.apply(lambda x: Likelihood( x['ProbeMatrix_0'], x['ProbeMatrix_1'], x['ProbeMatrix_2'], x['ProbeMatrix_3'], x['ProbeMatrix_4'], x['ProbeMatrix_5'], x['ProbeMatrix_6'], x['ProbeMatrix_7'], x['ProbeMatrix_8'] ), axis=1)"
   ]
  },
  {
   "cell_type": "code",
   "execution_count": null,
   "metadata": {},
   "outputs": [],
   "source": [
    "alldata_df\n"
   ]
  },
  {
   "cell_type": "code",
   "execution_count": null,
   "metadata": {},
   "outputs": [],
   "source": [
    "# dNdOmega = alldata_df['Likelihood'].product()"
   ]
  },
  {
   "cell_type": "code",
   "execution_count": null,
   "metadata": {},
   "outputs": [],
   "source": [
    "alldata_df\n",
    "alldata_df.to_pickle(\"AllDataQT.txt\")\n"
   ]
  },
  {
   "cell_type": "code",
   "execution_count": null,
   "metadata": {},
   "outputs": [],
   "source": [
    "alldata_df = pd.read_pickle(\"AllDataQT.txt\")\n"
   ]
  },
  {
   "cell_type": "code",
   "execution_count": null,
   "metadata": {},
   "outputs": [],
   "source": [
    "alldata_df"
   ]
  },
  {
   "cell_type": "code",
   "execution_count": null,
   "metadata": {},
   "outputs": [],
   "source": [
    "Likelihood_array = alldata_df[\"Likelihood\"].to_numpy()\n",
    "Likelihood_array"
   ]
  },
  {
   "cell_type": "code",
   "execution_count": null,
   "metadata": {},
   "outputs": [],
   "source": [
    "# dNdOmega_debug   = Likelihood_array.prod() \n",
    "# dNdOmega_debug   = np.prod(Likelihood_array) "
   ]
  },
  {
   "cell_type": "code",
   "execution_count": null,
   "metadata": {},
   "outputs": [],
   "source": [
    "# dNdOmega = 1.\n",
    "# for i in Likelihood_array:\n",
    "#     dNdOmega *= i\n",
    "dNdOmega  = 1.\n",
    "dNdOmega2 = 1.\n",
    "for i in Likelihood_array:\n",
    "    dNdOmega2 = sympy.expand(dNdOmega*i)\n",
    "    dNdOmega  = dNdOmega2\n",
    "\n",
    "# %timeit sympy.expand(Likelihood_array[0]*Likelihood_array[1])"
   ]
  },
  {
   "cell_type": "code",
   "execution_count": null,
   "metadata": {},
   "outputs": [],
   "source": [
    "# dNdOmega_debug\n",
    "a = sympy.expand(sympy.ln(Likelihood_array[0])+sympy.ln(Likelihood_array[1]))\n",
    "a"
   ]
  },
  {
   "cell_type": "code",
   "execution_count": null,
   "metadata": {},
   "outputs": [],
   "source": [
    "help(sympy.sympify)"
   ]
  },
  {
   "cell_type": "code",
   "execution_count": null,
   "metadata": {},
   "outputs": [],
   "source": [
    "def LogLikelihood( value ):\n",
    "    return math.log(value)\n"
   ]
  },
  {
   "cell_type": "code",
   "execution_count": null,
   "metadata": {},
   "outputs": [],
   "source": [
    "alldata_df['LogLikelihood'] = alldata_df.apply(lambda x: LogLikelihood( x['Likelihood'] ), axis=1)"
   ]
  },
  {
   "cell_type": "code",
   "execution_count": null,
   "metadata": {},
   "outputs": [],
   "source": []
  },
  {
   "cell_type": "code",
   "execution_count": null,
   "metadata": {},
   "outputs": [],
   "source": []
  },
  {
   "cell_type": "code",
   "execution_count": null,
   "metadata": {},
   "outputs": [],
   "source": []
  },
  {
   "cell_type": "code",
   "execution_count": null,
   "metadata": {
    "scrolled": true
   },
   "outputs": [],
   "source": []
  },
  {
   "cell_type": "code",
   "execution_count": null,
   "metadata": {
    "scrolled": true
   },
   "outputs": [],
   "source": []
  },
  {
   "cell_type": "code",
   "execution_count": null,
   "metadata": {
    "scrolled": true
   },
   "outputs": [],
   "source": []
  },
  {
   "cell_type": "code",
   "execution_count": null,
   "metadata": {
    "scrolled": true
   },
   "outputs": [],
   "source": [
    "# df_Rapidity_gen = df_gener.query('fMCTrkTrkM > 2.8 & fMCTrkTrkM < 3.3 & fMCTrkTrkY < -2.5 & fMCTrkTrkY > -4.0 ')\n",
    "df_Rapidity_gen = df_gener.query('fMCTrkTrkY < -2.5 & fMCTrkTrkY > -4.0 ')\n",
    "generatedevents_Ycut = len(df_Rapidity_gen.index)\n",
    "generatedevents_Ycut"
   ]
  },
  {
   "cell_type": "code",
   "execution_count": null,
   "metadata": {
    "scrolled": true
   },
   "outputs": [],
   "source": [
    "InvMass_recon = df_recon['fTrkTrkM'].plot.hist(bins=100, alpha=0.6)\n",
    "# minv_bkgMine = df_backgroundMine['fInvariantMassDimuon'].plot.hist(bins=100, alpha=0.6)\n"
   ]
  },
  {
   "cell_type": "code",
   "execution_count": null,
   "metadata": {
    "scrolled": true
   },
   "outputs": [],
   "source": [
    "InvMass_gen = df_gener['fMCTrkTrkM'].plot.hist(bins=100, alpha=0.6)\n"
   ]
  },
  {
   "cell_type": "markdown",
   "metadata": {},
   "source": [
    "### Pandas \n",
    "\n",
    "Pandas is a library that provides data structures and analysis tools for Pyhton. The two primary data structures of pandas are **Series** (1-dimensional) and **DataFrame** (2-dimensional) and we will work with them.\n",
    "\n",
    "- **Series** are 1-dimensional ndarray with axis labels.\n",
    "- **DataFrame** are 2-dimensional tabular data structure with labeled axes (rows and columns).\n",
    "\n",
    "For more details: https://pandas.pydata.org/pandas-docs/stable/\n",
    "\n"
   ]
  },
  {
   "cell_type": "markdown",
   "metadata": {},
   "source": [
    "\n",
    "\n",
    "One of the most interesting tool of DataFrame is the *query()* method (https://pandas.pydata.org/pandas-docs/stable/reference/api/pandas.DataFrame.query.html). With this method we can query the DataFrame getting elements which **satisfy a boolean expression**."
   ]
  },
  {
   "cell_type": "markdown",
   "metadata": {},
   "source": [
    "A \"trick\" to plot more than one distribution is to create a new dataframe with the data to plot in different columns"
   ]
  },
  {
   "cell_type": "code",
   "execution_count": null,
   "metadata": {
    "scrolled": true
   },
   "outputs": [],
   "source": [
    "#dataframe with invariant-mass of background and signal\n",
    "# df_new = pd.concat([df_background['InvMass'], df_signal['InvMass']], axis=1)\n",
    "# df_new.head()"
   ]
  },
  {
   "cell_type": "code",
   "execution_count": null,
   "metadata": {
    "scrolled": false
   },
   "outputs": [],
   "source": [
    "# minv_compared = df_new.plot.hist(bins=100, alpha=0.6)"
   ]
  },
  {
   "cell_type": "markdown",
   "metadata": {},
   "source": [
    "## Data preparation\n",
    "We need to tell at the model what is signal and what is background.\n",
    "\n",
    "So we add a 'y' column and label signal and background with **y=1** for signal and **y=0** for background. Then we stack togheter signal and background. This will be the reference for the ML model. "
   ]
  },
  {
   "cell_type": "code",
   "execution_count": null,
   "metadata": {
    "scrolled": true
   },
   "outputs": [],
   "source": [
    "plot_VZERO = df_recon['fV0TotalNCells'].plot.hist(bins=100, alpha=0.6)\n"
   ]
  },
  {
   "cell_type": "code",
   "execution_count": null,
   "metadata": {
    "scrolled": true
   },
   "outputs": [],
   "source": [
    "plot_fL0inputs = df_recon['fL0inputs'].plot.hist(bins=100, alpha=0.6)\n"
   ]
  },
  {
   "cell_type": "code",
   "execution_count": null,
   "metadata": {
    "scrolled": true
   },
   "outputs": [],
   "source": [
    "def return0MSL(x):\n",
    "    return ((x & (1<<5))>>5)"
   ]
  },
  {
   "cell_type": "code",
   "execution_count": null,
   "metadata": {
    "scrolled": true
   },
   "outputs": [],
   "source": [
    "def return0MUL(x):\n",
    "    return ((x & (1<<13))>>13)"
   ]
  },
  {
   "cell_type": "code",
   "execution_count": null,
   "metadata": {
    "scrolled": true
   },
   "outputs": [],
   "source": [
    "df_recon['f0MSL'] = df_recon.fL0inputs.apply(return0MSL)\n",
    "plot_0MSL = df_recon['f0MSL'].plot.hist(bins=100, alpha=0.6)\n"
   ]
  },
  {
   "cell_type": "code",
   "execution_count": null,
   "metadata": {
    "scrolled": false
   },
   "outputs": [],
   "source": [
    "df_recon['f0MUL'] = df_recon.fL0inputs.apply(return0MUL)\n",
    "plot_0MUL = df_recon['f0MUL'].plot.hist(bins=100, alpha=0.6)\n"
   ]
  },
  {
   "cell_type": "code",
   "execution_count": null,
   "metadata": {
    "scrolled": true
   },
   "outputs": [],
   "source": [
    "len(df_recon.index)"
   ]
  },
  {
   "cell_type": "code",
   "execution_count": null,
   "metadata": {
    "scrolled": true
   },
   "outputs": [],
   "source": [
    "df_InvMassCutPlusRapidity_for0MUL = df_recon.query('fTrkTrkY < -2.5 & fTrkTrkY > -4.0 ')\n",
    "plot_0MUL_rightrapidity = df_InvMassCutPlusRapidity_for0MUL['f0MUL'].plot.hist(bins=100, alpha=0.6)\n",
    "len(df_InvMassCutPlusRapidity_for0MUL.index)"
   ]
  },
  {
   "cell_type": "code",
   "execution_count": null,
   "metadata": {
    "scrolled": true
   },
   "outputs": [],
   "source": [
    "df_InvMassCutPlusRapidity = df_recon.query('fTrkTrkM > 2.8 & fTrkTrkM < 3.3 & fTrkTrkY < -2.5 & fTrkTrkY > -4.0 ')\n",
    "df_InvMassCutPlusTriggerConditionPlusRapidity = df_InvMassCutPlusRapidity.query('f0MUL > 0.5')\n",
    "df_InvMassCutPlusTriggerConditionPlusRapidity['fTrkTrkM'].plot.hist(bins=100, alpha=0.6)\n",
    "reconstructedevents = len(df_InvMassCutPlusTriggerConditionPlusRapidity.index)\n",
    "reconstructedevents\n",
    "# len(df_InvMassCutPlusRapidity.index)"
   ]
  },
  {
   "cell_type": "code",
   "execution_count": null,
   "metadata": {
    "scrolled": true
   },
   "outputs": [],
   "source": [
    "InvMass_recAfterCuts = df_InvMassCutPlusTriggerConditionPlusRapidity['fTrkTrkM'].plot.hist(bins=100, alpha=0.6)\n",
    "len(df_InvMassCutPlusTriggerConditionPlusRapidity.index)"
   ]
  },
  {
   "cell_type": "code",
   "execution_count": null,
   "metadata": {
    "scrolled": true
   },
   "outputs": [],
   "source": [
    "AxE = reconstructedevents/generatedevents_Ycut\n",
    "AxE"
   ]
  },
  {
   "cell_type": "markdown",
   "metadata": {},
   "source": [
    "### Template for Pt distr"
   ]
  },
  {
   "cell_type": "code",
   "execution_count": null,
   "metadata": {
    "scrolled": true
   },
   "outputs": [],
   "source": [
    "bins = np.arange(0,5, 0.10)"
   ]
  },
  {
   "cell_type": "code",
   "execution_count": null,
   "metadata": {
    "scrolled": true
   },
   "outputs": [],
   "source": [
    "df_InvMassCutPlusTriggerConditionPlusRapidity['fTrkTrkPt'].hist(bins=bins)"
   ]
  },
  {
   "cell_type": "code",
   "execution_count": null,
   "metadata": {
    "scrolled": true
   },
   "outputs": [],
   "source": [
    "PtDistr = df_InvMassCutPlusTriggerConditionPlusRapidity['fTrkTrkPt'].to_numpy()"
   ]
  },
  {
   "cell_type": "code",
   "execution_count": null,
   "metadata": {
    "scrolled": false
   },
   "outputs": [],
   "source": [
    "counts, edges, plot = plt.hist(PtDistr, bins=bins)"
   ]
  },
  {
   "cell_type": "code",
   "execution_count": null,
   "metadata": {
    "scrolled": false
   },
   "outputs": [],
   "source": [
    "counts"
   ]
  },
  {
   "cell_type": "code",
   "execution_count": null,
   "metadata": {
    "scrolled": true
   },
   "outputs": [],
   "source": []
  },
  {
   "cell_type": "code",
   "execution_count": null,
   "metadata": {
    "scrolled": true
   },
   "outputs": [],
   "source": []
  },
  {
   "cell_type": "code",
   "execution_count": null,
   "metadata": {
    "scrolled": true
   },
   "outputs": [],
   "source": []
  },
  {
   "cell_type": "code",
   "execution_count": null,
   "metadata": {
    "scrolled": true
   },
   "outputs": [],
   "source": []
  },
  {
   "cell_type": "markdown",
   "metadata": {},
   "source": [
    "Now we can fit the distribution and extract the signal"
   ]
  },
  {
   "cell_type": "code",
   "execution_count": null,
   "metadata": {
    "scrolled": true
   },
   "outputs": [],
   "source": [
    "from scipy.optimize import curve_fit\n",
    "from scipy import integrate\n",
    "\n",
    "def fit_invmass(df):\n",
    "    \n",
    "    # histogram of the data\n",
    "    counts, bins = np.histogram(df, bins=40, range=[2.96, 3.05])\n",
    "    \n",
    "    # define functions for fitting    \n",
    "    def gaus_function(x, N, mu, sigma):\n",
    "        return N * np.exp(-(x-mu)**2/(2*sigma**2))\n",
    "    \n",
    "    def pol2_function(x, a, b):\n",
    "        return (a + x*b)\n",
    "    \n",
    "    def fit_function(x, a, b, N, mu, sigma):\n",
    "        return pol2_function(x, a, b) + gaus_function(x, N, mu, sigma)\n",
    "    \n",
    "    # x axis ranges for plots\n",
    "    x_point = 0.5 * (bins[1:] + bins[:-1])\n",
    "    r = np.arange(2.96, 3.05, 0.00001)\n",
    "    r_red = np.arange(2.98, 3.005, 0.0001)\n",
    "    \n",
    "    # fit the invariant mass distribution with fit_function() pol2+gauss\n",
    "    popt, pcov = curve_fit(fit_function, x_point, counts, p0 = [100, -1, 100, 2.99, 0.001])\n",
    "    \n",
    "    # plot data\n",
    "    plt.errorbar(x_point, counts, yerr=np.sqrt(counts), fmt='.', ecolor='k', color='k', elinewidth=1., label='Data')\n",
    "    \n",
    "    # plot pol2 and gauss obtained in the fit separately\n",
    "    plt.plot(r_red, gaus_function(r_red, N=popt[2], mu=popt[3], sigma=popt[4]), label='gaus', color='red')\n",
    "    plt.plot(r, pol2_function(r, a=popt[0], b=popt[1]), label='pol2', color='green')\n",
    "\n",
    "    # plot the global fit\n",
    "    plt.plot(r, fit_function(r, *popt), label='pol2+gauss', color='blue')\n",
    "    \n",
    "    # compute significance of the signal\n",
    "    signal = integrate.quad(gaus_function, 2.98, 3.005, args=(popt[2], popt[3], popt[4]))[0] / 0.00225\n",
    "    background = integrate.quad(pol2_function, 2.98, 3.005, args=(popt[0], popt[1]))[0] / 0.00225\n",
    "    print(f'Signal counts: {signal:.0f}')\n",
    "    print(f'Background counts: {background:.0f}')     \n",
    "    significance = signal / np.sqrt(signal + background)\n",
    "\n",
    "    # Add some axis labels\n",
    "    plt.title(f'significance: {significance:.1f}')\n",
    "    plt.legend()\n",
    "    plt.xlabel('$M_{^{3}He+\\pi}$ $(\\mathrm{GeV/}c^2)$')\n",
    "    plt.ylabel('counts / 2.25 $\\mathrm{MeV/}c^2$')\n",
    "    plt.show()"
   ]
  },
  {
   "cell_type": "code",
   "execution_count": null,
   "metadata": {
    "scrolled": true
   },
   "outputs": [],
   "source": [
    "fit_invmass(inv_sel_simple)"
   ]
  },
  {
   "cell_type": "markdown",
   "metadata": {},
   "source": [
    "### Optimized model\n",
    "We can optimize the hyper-parameters to have a **more complex model**"
   ]
  },
  {
   "cell_type": "markdown",
   "metadata": {},
   "source": [
    "## Final Excercise\n",
    "\n",
    "Using the query function of pandas perform the \"standard\" selections"
   ]
  },
  {
   "cell_type": "code",
   "execution_count": null,
   "metadata": {
    "scrolled": true
   },
   "outputs": [],
   "source": [
    "df_lin_sel = df_data.query('V0CosPA > 0.995')\n",
    "inv_mass_lin_sel = df_lin_sel['InvMass']"
   ]
  },
  {
   "cell_type": "code",
   "execution_count": null,
   "metadata": {
    "scrolled": true
   },
   "outputs": [],
   "source": [
    "fit_invmass(inv_mass_lin_sel)"
   ]
  },
  {
   "cell_type": "code",
   "execution_count": null,
   "metadata": {
    "scrolled": true
   },
   "outputs": [],
   "source": [
    "import ROOT"
   ]
  },
  {
   "cell_type": "code",
   "execution_count": null,
   "metadata": {
    "scrolled": true
   },
   "outputs": [],
   "source": []
  },
  {
   "cell_type": "code",
   "execution_count": null,
   "metadata": {
    "scrolled": true
   },
   "outputs": [],
   "source": []
  }
 ],
 "metadata": {
  "kernelspec": {
   "display_name": "Python 3",
   "language": "python",
   "name": "python3"
  },
  "language_info": {
   "codemirror_mode": {
    "name": "ipython",
    "version": 3
   },
   "file_extension": ".py",
   "mimetype": "text/x-python",
   "name": "python",
   "nbconvert_exporter": "python",
   "pygments_lexer": "ipython3",
   "version": "3.7.4"
  }
 },
 "nbformat": 4,
 "nbformat_minor": 2
}
