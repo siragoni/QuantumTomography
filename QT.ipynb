{
 "cells": [
  {
   "cell_type": "markdown",
   "metadata": {},
   "source": [
    "# Quantum Tomography analysis\n",
    "\n",
    "This is the analysis code to measure the polarisation of a vector meson using Quantum Tomography."
   ]
  },
  {
   "cell_type": "code",
   "execution_count": 1,
   "metadata": {},
   "outputs": [],
   "source": [
    "import os\n",
    "import sys\n",
    "import warnings\n",
    "import matplotlib.pyplot as plt\n",
    "import pickle\n",
    "import uproot\n",
    "import numpy as np\n",
    "import pandas as pd\n",
    "# import xgboost as xgb\n",
    "import sklearn\n",
    "\n",
    "sys.path.insert(0, '../')\n",
    "# import analysis_utils as au\n",
    "\n",
    "# avoid pandas warning\n",
    "warnings.simplefilter(action='ignore', category=FutureWarning)"
   ]
  },
  {
   "cell_type": "markdown",
   "metadata": {},
   "source": [
    "## A few infos on the libraries\n",
    "\n",
    "### uproot\n",
    "\n",
    "uproot is a Python package that provides tools for reading/writing ROOT files using Python and Numpy (does not depend on ROOT) and is primarly intended to stream data into machine learning libraries in Python.\n",
    "\n",
    "We use uproot for reading and converting ROOT Trees into ***pandas*** **DataFrame**.\n",
    "For more details: https://github.com/scikit-hep/uproot."
   ]
  },
  {
   "cell_type": "markdown",
   "metadata": {},
   "source": [
    "Now we load our data using uproot: signal and background for the training of the models and the unknown data on which we would like to have the model predictions"
   ]
  },
  {
   "cell_type": "code",
   "execution_count": 2,
   "metadata": {
    "scrolled": true
   },
   "outputs": [],
   "source": [
    "datatree = uproot.open('AnalysisResults.root')['Data']"
   ]
  },
  {
   "cell_type": "code",
   "execution_count": 3,
   "metadata": {
    "scrolled": false
   },
   "outputs": [
    {
     "data": {
      "text/plain": [
       "[b'fInvariantMassDimuon',\n",
       " b'fRapidityDimuon',\n",
       " b'fPtDimuon',\n",
       " b'fRapiditySingleMuon_0',\n",
       " b'fPtSingleMuon_0',\n",
       " b'fPhiSingleMuon_0',\n",
       " b'fRapiditySingleMuon_1',\n",
       " b'fPtSingleMuon_1',\n",
       " b'fPhiSingleMuon_1',\n",
       " b'fPxSingleMuon_0',\n",
       " b'fPySingleMuon_0',\n",
       " b'fPzSingleMuon_0',\n",
       " b'fEnergySingleMuon_0',\n",
       " b'fPxSingleMuon_1',\n",
       " b'fPySingleMuon_1',\n",
       " b'fPzSingleMuon_1',\n",
       " b'fEnergySingleMuon_1']"
      ]
     },
     "execution_count": 3,
     "metadata": {},
     "output_type": "execute_result"
    }
   ],
   "source": [
    "datatree.keys()\n",
    "# IncohMC_std_gener.keys()\n",
    "# background_treeMine.keys()\n",
    "# data_treeMine.keys()"
   ]
  },
  {
   "cell_type": "code",
   "execution_count": 4,
   "metadata": {},
   "outputs": [],
   "source": [
    "data_df = datatree.pandas.df()"
   ]
  },
  {
   "cell_type": "code",
   "execution_count": 5,
   "metadata": {},
   "outputs": [
    {
     "data": {
      "text/plain": [
       "416"
      ]
     },
     "execution_count": 5,
     "metadata": {},
     "output_type": "execute_result"
    }
   ],
   "source": [
    "len(data_df.index)"
   ]
  },
  {
   "cell_type": "code",
   "execution_count": 6,
   "metadata": {},
   "outputs": [
    {
     "data": {
      "text/plain": [
       "416"
      ]
     },
     "execution_count": 6,
     "metadata": {},
     "output_type": "execute_result"
    }
   ],
   "source": [
    "generatedevents = len(data_df.index)\n",
    "generatedevents"
   ]
  },
  {
   "cell_type": "markdown",
   "metadata": {},
   "source": [
    "## Four-momentum logic"
   ]
  },
  {
   "cell_type": "code",
   "execution_count": 7,
   "metadata": {},
   "outputs": [],
   "source": [
    "import skhep\n",
    "from skhep import math\n",
    "\n",
    "\n",
    "# Levi-Civita symbol\n",
    "import sympy\n",
    "from sympy import LeviCivita"
   ]
  },
  {
   "cell_type": "markdown",
   "metadata": {},
   "source": [
    "Quantum tomography works by defining three coordinate axes in a Lorentz-invariant approach.\n",
    "\n",
    "Using \\\\( k_+^\\mu \\\\), \\\\(k_-^\\mu \\\\) for the positive and the negative muon, respectively, we construct the vector meson 4-vector \\\\( Q^\\mu \\\\) as:\n",
    "\n",
    "\\\\[ Q^\\mu = k_+^\\mu + k_-^\\mu \\\\]\n",
    "\n",
    "If \\\\( p_A^\\mu, p_B^\\mu \\\\) are the two beams, the three axes \\\\( X^\\mu, Y^\\mu, Z^\\mu \\\\) are defined as:\n",
    "\n",
    "\\\\[ Z^\\mu = p_A^\\mu  Q{\\cdot}p_B - p_B^\\mu Q{\\cdot}p_A \\\\]\n",
    "\n",
    "\\\\[ Y^\\mu = \\epsilon^{\\mu\\nu\\alpha\\beta}p_{A \\nu}p_{B \\alpha}Q_\\beta \\\\]\n",
    "\n",
    "\\\\[ X^\\mu = Q^\\mu - p_A^\\mu \\frac{Q^2}{2Q{\\cdot}p_A} - p_B^\\mu \\frac{Q^2}{2Q{\\cdot}p_B} \\\\]\n",
    "\n",
    "\n",
    "\n"
   ]
  },
  {
   "cell_type": "code",
   "execution_count": 8,
   "metadata": {},
   "outputs": [],
   "source": [
    "def CosThetaTrueCollinsSoper( px1, py1, pz1, E1, px2, py2, pz2, E2 ):\n",
    "    \n",
    "    positiveMuon  = math.LorentzVector(px1, py1, pz1, E1)\n",
    "    negativeMuon  = math.LorentzVector(px2, py2, pz2, E2)\n",
    "    Q             = positiveMuon + negativeMuon\n",
    "    \n",
    "    \n",
    "    # Beam coordinates     \n",
    "\n",
    "    HalfSqrtSnn   = 2510.\n",
    "    MassOfLead208 = 193.6823\n",
    "    MomentumBeam  = math.sqrt( HalfSqrtSnn*HalfSqrtSnn*208*208 - MassOfLead208*MassOfLead208 )\n",
    "    \n",
    "#     pA            = math.LorentzVector( 0, 0,-1, 1 )\n",
    "#     pB            = math.LorentzVector( 0, 0, 1, 1 )\n",
    "    pA            = math.LorentzVector( 0, 0,-MomentumBeam, HalfSqrtSnn*208 )\n",
    "    pB            = math.LorentzVector( 0, 0, MomentumBeam, HalfSqrtSnn*208 )\n",
    "\n",
    "    \n",
    "    # Z axis\n",
    "    \n",
    "    z       = pA * (Q.dot(pB)) - pB * (Q.dot(pA))\n",
    "#     NormOfz = z.mag\n",
    "    NormOfz = math.sqrt(-z.dot(z))\n",
    "    zhat    = math.LorentzVector( z.px / NormOfz, z.py / NormOfz, z.pz / NormOfz, z.e / NormOfz )\n",
    "    \n",
    "\n",
    "    # X axis\n",
    "    \n",
    "    x       = Q - pA*(Q.mag2 / ( 2.*( Q.dot(pA)) ) ) - pB*(Q.mag2 / ( 2.*( Q.dot(pB)) ) );\n",
    "#     NormOfx = x.mag\n",
    "    NormOfx = math.sqrt(-x.dot(x))\n",
    "    xhat    = math.LorentzVector( x.px / NormOfx, x.py / NormOfx, x.pz / NormOfx, x.e / NormOfx )\n",
    "\n",
    "    \n",
    "    # Y axis\n",
    "    \n",
    "    pAlower = [ 0, 0, 1, 1 ]\n",
    "    pBlower = [ 0, 0,-1, 1 ]\n",
    "    Qlower  = [ -Q.px, -Q.py, -Q.pz, -Q.e ]\n",
    "#     print(Qlower)\n",
    "    ComponentsY = [0,0,0,0]\n",
    "#     print(LeviCivita(0,1,2,3))\n",
    "    for mu in range(0,4):\n",
    "        for nu in range(0,4):\n",
    "            for alpha in range(0,4):\n",
    "                for beta in range(0,4):\n",
    "                    tensor = LeviCivita(mu, nu, alpha, beta) \n",
    "                    ComponentsY[mu] += tensor*pAlower[nu]*pBlower[alpha]*Qlower[beta]\n",
    "    y       = math.LorentzVector(ComponentsY[0], ComponentsY[1], ComponentsY[2], ComponentsY[3])\n",
    "#     NormOfy = y.mag\n",
    "    NormOfy = math.sqrt(-y.dot(y))\n",
    "    yhat    = math.LorentzVector( y.px / NormOfy, y.py / NormOfy, y.pz / NormOfy, y.e / NormOfy )\n",
    "\n",
    "    \n",
    "    # Orthogonality check\n",
    "    \n",
    "#     print( \"X  = \", x )\n",
    "#     print( \"Y  = \", y )\n",
    "#     print( \"Z  = \", z )\n",
    "#     print( \"Xh = \", xhat )\n",
    "#     print( \"Yh = \", yhat )\n",
    "#     print( \"Zh = \", zhat )\n",
    "#     print( \"XY = \", xhat.dot(yhat) )\n",
    "#     print( \"XZ = \", xhat.dot(zhat) )\n",
    "#     print( \"YZ = \", yhat.dot(zhat) )\n",
    "#     print( \"ZQ = \", zhat.dot(Q)    )\n",
    "    \n",
    "    \n",
    "    # Lepton momentum difference\n",
    "    \n",
    "    diff       = positiveMuon - negativeMuon\n",
    "#     NormOfdiff = diff.mag\n",
    "    NormOfdiff = math.sqrt(-diff.dot(diff))\n",
    "    diffhat    = math.LorentzVector( diff.px / NormOfdiff, diff.py / NormOfdiff, diff.pz / NormOfdiff, diff.e / NormOfdiff )\n",
    "    \n",
    "    \n",
    "    # Computing the angles\n",
    "    cosThetaCS       = zhat.dot(diffhat)\n",
    "    SinThetaCosPhiCS = xhat.dot(diffhat)\n",
    "    SinThetaSinPhiCS = yhat.dot(diffhat)\n",
    "\n",
    "\n",
    "\n",
    "    SinThetaCS       = math.sqrt( 1 - cosThetaCS*cosThetaCS );\n",
    "#     PhiCS            = math.acos( SinThetaCosPhiCS / SinThetaCS );\n",
    "\n",
    "\n",
    "    return cosThetaCS\n",
    "\n",
    "    "
   ]
  },
  {
   "cell_type": "code",
   "execution_count": 9,
   "metadata": {},
   "outputs": [
    {
     "name": "stdout",
     "output_type": "stream",
     "text": [
      "Help on built-in function atan2 in module math:\n",
      "\n",
      "atan2(y, x, /)\n",
      "    Return the arc tangent (measured in radians) of y/x.\n",
      "    \n",
      "    Unlike atan(y/x), the signs of both x and y are considered.\n",
      "\n"
     ]
    }
   ],
   "source": [
    "help(math.atan2)"
   ]
  },
  {
   "cell_type": "code",
   "execution_count": 10,
   "metadata": {},
   "outputs": [],
   "source": [
    "def PhiTrueCollinsSoper( px1, py1, pz1, E1, px2, py2, pz2, E2 ):\n",
    "    \n",
    "    positiveMuon  = math.LorentzVector(px1, py1, pz1, E1)\n",
    "    negativeMuon  = math.LorentzVector(px2, py2, pz2, E2)\n",
    "    Q             = positiveMuon + negativeMuon\n",
    "    \n",
    "    \n",
    "    # Beam coordinates     \n",
    "\n",
    "    HalfSqrtSnn   = 2510.\n",
    "    MassOfLead208 = 193.6823\n",
    "    MomentumBeam  = math.sqrt( HalfSqrtSnn*HalfSqrtSnn*208*208 - MassOfLead208*MassOfLead208 )\n",
    "    \n",
    "#     pA            = math.LorentzVector( 0, 0,-1, 1 )\n",
    "#     pB            = math.LorentzVector( 0, 0, 1, 1 )\n",
    "    pA            = math.LorentzVector( 0, 0,-MomentumBeam, HalfSqrtSnn*208 )\n",
    "    pB            = math.LorentzVector( 0, 0, MomentumBeam, HalfSqrtSnn*208 )\n",
    "\n",
    "    \n",
    "    # Z axis\n",
    "    \n",
    "    z       = pA * (Q.dot(pB)) - pB * (Q.dot(pA))\n",
    "#     NormOfz = z.mag\n",
    "    NormOfz = math.sqrt(-z.dot(z))\n",
    "    zhat    = math.LorentzVector( z.px / NormOfz, z.py / NormOfz, z.pz / NormOfz, z.e / NormOfz )\n",
    "    \n",
    "\n",
    "    # X axis\n",
    "    \n",
    "    x       = Q - pA*(Q.mag2 / ( 2.*( Q.dot(pA)) ) ) - pB*(Q.mag2 / ( 2.*( Q.dot(pB)) ) );\n",
    "#     NormOfx = x.mag\n",
    "    NormOfx = math.sqrt(-x.dot(x))\n",
    "    xhat    = math.LorentzVector( x.px / NormOfx, x.py / NormOfx, x.pz / NormOfx, x.e / NormOfx )\n",
    "\n",
    "    \n",
    "    # Y axis\n",
    "    \n",
    "    pAlower = [ 0, 0, 1, 1 ]\n",
    "    pBlower = [ 0, 0,-1, 1 ]\n",
    "    Qlower  = [ -Q.px, -Q.py, -Q.pz, -Q.e ]\n",
    "#     print(Qlower)\n",
    "    ComponentsY = [0,0,0,0]\n",
    "#     print(LeviCivita(0,1,2,3))\n",
    "    for mu in range(0,4):\n",
    "        for nu in range(0,4):\n",
    "            for alpha in range(0,4):\n",
    "                for beta in range(0,4):\n",
    "                    tensor = LeviCivita(mu, nu, alpha, beta) \n",
    "                    ComponentsY[mu] += tensor*pAlower[nu]*pBlower[alpha]*Qlower[beta]\n",
    "    y       = math.LorentzVector(ComponentsY[0], ComponentsY[1], ComponentsY[2], ComponentsY[3])\n",
    "#     NormOfy = y.mag\n",
    "    NormOfy = math.sqrt(-y.dot(y))\n",
    "    yhat    = math.LorentzVector( y.px / NormOfy, y.py / NormOfy, y.pz / NormOfy, y.e / NormOfy )\n",
    "\n",
    "    \n",
    "    # Orthogonality check\n",
    "    \n",
    "#     print( \"XY = \", xhat.dot(yhat) )\n",
    "#     print( \"XZ = \", xhat.dot(zhat) )\n",
    "#     print( \"YZ = \", yhat.dot(zhat) )\n",
    "#     print( \"ZQ = \", zhat.dot(Q)    )\n",
    "    \n",
    "    \n",
    "    # Lepton momentum difference\n",
    "    \n",
    "    diff       = positiveMuon - negativeMuon\n",
    "#     NormOfdiff = diff.mag\n",
    "    NormOfdiff = math.sqrt(-diff.dot(diff))\n",
    "    diffhat    = math.LorentzVector( diff.px / NormOfdiff, diff.py / NormOfdiff, diff.pz / NormOfdiff, diff.e / NormOfdiff )\n",
    "    \n",
    "    \n",
    "    # Computing the angles\n",
    "    cosThetaCS       = zhat.dot(diffhat)\n",
    "    SinThetaCosPhiCS = xhat.dot(diffhat)\n",
    "    SinThetaSinPhiCS = yhat.dot(diffhat)\n",
    "\n",
    "\n",
    "\n",
    "    SinThetaCS       = math.sqrt( 1 - cosThetaCS*cosThetaCS );\n",
    "#     PhiCS            = math.acos( SinThetaCosPhiCS / SinThetaCS );\n",
    "    PhiCS            = math.atan2( SinThetaSinPhiCS, SinThetaCosPhiCS );\n",
    "\n",
    "\n",
    "    return PhiCS\n",
    "\n",
    "    "
   ]
  },
  {
   "cell_type": "markdown",
   "metadata": {},
   "source": [
    "#### Small test procedure\n",
    "Here we are testing the few functions using our data."
   ]
  },
  {
   "cell_type": "code",
   "execution_count": 11,
   "metadata": {},
   "outputs": [
    {
     "data": {
      "text/plain": [
       "fInvariantMassDimuon      2.930918\n",
       "fRapidityDimuon          -3.074141\n",
       "fPtDimuon                 0.082999\n",
       "fRapiditySingleMuon_0    -2.680881\n",
       "fPtSingleMuon_0           1.366783\n",
       "fPhiSingleMuon_0          3.538862\n",
       "fRapiditySingleMuon_1    -3.481849\n",
       "fPtSingleMuon_1           1.336783\n",
       "fPhiSingleMuon_1          0.454529\n",
       "fPxSingleMuon_0          -1.260339\n",
       "fPySingleMuon_0          -0.528812\n",
       "fPzSingleMuon_0          -9.929302\n",
       "fEnergySingleMuon_0      10.023487\n",
       "fPxSingleMuon_1           1.201056\n",
       "fPySingleMuon_1           0.586901\n",
       "fPzSingleMuon_1         -21.715403\n",
       "fEnergySingleMuon_1      21.756766\n",
       "Name: 4, dtype: float64"
      ]
     },
     "execution_count": 11,
     "metadata": {},
     "output_type": "execute_result"
    }
   ],
   "source": [
    "data_df.iloc[4]"
   ]
  },
  {
   "cell_type": "code",
   "execution_count": 12,
   "metadata": {},
   "outputs": [],
   "source": [
    "CosThetaTest = CosThetaTrueCollinsSoper( 1.201056, 0.586901, 21.715403, 21.756766, -1.260339, -0.528812, -9.929302, 10.023487 )"
   ]
  },
  {
   "cell_type": "code",
   "execution_count": 13,
   "metadata": {},
   "outputs": [
    {
     "data": {
      "text/plain": [
       "0.995798810540499"
      ]
     },
     "execution_count": 13,
     "metadata": {},
     "output_type": "execute_result"
    }
   ],
   "source": [
    "CosThetaTest"
   ]
  },
  {
   "cell_type": "code",
   "execution_count": 14,
   "metadata": {},
   "outputs": [
    {
     "data": {
      "text/latex": [
       "$\\displaystyle -1$"
      ],
      "text/plain": [
       "-1"
      ]
     },
     "execution_count": 14,
     "metadata": {},
     "output_type": "execute_result"
    }
   ],
   "source": [
    "LeviCivita(0,1,3,2)"
   ]
  },
  {
   "cell_type": "markdown",
   "metadata": {},
   "source": [
    "## Adding the two columns to the dataframe\n",
    "\n",
    "Now we are adding two new columns to the dataframe:\n",
    "\\\\( \\cos\\theta \\\\) and \\\\( \\phi \\\\)."
   ]
  },
  {
   "cell_type": "code",
   "execution_count": 15,
   "metadata": {},
   "outputs": [],
   "source": [
    "def CosThetaTrueCollinsSoperOne( px1 ):\n",
    "    return px1\n",
    "def CosThetaTrueCollinsSoperTwo( px1, py1 ):\n",
    "    return px1+px1\n",
    "def CosThetaTrueCollinsSoperThree( px1, py1, pz1 ):\n",
    "    return px1+py1+pz1\n",
    "def CosThetaTrueCollinsSoperFour( px1, py1, pz1, E1 ):\n",
    "        return px1+py1+pz1+E1\n",
    "\n",
    "# def CosThetaTrueCollinsSoperOne( px1, py1, pz1, E1, px2, py2, pz2, E2 ):\n",
    "# def CosThetaTrueCollinsSoperOne( px1, py1, pz1, E1, px2, py2, pz2, E2 ):\n"
   ]
  },
  {
   "cell_type": "code",
   "execution_count": 16,
   "metadata": {},
   "outputs": [],
   "source": [
    "# data_df['CosThetaOne']   = data_df.apply(lambda x: CosThetaTrueCollinsSoperOne(x['fPxSingleMuon_0']   ), axis=1)\n",
    "# data_df['CosThetaTwo']   = data_df.apply(lambda x: CosThetaTrueCollinsSoperTwo(x['fPxSingleMuon_0'], x['fPySingleMuon_0']   ), axis=1)\n",
    "# data_df['CosThetaThree'] = data_df.apply(lambda x: CosThetaTrueCollinsSoperThree(x['fPxSingleMuon_0'], x['fPySingleMuon_0'], x['fPzSingleMuon_0']  ), axis=1)\n",
    "\n",
    "\n",
    "\n",
    "# data_df['Sum']      = data_df.apply(lambda x: x['fPxSingleMuon_0']+ x['fPySingleMuon_0']   , axis=1)\n",
    "data_df['CosTheta'] = data_df.apply(lambda x: CosThetaTrueCollinsSoper(x['fPxSingleMuon_0'], x['fPySingleMuon_0'], x['fPzSingleMuon_0'], x['fEnergySingleMuon_0'], x['fPxSingleMuon_1'], x['fPySingleMuon_1'], x['fPzSingleMuon_1'],  x['fEnergySingleMuon_1']   ), axis=1)\n",
    "data_df['Phi']      = data_df.apply(lambda x: PhiTrueCollinsSoper(     x['fPxSingleMuon_0'], x['fPySingleMuon_0'], x['fPzSingleMuon_0'], x['fEnergySingleMuon_0'], x['fPxSingleMuon_1'], x['fPySingleMuon_1'], x['fPzSingleMuon_1'],  x['fEnergySingleMuon_1']   ), axis=1)\n"
   ]
  },
  {
   "cell_type": "code",
   "execution_count": 17,
   "metadata": {},
   "outputs": [
    {
     "data": {
      "text/html": [
       "<div>\n",
       "<style scoped>\n",
       "    .dataframe tbody tr th:only-of-type {\n",
       "        vertical-align: middle;\n",
       "    }\n",
       "\n",
       "    .dataframe tbody tr th {\n",
       "        vertical-align: top;\n",
       "    }\n",
       "\n",
       "    .dataframe thead th {\n",
       "        text-align: right;\n",
       "    }\n",
       "</style>\n",
       "<table border=\"1\" class=\"dataframe\">\n",
       "  <thead>\n",
       "    <tr style=\"text-align: right;\">\n",
       "      <th></th>\n",
       "      <th>fInvariantMassDimuon</th>\n",
       "      <th>fRapidityDimuon</th>\n",
       "      <th>fPtDimuon</th>\n",
       "      <th>fRapiditySingleMuon_0</th>\n",
       "      <th>fPtSingleMuon_0</th>\n",
       "      <th>fPhiSingleMuon_0</th>\n",
       "      <th>fRapiditySingleMuon_1</th>\n",
       "      <th>fPtSingleMuon_1</th>\n",
       "      <th>fPhiSingleMuon_1</th>\n",
       "      <th>fPxSingleMuon_0</th>\n",
       "      <th>fPySingleMuon_0</th>\n",
       "      <th>fPzSingleMuon_0</th>\n",
       "      <th>fEnergySingleMuon_0</th>\n",
       "      <th>fPxSingleMuon_1</th>\n",
       "      <th>fPySingleMuon_1</th>\n",
       "      <th>fPzSingleMuon_1</th>\n",
       "      <th>fEnergySingleMuon_1</th>\n",
       "      <th>CosTheta</th>\n",
       "      <th>Phi</th>\n",
       "    </tr>\n",
       "    <tr>\n",
       "      <th>entry</th>\n",
       "      <th></th>\n",
       "      <th></th>\n",
       "      <th></th>\n",
       "      <th></th>\n",
       "      <th></th>\n",
       "      <th></th>\n",
       "      <th></th>\n",
       "      <th></th>\n",
       "      <th></th>\n",
       "      <th></th>\n",
       "      <th></th>\n",
       "      <th></th>\n",
       "      <th></th>\n",
       "      <th></th>\n",
       "      <th></th>\n",
       "      <th></th>\n",
       "      <th></th>\n",
       "      <th></th>\n",
       "      <th></th>\n",
       "    </tr>\n",
       "  </thead>\n",
       "  <tbody>\n",
       "    <tr>\n",
       "      <td>0</td>\n",
       "      <td>3.187552</td>\n",
       "      <td>-3.186158</td>\n",
       "      <td>0.090051</td>\n",
       "      <td>-3.625024</td>\n",
       "      <td>1.478117</td>\n",
       "      <td>1.809376</td>\n",
       "      <td>-2.733007</td>\n",
       "      <td>1.410136</td>\n",
       "      <td>4.991878</td>\n",
       "      <td>-0.349313</td>\n",
       "      <td>1.436249</td>\n",
       "      <td>-27.713929</td>\n",
       "      <td>27.753519</td>\n",
       "      <td>0.389007</td>\n",
       "      <td>-1.355418</td>\n",
       "      <td>-10.797440</td>\n",
       "      <td>10.889644</td>\n",
       "      <td>-0.419608</td>\n",
       "      <td>-2.426581</td>\n",
       "    </tr>\n",
       "    <tr>\n",
       "      <td>1</td>\n",
       "      <td>1.644389</td>\n",
       "      <td>-3.617796</td>\n",
       "      <td>0.188531</td>\n",
       "      <td>-3.207965</td>\n",
       "      <td>0.683575</td>\n",
       "      <td>0.365954</td>\n",
       "      <td>-3.972121</td>\n",
       "      <td>0.842962</td>\n",
       "      <td>3.374797</td>\n",
       "      <td>0.638310</td>\n",
       "      <td>0.244610</td>\n",
       "      <td>-8.438142</td>\n",
       "      <td>8.466444</td>\n",
       "      <td>-0.820144</td>\n",
       "      <td>-0.194805</td>\n",
       "      <td>-22.371470</td>\n",
       "      <td>22.387595</td>\n",
       "      <td>0.368334</td>\n",
       "      <td>0.562841</td>\n",
       "    </tr>\n",
       "    <tr>\n",
       "      <td>2</td>\n",
       "      <td>1.884060</td>\n",
       "      <td>-2.830700</td>\n",
       "      <td>0.035087</td>\n",
       "      <td>-2.544213</td>\n",
       "      <td>0.911587</td>\n",
       "      <td>3.395098</td>\n",
       "      <td>-3.141108</td>\n",
       "      <td>0.879624</td>\n",
       "      <td>0.269667</td>\n",
       "      <td>-0.882452</td>\n",
       "      <td>-0.228625</td>\n",
       "      <td>-5.767912</td>\n",
       "      <td>5.840459</td>\n",
       "      <td>0.847834</td>\n",
       "      <td>0.234341</td>\n",
       "      <td>-10.153607</td>\n",
       "      <td>10.192185</td>\n",
       "      <td>0.291448</td>\n",
       "      <td>-2.716359</td>\n",
       "    </tr>\n",
       "    <tr>\n",
       "      <td>3</td>\n",
       "      <td>4.143265</td>\n",
       "      <td>-3.354141</td>\n",
       "      <td>0.036438</td>\n",
       "      <td>-3.822192</td>\n",
       "      <td>1.876426</td>\n",
       "      <td>2.981404</td>\n",
       "      <td>-2.880970</td>\n",
       "      <td>1.840997</td>\n",
       "      <td>6.127579</td>\n",
       "      <td>-1.852402</td>\n",
       "      <td>0.299298</td>\n",
       "      <td>-42.859830</td>\n",
       "      <td>42.901016</td>\n",
       "      <td>1.818754</td>\n",
       "      <td>-0.285316</td>\n",
       "      <td>-16.362311</td>\n",
       "      <td>16.465894</td>\n",
       "      <td>-0.439271</td>\n",
       "      <td>-2.906031</td>\n",
       "    </tr>\n",
       "    <tr>\n",
       "      <td>4</td>\n",
       "      <td>2.930918</td>\n",
       "      <td>-3.074141</td>\n",
       "      <td>0.082999</td>\n",
       "      <td>-2.680881</td>\n",
       "      <td>1.366783</td>\n",
       "      <td>3.538862</td>\n",
       "      <td>-3.481849</td>\n",
       "      <td>1.336783</td>\n",
       "      <td>0.454529</td>\n",
       "      <td>-1.260339</td>\n",
       "      <td>-0.528812</td>\n",
       "      <td>-9.929302</td>\n",
       "      <td>10.023487</td>\n",
       "      <td>1.201056</td>\n",
       "      <td>0.586901</td>\n",
       "      <td>-21.715403</td>\n",
       "      <td>21.756766</td>\n",
       "      <td>0.381401</td>\n",
       "      <td>-1.940429</td>\n",
       "    </tr>\n",
       "    <tr>\n",
       "      <td>...</td>\n",
       "      <td>...</td>\n",
       "      <td>...</td>\n",
       "      <td>...</td>\n",
       "      <td>...</td>\n",
       "      <td>...</td>\n",
       "      <td>...</td>\n",
       "      <td>...</td>\n",
       "      <td>...</td>\n",
       "      <td>...</td>\n",
       "      <td>...</td>\n",
       "      <td>...</td>\n",
       "      <td>...</td>\n",
       "      <td>...</td>\n",
       "      <td>...</td>\n",
       "      <td>...</td>\n",
       "      <td>...</td>\n",
       "      <td>...</td>\n",
       "      <td>...</td>\n",
       "      <td>...</td>\n",
       "    </tr>\n",
       "    <tr>\n",
       "      <td>411</td>\n",
       "      <td>3.413912</td>\n",
       "      <td>-3.241708</td>\n",
       "      <td>0.227106</td>\n",
       "      <td>-3.886805</td>\n",
       "      <td>1.450008</td>\n",
       "      <td>0.799146</td>\n",
       "      <td>-2.546659</td>\n",
       "      <td>1.317420</td>\n",
       "      <td>3.807233</td>\n",
       "      <td>1.011119</td>\n",
       "      <td>1.039309</td>\n",
       "      <td>-35.332623</td>\n",
       "      <td>35.362522</td>\n",
       "      <td>-1.036179</td>\n",
       "      <td>-0.813590</td>\n",
       "      <td>-8.356429</td>\n",
       "      <td>8.460299</td>\n",
       "      <td>-0.586742</td>\n",
       "      <td>2.194970</td>\n",
       "    </tr>\n",
       "    <tr>\n",
       "      <td>412</td>\n",
       "      <td>2.111700</td>\n",
       "      <td>-3.322703</td>\n",
       "      <td>0.038155</td>\n",
       "      <td>-3.303247</td>\n",
       "      <td>1.051356</td>\n",
       "      <td>4.995513</td>\n",
       "      <td>-3.352243</td>\n",
       "      <td>1.049454</td>\n",
       "      <td>1.890202</td>\n",
       "      <td>0.293704</td>\n",
       "      <td>-1.009499</td>\n",
       "      <td>-14.279546</td>\n",
       "      <td>14.318587</td>\n",
       "      <td>-0.329531</td>\n",
       "      <td>0.996375</td>\n",
       "      <td>-14.971377</td>\n",
       "      <td>15.008485</td>\n",
       "      <td>0.024611</td>\n",
       "      <td>-1.620621</td>\n",
       "    </tr>\n",
       "    <tr>\n",
       "      <td>413</td>\n",
       "      <td>3.022527</td>\n",
       "      <td>-3.590479</td>\n",
       "      <td>0.231889</td>\n",
       "      <td>-3.190801</td>\n",
       "      <td>1.301486</td>\n",
       "      <td>3.203230</td>\n",
       "      <td>-3.940235</td>\n",
       "      <td>1.521584</td>\n",
       "      <td>0.113521</td>\n",
       "      <td>-1.299015</td>\n",
       "      <td>-0.080169</td>\n",
       "      <td>-15.791425</td>\n",
       "      <td>15.845319</td>\n",
       "      <td>1.511790</td>\n",
       "      <td>0.172360</td>\n",
       "      <td>-39.113241</td>\n",
       "      <td>39.142968</td>\n",
       "      <td>0.358536</td>\n",
       "      <td>-0.320065</td>\n",
       "    </tr>\n",
       "    <tr>\n",
       "      <td>414</td>\n",
       "      <td>3.559135</td>\n",
       "      <td>-3.052379</td>\n",
       "      <td>0.092275</td>\n",
       "      <td>-2.872117</td>\n",
       "      <td>1.790280</td>\n",
       "      <td>1.362501</td>\n",
       "      <td>-3.245512</td>\n",
       "      <td>1.702597</td>\n",
       "      <td>4.520559</td>\n",
       "      <td>0.370217</td>\n",
       "      <td>1.751583</td>\n",
       "      <td>-15.770420</td>\n",
       "      <td>15.872064</td>\n",
       "      <td>-0.324610</td>\n",
       "      <td>-1.671366</td>\n",
       "      <td>-21.823807</td>\n",
       "      <td>21.890376</td>\n",
       "      <td>0.184743</td>\n",
       "      <td>-2.824758</td>\n",
       "    </tr>\n",
       "    <tr>\n",
       "      <td>415</td>\n",
       "      <td>2.950842</td>\n",
       "      <td>-3.189497</td>\n",
       "      <td>0.080993</td>\n",
       "      <td>-2.911168</td>\n",
       "      <td>1.430616</td>\n",
       "      <td>2.628285</td>\n",
       "      <td>-3.479690</td>\n",
       "      <td>1.398145</td>\n",
       "      <td>5.822349</td>\n",
       "      <td>-1.246245</td>\n",
       "      <td>0.702519</td>\n",
       "      <td>-13.107180</td>\n",
       "      <td>13.185446</td>\n",
       "      <td>1.252292</td>\n",
       "      <td>-0.621752</td>\n",
       "      <td>-22.663128</td>\n",
       "      <td>22.706460</td>\n",
       "      <td>0.277564</td>\n",
       "      <td>-1.983111</td>\n",
       "    </tr>\n",
       "  </tbody>\n",
       "</table>\n",
       "<p>416 rows × 19 columns</p>\n",
       "</div>"
      ],
      "text/plain": [
       "       fInvariantMassDimuon  fRapidityDimuon  fPtDimuon  \\\n",
       "entry                                                     \n",
       "0                  3.187552        -3.186158   0.090051   \n",
       "1                  1.644389        -3.617796   0.188531   \n",
       "2                  1.884060        -2.830700   0.035087   \n",
       "3                  4.143265        -3.354141   0.036438   \n",
       "4                  2.930918        -3.074141   0.082999   \n",
       "...                     ...              ...        ...   \n",
       "411                3.413912        -3.241708   0.227106   \n",
       "412                2.111700        -3.322703   0.038155   \n",
       "413                3.022527        -3.590479   0.231889   \n",
       "414                3.559135        -3.052379   0.092275   \n",
       "415                2.950842        -3.189497   0.080993   \n",
       "\n",
       "       fRapiditySingleMuon_0  fPtSingleMuon_0  fPhiSingleMuon_0  \\\n",
       "entry                                                             \n",
       "0                  -3.625024         1.478117          1.809376   \n",
       "1                  -3.207965         0.683575          0.365954   \n",
       "2                  -2.544213         0.911587          3.395098   \n",
       "3                  -3.822192         1.876426          2.981404   \n",
       "4                  -2.680881         1.366783          3.538862   \n",
       "...                      ...              ...               ...   \n",
       "411                -3.886805         1.450008          0.799146   \n",
       "412                -3.303247         1.051356          4.995513   \n",
       "413                -3.190801         1.301486          3.203230   \n",
       "414                -2.872117         1.790280          1.362501   \n",
       "415                -2.911168         1.430616          2.628285   \n",
       "\n",
       "       fRapiditySingleMuon_1  fPtSingleMuon_1  fPhiSingleMuon_1  \\\n",
       "entry                                                             \n",
       "0                  -2.733007         1.410136          4.991878   \n",
       "1                  -3.972121         0.842962          3.374797   \n",
       "2                  -3.141108         0.879624          0.269667   \n",
       "3                  -2.880970         1.840997          6.127579   \n",
       "4                  -3.481849         1.336783          0.454529   \n",
       "...                      ...              ...               ...   \n",
       "411                -2.546659         1.317420          3.807233   \n",
       "412                -3.352243         1.049454          1.890202   \n",
       "413                -3.940235         1.521584          0.113521   \n",
       "414                -3.245512         1.702597          4.520559   \n",
       "415                -3.479690         1.398145          5.822349   \n",
       "\n",
       "       fPxSingleMuon_0  fPySingleMuon_0  fPzSingleMuon_0  fEnergySingleMuon_0  \\\n",
       "entry                                                                           \n",
       "0            -0.349313         1.436249       -27.713929            27.753519   \n",
       "1             0.638310         0.244610        -8.438142             8.466444   \n",
       "2            -0.882452        -0.228625        -5.767912             5.840459   \n",
       "3            -1.852402         0.299298       -42.859830            42.901016   \n",
       "4            -1.260339        -0.528812        -9.929302            10.023487   \n",
       "...                ...              ...              ...                  ...   \n",
       "411           1.011119         1.039309       -35.332623            35.362522   \n",
       "412           0.293704        -1.009499       -14.279546            14.318587   \n",
       "413          -1.299015        -0.080169       -15.791425            15.845319   \n",
       "414           0.370217         1.751583       -15.770420            15.872064   \n",
       "415          -1.246245         0.702519       -13.107180            13.185446   \n",
       "\n",
       "       fPxSingleMuon_1  fPySingleMuon_1  fPzSingleMuon_1  fEnergySingleMuon_1  \\\n",
       "entry                                                                           \n",
       "0             0.389007        -1.355418       -10.797440            10.889644   \n",
       "1            -0.820144        -0.194805       -22.371470            22.387595   \n",
       "2             0.847834         0.234341       -10.153607            10.192185   \n",
       "3             1.818754        -0.285316       -16.362311            16.465894   \n",
       "4             1.201056         0.586901       -21.715403            21.756766   \n",
       "...                ...              ...              ...                  ...   \n",
       "411          -1.036179        -0.813590        -8.356429             8.460299   \n",
       "412          -0.329531         0.996375       -14.971377            15.008485   \n",
       "413           1.511790         0.172360       -39.113241            39.142968   \n",
       "414          -0.324610        -1.671366       -21.823807            21.890376   \n",
       "415           1.252292        -0.621752       -22.663128            22.706460   \n",
       "\n",
       "       CosTheta       Phi  \n",
       "entry                      \n",
       "0     -0.419608 -2.426581  \n",
       "1      0.368334  0.562841  \n",
       "2      0.291448 -2.716359  \n",
       "3     -0.439271 -2.906031  \n",
       "4      0.381401 -1.940429  \n",
       "...         ...       ...  \n",
       "411   -0.586742  2.194970  \n",
       "412    0.024611 -1.620621  \n",
       "413    0.358536 -0.320065  \n",
       "414    0.184743 -2.824758  \n",
       "415    0.277564 -1.983111  \n",
       "\n",
       "[416 rows x 19 columns]"
      ]
     },
     "execution_count": 17,
     "metadata": {},
     "output_type": "execute_result"
    }
   ],
   "source": [
    "data_df"
   ]
  },
  {
   "cell_type": "code",
   "execution_count": 19,
   "metadata": {},
   "outputs": [
    {
     "data": {
      "text/plain": [
       "<matplotlib.axes._subplots.AxesSubplot at 0xa1785bf50>"
      ]
     },
     "execution_count": 19,
     "metadata": {},
     "output_type": "execute_result"
    },
    {
     "data": {
      "image/png": "[encoded data removed]",
      "text/plain": [
       "<Figure size 432x288 with 1 Axes>"
      ]
     },
     "metadata": {
      "needs_background": "light"
     },
     "output_type": "display_data"
    }
   ],
   "source": [
    "data_df['CosTheta'].plot.hist(bins=100, alpha=0.6)\n"
   ]
  },
  {
   "cell_type": "code",
   "execution_count": 20,
   "metadata": {},
   "outputs": [
    {
     "data": {
      "text/plain": [
       "<matplotlib.axes._subplots.AxesSubplot at 0xa17df8510>"
      ]
     },
     "execution_count": 20,
     "metadata": {},
     "output_type": "execute_result"
    },
    {
     "data": {
      "image/png": "[encoded data removed]",
      "text/plain": [
       "<Figure size 432x288 with 1 Axes>"
      ]
     },
     "metadata": {
      "needs_background": "light"
     },
     "output_type": "display_data"
    }
   ],
   "source": [
    "data_df['Phi'].plot.hist(bins=100, alpha=0.6)\n"
   ]
  },
  {
   "cell_type": "code",
   "execution_count": null,
   "metadata": {},
   "outputs": [],
   "source": []
  },
  {
   "cell_type": "code",
   "execution_count": null,
   "metadata": {},
   "outputs": [],
   "source": []
  },
  {
   "cell_type": "code",
   "execution_count": null,
   "metadata": {},
   "outputs": [],
   "source": []
  },
  {
   "cell_type": "code",
   "execution_count": null,
   "metadata": {},
   "outputs": [],
   "source": []
  },
  {
   "cell_type": "code",
   "execution_count": 18,
   "metadata": {},
   "outputs": [
    {
     "ename": "NameError",
     "evalue": "name 'df_gener' is not defined",
     "output_type": "error",
     "traceback": [
      "\u001b[0;31m---------------------------------------------------------------------------\u001b[0m",
      "\u001b[0;31mNameError\u001b[0m                                 Traceback (most recent call last)",
      "\u001b[0;32m<ipython-input-18-3aab8b75d1a8>\u001b[0m in \u001b[0;36m<module>\u001b[0;34m\u001b[0m\n\u001b[1;32m      1\u001b[0m \u001b[0;31m# df_Rapidity_gen = df_gener.query('fMCTrkTrkM > 2.8 & fMCTrkTrkM < 3.3 & fMCTrkTrkY < -2.5 & fMCTrkTrkY > -4.0 ')\u001b[0m\u001b[0;34m\u001b[0m\u001b[0;34m\u001b[0m\u001b[0;34m\u001b[0m\u001b[0m\n\u001b[0;32m----> 2\u001b[0;31m \u001b[0mdf_Rapidity_gen\u001b[0m \u001b[0;34m=\u001b[0m \u001b[0mdf_gener\u001b[0m\u001b[0;34m.\u001b[0m\u001b[0mquery\u001b[0m\u001b[0;34m(\u001b[0m\u001b[0;34m'fMCTrkTrkY < -2.5 & fMCTrkTrkY > -4.0 '\u001b[0m\u001b[0;34m)\u001b[0m\u001b[0;34m\u001b[0m\u001b[0;34m\u001b[0m\u001b[0m\n\u001b[0m\u001b[1;32m      3\u001b[0m \u001b[0mgeneratedevents_Ycut\u001b[0m \u001b[0;34m=\u001b[0m \u001b[0mlen\u001b[0m\u001b[0;34m(\u001b[0m\u001b[0mdf_Rapidity_gen\u001b[0m\u001b[0;34m.\u001b[0m\u001b[0mindex\u001b[0m\u001b[0;34m)\u001b[0m\u001b[0;34m\u001b[0m\u001b[0;34m\u001b[0m\u001b[0m\n\u001b[1;32m      4\u001b[0m \u001b[0mgeneratedevents_Ycut\u001b[0m\u001b[0;34m\u001b[0m\u001b[0;34m\u001b[0m\u001b[0m\n",
      "\u001b[0;31mNameError\u001b[0m: name 'df_gener' is not defined"
     ]
    }
   ],
   "source": [
    "# df_Rapidity_gen = df_gener.query('fMCTrkTrkM > 2.8 & fMCTrkTrkM < 3.3 & fMCTrkTrkY < -2.5 & fMCTrkTrkY > -4.0 ')\n",
    "df_Rapidity_gen = df_gener.query('fMCTrkTrkY < -2.5 & fMCTrkTrkY > -4.0 ')\n",
    "generatedevents_Ycut = len(df_Rapidity_gen.index)\n",
    "generatedevents_Ycut"
   ]
  },
  {
   "cell_type": "code",
   "execution_count": null,
   "metadata": {},
   "outputs": [],
   "source": [
    "InvMass_recon = df_recon['fTrkTrkM'].plot.hist(bins=100, alpha=0.6)\n",
    "# minv_bkgMine = df_backgroundMine['fInvariantMassDimuon'].plot.hist(bins=100, alpha=0.6)\n"
   ]
  },
  {
   "cell_type": "code",
   "execution_count": null,
   "metadata": {},
   "outputs": [],
   "source": [
    "InvMass_gen = df_gener['fMCTrkTrkM'].plot.hist(bins=100, alpha=0.6)\n"
   ]
  },
  {
   "cell_type": "markdown",
   "metadata": {},
   "source": [
    "### Pandas \n",
    "\n",
    "Pandas is a library that provides data structures and analysis tools for Pyhton. The two primary data structures of pandas are **Series** (1-dimensional) and **DataFrame** (2-dimensional) and we will work with them.\n",
    "\n",
    "- **Series** are 1-dimensional ndarray with axis labels.\n",
    "- **DataFrame** are 2-dimensional tabular data structure with labeled axes (rows and columns).\n",
    "\n",
    "For more details: https://pandas.pydata.org/pandas-docs/stable/\n",
    "\n"
   ]
  },
  {
   "cell_type": "markdown",
   "metadata": {},
   "source": [
    "\n",
    "\n",
    "One of the most interesting tool of DataFrame is the *query()* method (https://pandas.pydata.org/pandas-docs/stable/reference/api/pandas.DataFrame.query.html). With this method we can query the DataFrame getting elements which **satisfy a boolean expression**."
   ]
  },
  {
   "cell_type": "markdown",
   "metadata": {},
   "source": [
    "A \"trick\" to plot more than one distribution is to create a new dataframe with the data to plot in different columns"
   ]
  },
  {
   "cell_type": "code",
   "execution_count": null,
   "metadata": {},
   "outputs": [],
   "source": [
    "#dataframe with invariant-mass of background and signal\n",
    "# df_new = pd.concat([df_background['InvMass'], df_signal['InvMass']], axis=1)\n",
    "# df_new.head()"
   ]
  },
  {
   "cell_type": "code",
   "execution_count": null,
   "metadata": {
    "scrolled": true
   },
   "outputs": [],
   "source": [
    "# minv_compared = df_new.plot.hist(bins=100, alpha=0.6)"
   ]
  },
  {
   "cell_type": "markdown",
   "metadata": {},
   "source": [
    "## Data preparation\n",
    "We need to tell at the model what is signal and what is background.\n",
    "\n",
    "So we add a 'y' column and label signal and background with **y=1** for signal and **y=0** for background. Then we stack togheter signal and background. This will be the reference for the ML model. "
   ]
  },
  {
   "cell_type": "code",
   "execution_count": null,
   "metadata": {},
   "outputs": [],
   "source": [
    "plot_VZERO = df_recon['fV0TotalNCells'].plot.hist(bins=100, alpha=0.6)\n"
   ]
  },
  {
   "cell_type": "code",
   "execution_count": null,
   "metadata": {},
   "outputs": [],
   "source": [
    "plot_fL0inputs = df_recon['fL0inputs'].plot.hist(bins=100, alpha=0.6)\n"
   ]
  },
  {
   "cell_type": "code",
   "execution_count": null,
   "metadata": {},
   "outputs": [],
   "source": [
    "def return0MSL(x):\n",
    "    return ((x & (1<<5))>>5)"
   ]
  },
  {
   "cell_type": "code",
   "execution_count": null,
   "metadata": {},
   "outputs": [],
   "source": [
    "def return0MUL(x):\n",
    "    return ((x & (1<<13))>>13)"
   ]
  },
  {
   "cell_type": "code",
   "execution_count": null,
   "metadata": {},
   "outputs": [],
   "source": [
    "df_recon['f0MSL'] = df_recon.fL0inputs.apply(return0MSL)\n",
    "plot_0MSL = df_recon['f0MSL'].plot.hist(bins=100, alpha=0.6)\n"
   ]
  },
  {
   "cell_type": "code",
   "execution_count": null,
   "metadata": {
    "scrolled": true
   },
   "outputs": [],
   "source": [
    "df_recon['f0MUL'] = df_recon.fL0inputs.apply(return0MUL)\n",
    "plot_0MUL = df_recon['f0MUL'].plot.hist(bins=100, alpha=0.6)\n"
   ]
  },
  {
   "cell_type": "code",
   "execution_count": null,
   "metadata": {},
   "outputs": [],
   "source": [
    "len(df_recon.index)"
   ]
  },
  {
   "cell_type": "code",
   "execution_count": null,
   "metadata": {},
   "outputs": [],
   "source": [
    "df_InvMassCutPlusRapidity_for0MUL = df_recon.query('fTrkTrkY < -2.5 & fTrkTrkY > -4.0 ')\n",
    "plot_0MUL_rightrapidity = df_InvMassCutPlusRapidity_for0MUL['f0MUL'].plot.hist(bins=100, alpha=0.6)\n",
    "len(df_InvMassCutPlusRapidity_for0MUL.index)"
   ]
  },
  {
   "cell_type": "code",
   "execution_count": null,
   "metadata": {},
   "outputs": [],
   "source": [
    "df_InvMassCutPlusRapidity = df_recon.query('fTrkTrkM > 2.8 & fTrkTrkM < 3.3 & fTrkTrkY < -2.5 & fTrkTrkY > -4.0 ')\n",
    "df_InvMassCutPlusTriggerConditionPlusRapidity = df_InvMassCutPlusRapidity.query('f0MUL > 0.5')\n",
    "df_InvMassCutPlusTriggerConditionPlusRapidity['fTrkTrkM'].plot.hist(bins=100, alpha=0.6)\n",
    "reconstructedevents = len(df_InvMassCutPlusTriggerConditionPlusRapidity.index)\n",
    "reconstructedevents\n",
    "# len(df_InvMassCutPlusRapidity.index)"
   ]
  },
  {
   "cell_type": "code",
   "execution_count": null,
   "metadata": {},
   "outputs": [],
   "source": [
    "InvMass_recAfterCuts = df_InvMassCutPlusTriggerConditionPlusRapidity['fTrkTrkM'].plot.hist(bins=100, alpha=0.6)\n",
    "len(df_InvMassCutPlusTriggerConditionPlusRapidity.index)"
   ]
  },
  {
   "cell_type": "code",
   "execution_count": null,
   "metadata": {},
   "outputs": [],
   "source": [
    "AxE = reconstructedevents/generatedevents_Ycut\n",
    "AxE"
   ]
  },
  {
   "cell_type": "markdown",
   "metadata": {},
   "source": [
    "### Template for Pt distr"
   ]
  },
  {
   "cell_type": "code",
   "execution_count": null,
   "metadata": {},
   "outputs": [],
   "source": [
    "bins = np.arange(0,5, 0.10)"
   ]
  },
  {
   "cell_type": "code",
   "execution_count": null,
   "metadata": {},
   "outputs": [],
   "source": [
    "df_InvMassCutPlusTriggerConditionPlusRapidity['fTrkTrkPt'].hist(bins=bins)"
   ]
  },
  {
   "cell_type": "code",
   "execution_count": null,
   "metadata": {},
   "outputs": [],
   "source": [
    "PtDistr = df_InvMassCutPlusTriggerConditionPlusRapidity['fTrkTrkPt'].to_numpy()"
   ]
  },
  {
   "cell_type": "code",
   "execution_count": null,
   "metadata": {
    "scrolled": true
   },
   "outputs": [],
   "source": [
    "counts, edges, plot = plt.hist(PtDistr, bins=bins)"
   ]
  },
  {
   "cell_type": "code",
   "execution_count": null,
   "metadata": {
    "scrolled": true
   },
   "outputs": [],
   "source": [
    "counts"
   ]
  },
  {
   "cell_type": "code",
   "execution_count": null,
   "metadata": {},
   "outputs": [],
   "source": []
  },
  {
   "cell_type": "code",
   "execution_count": null,
   "metadata": {},
   "outputs": [],
   "source": []
  },
  {
   "cell_type": "code",
   "execution_count": null,
   "metadata": {},
   "outputs": [],
   "source": []
  },
  {
   "cell_type": "code",
   "execution_count": null,
   "metadata": {},
   "outputs": [],
   "source": []
  },
  {
   "cell_type": "markdown",
   "metadata": {},
   "source": [
    "Now we can fit the distribution and extract the signal"
   ]
  },
  {
   "cell_type": "code",
   "execution_count": null,
   "metadata": {},
   "outputs": [],
   "source": [
    "from scipy.optimize import curve_fit\n",
    "from scipy import integrate\n",
    "\n",
    "def fit_invmass(df):\n",
    "    \n",
    "    # histogram of the data\n",
    "    counts, bins = np.histogram(df, bins=40, range=[2.96, 3.05])\n",
    "    \n",
    "    # define functions for fitting    \n",
    "    def gaus_function(x, N, mu, sigma):\n",
    "        return N * np.exp(-(x-mu)**2/(2*sigma**2))\n",
    "    \n",
    "    def pol2_function(x, a, b):\n",
    "        return (a + x*b)\n",
    "    \n",
    "    def fit_function(x, a, b, N, mu, sigma):\n",
    "        return pol2_function(x, a, b) + gaus_function(x, N, mu, sigma)\n",
    "    \n",
    "    # x axis ranges for plots\n",
    "    x_point = 0.5 * (bins[1:] + bins[:-1])\n",
    "    r = np.arange(2.96, 3.05, 0.00001)\n",
    "    r_red = np.arange(2.98, 3.005, 0.0001)\n",
    "    \n",
    "    # fit the invariant mass distribution with fit_function() pol2+gauss\n",
    "    popt, pcov = curve_fit(fit_function, x_point, counts, p0 = [100, -1, 100, 2.99, 0.001])\n",
    "    \n",
    "    # plot data\n",
    "    plt.errorbar(x_point, counts, yerr=np.sqrt(counts), fmt='.', ecolor='k', color='k', elinewidth=1., label='Data')\n",
    "    \n",
    "    # plot pol2 and gauss obtained in the fit separately\n",
    "    plt.plot(r_red, gaus_function(r_red, N=popt[2], mu=popt[3], sigma=popt[4]), label='gaus', color='red')\n",
    "    plt.plot(r, pol2_function(r, a=popt[0], b=popt[1]), label='pol2', color='green')\n",
    "\n",
    "    # plot the global fit\n",
    "    plt.plot(r, fit_function(r, *popt), label='pol2+gauss', color='blue')\n",
    "    \n",
    "    # compute significance of the signal\n",
    "    signal = integrate.quad(gaus_function, 2.98, 3.005, args=(popt[2], popt[3], popt[4]))[0] / 0.00225\n",
    "    background = integrate.quad(pol2_function, 2.98, 3.005, args=(popt[0], popt[1]))[0] / 0.00225\n",
    "    print(f'Signal counts: {signal:.0f}')\n",
    "    print(f'Background counts: {background:.0f}')     \n",
    "    significance = signal / np.sqrt(signal + background)\n",
    "\n",
    "    # Add some axis labels\n",
    "    plt.title(f'significance: {significance:.1f}')\n",
    "    plt.legend()\n",
    "    plt.xlabel('$M_{^{3}He+\\pi}$ $(\\mathrm{GeV/}c^2)$')\n",
    "    plt.ylabel('counts / 2.25 $\\mathrm{MeV/}c^2$')\n",
    "    plt.show()"
   ]
  },
  {
   "cell_type": "code",
   "execution_count": null,
   "metadata": {},
   "outputs": [],
   "source": [
    "fit_invmass(inv_sel_simple)"
   ]
  },
  {
   "cell_type": "markdown",
   "metadata": {},
   "source": [
    "### Optimized model\n",
    "We can optimize the hyper-parameters to have a **more complex model**"
   ]
  },
  {
   "cell_type": "markdown",
   "metadata": {},
   "source": [
    "## Final Excercise\n",
    "\n",
    "Using the query function of pandas perform the \"standard\" selections"
   ]
  },
  {
   "cell_type": "code",
   "execution_count": null,
   "metadata": {},
   "outputs": [],
   "source": [
    "df_lin_sel = df_data.query('V0CosPA > 0.995')\n",
    "inv_mass_lin_sel = df_lin_sel['InvMass']"
   ]
  },
  {
   "cell_type": "code",
   "execution_count": null,
   "metadata": {},
   "outputs": [],
   "source": [
    "fit_invmass(inv_mass_lin_sel)"
   ]
  },
  {
   "cell_type": "code",
   "execution_count": null,
   "metadata": {},
   "outputs": [],
   "source": [
    "import ROOT"
   ]
  },
  {
   "cell_type": "code",
   "execution_count": null,
   "metadata": {},
   "outputs": [],
   "source": []
  },
  {
   "cell_type": "code",
   "execution_count": null,
   "metadata": {},
   "outputs": [],
   "source": []
  }
 ],
 "metadata": {
  "kernelspec": {
   "display_name": "Python 3",
   "language": "python",
   "name": "python3"
  },
  "language_info": {
   "codemirror_mode": {
    "name": "ipython",
    "version": 3
   },
   "file_extension": ".py",
   "mimetype": "text/x-python",
   "name": "python",
   "nbconvert_exporter": "python",
   "pygments_lexer": "ipython3",
   "version": "3.7.4"
  }
 },
 "nbformat": 4,
 "nbformat_minor": 2
}
